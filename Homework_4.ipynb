{
  "nbformat": 4,
  "nbformat_minor": 0,
  "metadata": {
    "accelerator": "GPU",
    "colab": {
      "name": "Homework_4.ipynb",
      "provenance": [],
      "collapsed_sections": [],
      "toc_visible": true,
      "include_colab_link": true
    },
    "kernelspec": {
      "display_name": "Python 3",
      "language": "python",
      "name": "python3"
    },
    "language_info": {
      "codemirror_mode": {
        "name": "ipython",
        "version": 3
      },
      "file_extension": ".py",
      "mimetype": "text/x-python",
      "name": "python",
      "nbconvert_exporter": "python",
      "pygments_lexer": "ipython3",
      "version": "3.7.6"
    },
    "toc": {
      "base_numbering": 1,
      "nav_menu": {},
      "number_sections": true,
      "sideBar": true,
      "skip_h1_title": false,
      "title_cell": "Table of Contents",
      "title_sidebar": "Contents",
      "toc_cell": true,
      "toc_position": {},
      "toc_section_display": true,
      "toc_window_display": false
    }
  },
  "cells": [
    {
      "cell_type": "markdown",
      "metadata": {
        "id": "view-in-github",
        "colab_type": "text"
      },
      "source": [
        "<a href=\"https://colab.research.google.com/github/lydiateinfalt/DATS6202-MachineLearningI-Fall2021/blob/main/Homework_4.ipynb\" target=\"_parent\"><img src=\"https://colab.research.google.com/assets/colab-badge.svg\" alt=\"Open In Colab\"/></a>"
      ]
    },
    {
      "cell_type": "markdown",
      "metadata": {
        "id": "cMSn67px4ANI",
        "toc": true
      },
      "source": [
        "<h1>Table of Contents<span class=\"tocSkip\"></span></h1>\n",
        "<div class=\"toc\"><ul class=\"toc-item\"><li><span><a href=\"#Overview\" data-toc-modified-id=\"Overview-1\"><span class=\"toc-item-num\">1&nbsp;&nbsp;</span>Overview</a></span></li><li><span><a href=\"#Notebook-Configuration\" data-toc-modified-id=\"Notebook-Configuration-2\"><span class=\"toc-item-num\">2&nbsp;&nbsp;</span>Notebook Configuration</a></span><ul class=\"toc-item\"><li><span><a href=\"#Google-drive\" data-toc-modified-id=\"Google-drive-2.1\"><span class=\"toc-item-num\">2.1&nbsp;&nbsp;</span>Google drive</a></span></li><li><span><a href=\"#Warning\" data-toc-modified-id=\"Warning-2.2\"><span class=\"toc-item-num\">2.2&nbsp;&nbsp;</span>Warning</a></span></li><li><span><a href=\"#Matplotlib\" data-toc-modified-id=\"Matplotlib-2.3\"><span class=\"toc-item-num\">2.3&nbsp;&nbsp;</span>Matplotlib</a></span></li><li><span><a href=\"#TensorFlow\" data-toc-modified-id=\"TensorFlow-2.4\"><span class=\"toc-item-num\">2.4&nbsp;&nbsp;</span>TensorFlow</a></span></li><li><span><a href=\"#Random-seed\" data-toc-modified-id=\"Random-seed-2.5\"><span class=\"toc-item-num\">2.5&nbsp;&nbsp;</span>Random seed</a></span></li></ul></li><li><span><a href=\"#Data-Preprocessing\" data-toc-modified-id=\"Data-Preprocessing-3\"><span class=\"toc-item-num\">3&nbsp;&nbsp;</span>Data Preprocessing</a></span><ul class=\"toc-item\"><li><span><a href=\"#Loading-the-data\" data-toc-modified-id=\"Loading-the-data-3.1\"><span class=\"toc-item-num\">3.1&nbsp;&nbsp;</span>Loading the data</a></span><ul class=\"toc-item\"><li><span><a href=\"#Creating-the-directory-for-the-data\" data-toc-modified-id=\"Creating-the-directory-for-the-data-3.1.1\"><span class=\"toc-item-num\">3.1.1&nbsp;&nbsp;</span>Creating the directory for the data</a></span></li><li><span><a href=\"#Downloading-the-data-to-the-directory\" data-toc-modified-id=\"Downloading-the-data-to-the-directory-3.1.2\"><span class=\"toc-item-num\">3.1.2&nbsp;&nbsp;</span>Downloading the data to the directory</a></span></li></ul></li><li><span><a href=\"#Getting-the-name-of-the-target\" data-toc-modified-id=\"Getting-the-name-of-the-target-3.2\"><span class=\"toc-item-num\">3.2&nbsp;&nbsp;</span>Getting the name of the target</a></span></li><li><span><a href=\"#Getting-the-info\" data-toc-modified-id=\"Getting-the-info-3.3\"><span class=\"toc-item-num\">3.3&nbsp;&nbsp;</span>Getting the info</a></span></li><li><span><a href=\"#Getting-the-training,-validation-and-test-data\" data-toc-modified-id=\"Getting-the-training,-validation-and-test-data-3.4\"><span class=\"toc-item-num\">3.4&nbsp;&nbsp;</span>Getting the training, validation and test data</a></span></li><li><span><a href=\"#Normalizing-the-data\" data-toc-modified-id=\"Normalizing-the-data-3.5\"><span class=\"toc-item-num\">3.5&nbsp;&nbsp;</span>Normalizing the data</a></span></li><li><span><a href=\"#Shuffling,-batching-and-prefetching-the-data\" data-toc-modified-id=\"Shuffling,-batching-and-prefetching-the-data-3.6\"><span class=\"toc-item-num\">3.6&nbsp;&nbsp;</span>Shuffling, batching and prefetching the data</a></span></li></ul></li><li><span><a href=\"#Training\" data-toc-modified-id=\"Training-4\"><span class=\"toc-item-num\">4&nbsp;&nbsp;</span>Training</a></span><ul class=\"toc-item\"><li><span><a href=\"#Creating-the-directory-for-the-saved-model\" data-toc-modified-id=\"Creating-the-directory-for-the-saved-model-4.1\"><span class=\"toc-item-num\">4.1&nbsp;&nbsp;</span>Creating the directory for the saved model</a></span></li><li><span><a href=\"#Building-the-model\" data-toc-modified-id=\"Building-the-model-4.2\"><span class=\"toc-item-num\">4.2&nbsp;&nbsp;</span>Building the model</a></span></li><li><span><a href=\"#Compiling-the-model\" data-toc-modified-id=\"Compiling-the-model-4.3\"><span class=\"toc-item-num\">4.3&nbsp;&nbsp;</span>Compiling the model</a></span></li><li><span><a href=\"#Training-the-model\" data-toc-modified-id=\"Training-the-model-4.4\"><span class=\"toc-item-num\">4.4&nbsp;&nbsp;</span>Training the model</a></span><ul class=\"toc-item\"><li><span><a href=\"#Setting-callbacks\" data-toc-modified-id=\"Setting-callbacks-4.4.1\"><span class=\"toc-item-num\">4.4.1&nbsp;&nbsp;</span>Setting callbacks</a></span></li><li><span><a href=\"#Training,-evaluating-and-saving-the-best-model\" data-toc-modified-id=\"Training,-evaluating-and-saving-the-best-model-4.4.2\"><span class=\"toc-item-num\">4.4.2&nbsp;&nbsp;</span>Training, evaluating and saving the best model</a></span></li></ul></li><li><span><a href=\"#Plotting-the-learning-curve\" data-toc-modified-id=\"Plotting-the-learning-curve-4.5\"><span class=\"toc-item-num\">4.5&nbsp;&nbsp;</span>Plotting the learning curve</a></span><ul class=\"toc-item\"><li><span><a href=\"#Creating-the-directory-for-the-figure\" data-toc-modified-id=\"Creating-the-directory-for-the-figure-4.5.1\"><span class=\"toc-item-num\">4.5.1&nbsp;&nbsp;</span>Creating the directory for the figure</a></span></li><li><span><a href=\"#Plotting-the-figure\" data-toc-modified-id=\"Plotting-the-figure-4.5.2\"><span class=\"toc-item-num\">4.5.2&nbsp;&nbsp;</span>Plotting the figure</a></span></li></ul></li></ul></li><li><span><a href=\"#Testing-the-Best-Model\" data-toc-modified-id=\"Testing-the-Best-Model-5\"><span class=\"toc-item-num\">5&nbsp;&nbsp;</span>Testing the Best Model</a></span><ul class=\"toc-item\"><li><span><a href=\"#Loading-the-saved-model\" data-toc-modified-id=\"Loading-the-saved-model-5.1\"><span class=\"toc-item-num\">5.1&nbsp;&nbsp;</span>Loading the saved model</a></span></li><li><span><a href=\"#Evaluating-the-model\" data-toc-modified-id=\"Evaluating-the-model-5.2\"><span class=\"toc-item-num\">5.2&nbsp;&nbsp;</span>Evaluating the model</a></span></li></ul></li></ul></div>"
      ]
    },
    {
      "cell_type": "markdown",
      "metadata": {
        "id": "42yc1zUrzlEh"
      },
      "source": [
        "<b>\n",
        "<p>\n",
        "<center>\n",
        "<font size=\"5\">\n",
        "Popular Machine Learning Methods: Idea, Practice and Math\n",
        "</font>\n",
        "</center>\n",
        "</p>\n",
        "\n",
        "<p>\n",
        "<center>\n",
        "<font size=\"4\">\n",
        "Part 3, Chapter 2, Section 2: Training Deep Neural Networks\n",
        "</font>\n",
        "</center>\n",
        "</p>\n",
        "    \n",
        "<p>\n",
        "<center>\n",
        "<font size=\"4\">\n",
        "Homework 4\n",
        "</font>\n",
        "</center>\n",
        "</p>\n",
        "\n",
        "<p>\n",
        "<center>\n",
        "<font size=\"3\">\n",
        "Data Science, Columbian College of Arts & Sciences, George Washington University\n",
        "</font>\n",
        "</center>\n",
        "</p>\n",
        "\n",
        "<p>\n",
        "<center>\n",
        "<font size=\"3\">\n",
        "Yuxiao Huang\n",
        "</font>\n",
        "</center>\n",
        "</p>\n",
        "</b>\n",
        "\n",
        "<p>\n",
        "<center>\n",
        "<font size=\"3\">\n",
        "Lydia Teinfalt\n",
        "</font>\n",
        "</center>\n",
        "</p>\n",
        "</b>\n",
        "\n",
        "<p>\n",
        "<center>\n",
        "<font size=\"3\">\n",
        "Last Updated: 11/05/2021\n",
        "</font>\n",
        "</center>\n",
        "</p>\n",
        "</b>"
      ]
    },
    {
      "cell_type": "markdown",
      "metadata": {
        "id": "rT2SKHw2zlEi"
      },
      "source": [
        "# Overview"
      ]
    },
    {
      "cell_type": "markdown",
      "metadata": {
        "id": "asZWLrJKzlEj"
      },
      "source": [
        "- This notebook includes homework 4 for Training Deep Neural Networks (Part 3, Chapter 2, Section 2).\n",
        "- See the accompanied slides in our [github repository](https://github.com/yuxiaohuang/teaching/tree/master/gwu/machine_learning_I/fall_2020/slides/p3_deep_learning/p3_c2_supervised_learning/p3_c2_s2_training_deep_neural_networks).\n",
        "- Here we will work on TensorFlow Dataset [cifar10](https://www.tensorflow.org/datasets/catalog/cifar10).\n",
        "- The goal of this homework is tweaking the pipeline (including data preprocessing, building, compiling and training DNNs) implemented in [/p3 c2 s2 training_deep_neural_networks/case_study](https://github.com/yuxiaohuang/teaching/blob/master/gwu/machine_learning_I/fall_2020/code/p3_deep_learning/p3_c2_supervised_learning/p3_c2_s2_training_deep_neural_networks/case_study/case_study.ipynb) to make it work for the new dataset mentioned above.\n",
        "- Complete the missing parts indicated by # Implement me.\n",
        "- Particularly, the code should\n",
        "    - be bug-free (note that the output produced by your solution may not necessarily be the same as the provided output, due to version issues)\n",
        "    - be commented\n",
        "- **The baseline for this assignment is 0.4871. As per the grading rubrics (section 15 of the syllabus), if the test score of your best model is lower than or the same as the baseline, you will only receive 80% of the full mark. See more details in the grading rubrics.**\n",
        "- Submit an ipynb file named homework_4.ipynb to [blackboard](https://blackboard.gwu.edu) folder /Assignments/Homework_4/."
      ]
    },
    {
      "cell_type": "markdown",
      "metadata": {
        "id": "WJ-IbZqAgILJ"
      },
      "source": [
        "# Notebook Configuration"
      ]
    },
    {
      "cell_type": "markdown",
      "metadata": {
        "id": "H3yB94KtgMHu"
      },
      "source": [
        "## Google drive"
      ]
    },
    {
      "cell_type": "code",
      "metadata": {
        "colab": {
          "base_uri": "https://localhost:8080/"
        },
        "id": "jWmYBTOwgNs-",
        "scrolled": true,
        "outputId": "531fe0c7-29d3-48d3-bee7-121e1f1eea41"
      },
      "source": [
        "from google.colab import drive\n",
        "import sys\n",
        "\n",
        "# Mount Google Drive\n",
        "drive.mount('/content/drive')\n",
        "\n",
        "# Get the absolute path of the current folder\n",
        "abspath_curr = '/content/drive/My Drive/Colab Notebooks/DATS 6202/HW4'\n",
        "\n",
        "# Get the absolute path of the deep utilities folder\n",
        "abspath_util_deep = '/content/drive/My Drive/Colab Notebooks/DATS 6202/code/utilities/p3_deep_learning/'"
      ],
      "execution_count": 1,
      "outputs": [
        {
          "output_type": "stream",
          "name": "stdout",
          "text": [
            "Mounted at /content/drive\n"
          ]
        }
      ]
    },
    {
      "cell_type": "markdown",
      "metadata": {
        "id": "bYZhU1Wqgmqx"
      },
      "source": [
        "## Warning"
      ]
    },
    {
      "cell_type": "code",
      "metadata": {
        "id": "MUl4k83e4ANR"
      },
      "source": [
        "import warnings\n",
        "\n",
        "# Ignore warnings\n",
        "warnings.filterwarnings('ignore')"
      ],
      "execution_count": 2,
      "outputs": []
    },
    {
      "cell_type": "markdown",
      "metadata": {
        "id": "6WMODpPfgn2U"
      },
      "source": [
        "## Matplotlib"
      ]
    },
    {
      "cell_type": "code",
      "metadata": {
        "id": "DBRVH9SB4ANb"
      },
      "source": [
        "import matplotlib.pyplot as plt\n",
        "%matplotlib inline \n",
        "\n",
        "# Set matplotlib sizes\n",
        "plt.rc('font', size=20)\n",
        "plt.rc('axes', titlesize=20)\n",
        "plt.rc('axes', labelsize=20)\n",
        "plt.rc('xtick', labelsize=20)\n",
        "plt.rc('ytick', labelsize=20)\n",
        "plt.rc('legend', fontsize=20)\n",
        "plt.rc('figure', titlesize=20)"
      ],
      "execution_count": 3,
      "outputs": []
    },
    {
      "cell_type": "markdown",
      "metadata": {
        "id": "n-wNDk5nZhhO"
      },
      "source": [
        "## TensorFlow"
      ]
    },
    {
      "cell_type": "code",
      "metadata": {
        "id": "LjG43tEnZkfE"
      },
      "source": [
        "# The magic below allows us to use tensorflow version 2.x\n",
        "%tensorflow_version 2.x \n",
        "import tensorflow as tf\n",
        "from tensorflow import keras"
      ],
      "execution_count": 4,
      "outputs": []
    },
    {
      "cell_type": "markdown",
      "metadata": {
        "id": "40FN3UNfO2Z7"
      },
      "source": [
        "## Random seed"
      ]
    },
    {
      "cell_type": "code",
      "metadata": {
        "id": "uSADk0hJP71d"
      },
      "source": [
        "# The random seed\n",
        "random_seed = 42\n",
        "\n",
        "# Set random seed in tensorflow\n",
        "tf.random.set_seed(random_seed)\n",
        "\n",
        "# Set random seed in numpy\n",
        "import numpy as np\n",
        "np.random.seed(random_seed)"
      ],
      "execution_count": 5,
      "outputs": []
    },
    {
      "cell_type": "markdown",
      "metadata": {
        "id": "1eOpQpPu4ANk"
      },
      "source": [
        "# Data Preprocessing"
      ]
    },
    {
      "cell_type": "code",
      "metadata": {
        "colab": {
          "base_uri": "https://localhost:8080/"
        },
        "id": "D-Mwc6MczlFD",
        "outputId": "2645d862-24f5-4b58-89bf-b3770bc33587"
      },
      "source": [
        "# Change working directory to the absolute path of the deep utilities folder\n",
        "%cd $abspath_util_deep\n",
        "\n",
        "# Import the deep utitilities\n",
        "%run pmlm_utilities_deep.ipynb"
      ],
      "execution_count": 6,
      "outputs": [
        {
          "output_type": "stream",
          "name": "stdout",
          "text": [
            "/content/drive/My Drive/Colab Notebooks/DATS 6202/code/utilities/p3_deep_learning\n"
          ]
        }
      ]
    },
    {
      "cell_type": "markdown",
      "metadata": {
        "id": "xnJAfR784ANl"
      },
      "source": [
        "## Loading the data"
      ]
    },
    {
      "cell_type": "markdown",
      "metadata": {
        "id": "LM_WKAmO4ANm"
      },
      "source": [
        "In this code example, we will work on the [cifar10 dataset](https://www.tensorflow.org/datasets/catalog/cifar10)."
      ]
    },
    {
      "cell_type": "markdown",
      "metadata": {
        "id": "IEjvHlLB8X0z"
      },
      "source": [
        "### Creating the directory for the data"
      ]
    },
    {
      "cell_type": "code",
      "metadata": {
        "id": "reijpcaf8UgO"
      },
      "source": [
        "import os\n",
        "\n",
        "# Make directory\n",
        "directory = os.path.dirname(abspath_curr + '/data/')\n",
        "if not os.path.exists(directory):\n",
        "    os.makedirs(directory)"
      ],
      "execution_count": 7,
      "outputs": []
    },
    {
      "cell_type": "markdown",
      "metadata": {
        "id": "-sDdbhok2i7C"
      },
      "source": [
        "### Downloading the data to the directory"
      ]
    },
    {
      "cell_type": "code",
      "metadata": {
        "id": "6onKpDeL4ANn",
        "scrolled": true
      },
      "source": [
        "import tensorflow_datasets as tfds\n",
        "\n",
        "# Get the name of the data\n",
        "data_name = 'cifar10'\n",
        "\n",
        "# Load data\n",
        "data, info = tfds.load(name=data_name,\n",
        "                       data_dir=abspath_curr + '/data/',\n",
        "                       as_supervised=True,\n",
        "                       with_info=True)"
      ],
      "execution_count": 8,
      "outputs": []
    },
    {
      "cell_type": "markdown",
      "metadata": {
        "id": "yvIqSuZUVBb8"
      },
      "source": [
        "## Getting the name of the target"
      ]
    },
    {
      "cell_type": "code",
      "metadata": {
        "id": "AF5gbpOWVElL"
      },
      "source": [
        "target = 'label'"
      ],
      "execution_count": 9,
      "outputs": []
    },
    {
      "cell_type": "markdown",
      "metadata": {
        "id": "ugddFhUgVGWq"
      },
      "source": [
        "## Getting the info"
      ]
    },
    {
      "cell_type": "code",
      "metadata": {
        "id": "A85zWEqMjP5E",
        "colab": {
          "base_uri": "https://localhost:8080/"
        },
        "outputId": "33fd55d0-8e2b-4c83-c197-07e544e662d6"
      },
      "source": [
        "# Print the splits\n",
        "info.splits"
      ],
      "execution_count": 10,
      "outputs": [
        {
          "output_type": "execute_result",
          "data": {
            "text/plain": [
              "{'test': <tfds.core.SplitInfo num_examples=10000>,\n",
              " 'train': <tfds.core.SplitInfo num_examples=50000>}"
            ]
          },
          "metadata": {},
          "execution_count": 10
        }
      ]
    },
    {
      "cell_type": "code",
      "metadata": {
        "id": "vsSHR38vjL1G",
        "colab": {
          "base_uri": "https://localhost:8080/"
        },
        "outputId": "c29c0f78-a346-4070-f3c0-2560e114701d"
      },
      "source": [
        "# Get the classes\n",
        "classes = info.features['label'].names\n",
        "\n",
        "# Print the classes\n",
        "classes"
      ],
      "execution_count": 11,
      "outputs": [
        {
          "output_type": "execute_result",
          "data": {
            "text/plain": [
              "['airplane',\n",
              " 'automobile',\n",
              " 'bird',\n",
              " 'cat',\n",
              " 'deer',\n",
              " 'dog',\n",
              " 'frog',\n",
              " 'horse',\n",
              " 'ship',\n",
              " 'truck']"
            ]
          },
          "metadata": {},
          "execution_count": 11
        }
      ]
    },
    {
      "cell_type": "code",
      "metadata": {
        "id": "hD0wa74kS_53",
        "colab": {
          "base_uri": "https://localhost:8080/"
        },
        "outputId": "5810bd5e-fcb6-415d-fa29-0f1bf1ff71d4"
      },
      "source": [
        "# Get the number of classes\n",
        "n_classes = info.features['label'].num_classes\n",
        "\n",
        "# Print the number of classes\n",
        "info.features['label'].num_classes"
      ],
      "execution_count": 12,
      "outputs": [
        {
          "output_type": "execute_result",
          "data": {
            "text/plain": [
              "10"
            ]
          },
          "metadata": {},
          "execution_count": 12
        }
      ]
    },
    {
      "cell_type": "markdown",
      "metadata": {
        "id": "jGLoCbmO4AN9"
      },
      "source": [
        "## Getting the training, validation and test data"
      ]
    },
    {
      "cell_type": "code",
      "metadata": {
        "id": "a2P4L1vS4AN_"
      },
      "source": [
        "# Set the training, validation and test split\n",
        "split_train, split_valid, split_test = 'train[:70%]', 'train[70%:]', 'test'\n",
        "\n",
        "# Get the training data\n",
        "data_train = tfds.load(name=data_name,\n",
        "                       split=split_train,\n",
        "                       data_dir=abspath_curr + '/data/',\n",
        "                       as_supervised=True)\n",
        "\n",
        "# Get the validation data\n",
        "data_valid = tfds.load(name=data_name,\n",
        "                       split=split_valid,\n",
        "                       data_dir=abspath_curr + '/data/',\n",
        "                       as_supervised=True)\n",
        "\n",
        "# Get the test data\n",
        "data_test = tfds.load(name=data_name,\n",
        "                      split=split_test,\n",
        "                      data_dir=abspath_curr + '/data/',\n",
        "                      as_supervised=True)"
      ],
      "execution_count": 13,
      "outputs": []
    },
    {
      "cell_type": "markdown",
      "metadata": {
        "id": "sZUSCJjyXxYE"
      },
      "source": [
        "## Normalizing the data"
      ]
    },
    {
      "cell_type": "code",
      "metadata": {
        "id": "CfV6k87Ihz_u"
      },
      "source": [
        "# Call preprocess\n",
        "# See the implementation in pmlm_utilities_deep.ipynb\n",
        "\n",
        "# Normalize the training data\n",
        "data_train = data_train.map(normalize)\n",
        "\n",
        "# Normalize the validation data\n",
        "data_valid = data_valid.map(normalize)\n",
        "\n",
        "# Normalize the test data\n",
        "data_test = data_test.map(normalize)"
      ],
      "execution_count": 14,
      "outputs": []
    },
    {
      "cell_type": "markdown",
      "metadata": {
        "id": "e9oPQZ7limeD"
      },
      "source": [
        "## Shuffling, batching and prefetching the data"
      ]
    },
    {
      "cell_type": "code",
      "metadata": {
        "id": "p95Fq3PFbaAL"
      },
      "source": [
        "# Shuffling the training data\n",
        "data_train = data_train.shuffle(buffer_size=1000, seed=42)\n",
        "\n",
        "# Set the batch size\n",
        "batch_size = 16\n",
        "\n",
        "# Batch and prefetch the training data\n",
        "data_train = data_train.batch(batch_size).prefetch(1)\n",
        "\n",
        "# Batch and prefetch the validation data\n",
        "data_valid = data_valid.batch(batch_size).prefetch(1)\n",
        "\n",
        "# Batch and prefetch the test data\n",
        "data_test = data_test.batch(batch_size).prefetch(1)"
      ],
      "execution_count": 15,
      "outputs": []
    },
    {
      "cell_type": "markdown",
      "metadata": {
        "id": "Y6iqu0kUez-E"
      },
      "source": [
        "# Training"
      ]
    },
    {
      "cell_type": "markdown",
      "metadata": {
        "id": "58bjv0Y7lwxW"
      },
      "source": [
        "## Creating the directory for the saved model"
      ]
    },
    {
      "cell_type": "code",
      "metadata": {
        "id": "imEzRdMdlzfP"
      },
      "source": [
        "# Make directory\n",
        "directory = os.path.dirname(abspath_curr + '/result/model/')\n",
        "if not os.path.exists(directory):\n",
        "    os.makedirs(directory)"
      ],
      "execution_count": 16,
      "outputs": []
    },
    {
      "cell_type": "markdown",
      "metadata": {
        "id": "KrBpIBXCez-E"
      },
      "source": [
        "## Building the model"
      ]
    },
    {
      "cell_type": "code",
      "metadata": {
        "id": "C8iO7E7Eez-E",
        "colab": {
          "base_uri": "https://localhost:8080/"
        },
        "outputId": "8355d28b-a71a-4f51-8e19-6af505cb318e"
      },
      "source": [
        "# A sequential dnn\n",
        "model = keras.models.Sequential()\n",
        "\n",
        "# Add the input layer\n",
        "model.add(keras.layers.Flatten(input_shape=[32, 32,3]))\n",
        "# Add bn layer\n",
        "model.add(keras.layers.BatchNormalization())\n",
        "\n",
        "# Add the first hidden layer\n",
        "model.add(keras.layers.Dense(50, activation='relu'))\n",
        "# Add bn layer\n",
        "model.add(keras.layers.BatchNormalization())\n",
        "\n",
        "# Add the second hidden layer\n",
        "model.add(keras.layers.Dense(50, activation='relu'))\n",
        "# Add bn layer\n",
        "model.add(keras.layers.BatchNormalization())\n",
        "\n",
        "# Add the output layer\n",
        "model.add(keras.layers.Dense(10, activation='softmax'))\n",
        "\n",
        "# The model summary\n",
        "model.summary()"
      ],
      "execution_count": 18,
      "outputs": [
        {
          "output_type": "stream",
          "name": "stdout",
          "text": [
            "Model: \"sequential_1\"\n",
            "_________________________________________________________________\n",
            "Layer (type)                 Output Shape              Param #   \n",
            "=================================================================\n",
            "flatten_1 (Flatten)          (None, 3072)              0         \n",
            "_________________________________________________________________\n",
            "batch_normalization_3 (Batch (None, 3072)              12288     \n",
            "_________________________________________________________________\n",
            "dense_3 (Dense)              (None, 50)                153650    \n",
            "_________________________________________________________________\n",
            "batch_normalization_4 (Batch (None, 50)                200       \n",
            "_________________________________________________________________\n",
            "dense_4 (Dense)              (None, 50)                2550      \n",
            "_________________________________________________________________\n",
            "batch_normalization_5 (Batch (None, 50)                200       \n",
            "_________________________________________________________________\n",
            "dense_5 (Dense)              (None, 10)                510       \n",
            "=================================================================\n",
            "Total params: 169,398\n",
            "Trainable params: 163,054\n",
            "Non-trainable params: 6,344\n",
            "_________________________________________________________________\n"
          ]
        }
      ]
    },
    {
      "cell_type": "markdown",
      "metadata": {
        "id": "1kv7rBUVez-G"
      },
      "source": [
        "## Compiling the model"
      ]
    },
    {
      "cell_type": "code",
      "metadata": {
        "id": "5xO_D7e6ez-G"
      },
      "source": [
        "# Compile the model\n",
        "model.compile(optimizer=keras.optimizers.SGD(decay=1e-4),\n",
        "              loss='sparse_categorical_crossentropy',\n",
        "              metrics=['accuracy'])"
      ],
      "execution_count": 22,
      "outputs": []
    },
    {
      "cell_type": "markdown",
      "metadata": {
        "id": "li-HAqjFez-H"
      },
      "source": [
        "## Training the model"
      ]
    },
    {
      "cell_type": "markdown",
      "metadata": {
        "id": "4LklkVyeez-H"
      },
      "source": [
        "### Setting callbacks"
      ]
    },
    {
      "cell_type": "code",
      "metadata": {
        "id": "D4GGkQbHez-H"
      },
      "source": [
        "# ModelCheckpoint callback\n",
        "model_checkpoint_cb = keras.callbacks.ModelCheckpoint(filepath=abspath_curr + '/result/model/model.h5',\n",
        "                                                      save_best_only=True,\n",
        "                                                      save_weights_only=True)\n",
        "\n",
        "# EarlyStopping callback\n",
        "early_stopping_cb = keras.callbacks.EarlyStopping(patience=5,\n",
        "                                                  restore_best_weights=True)\n",
        "\n",
        "# ReduceLROnPlateau callback\n",
        "reduce_lr_on_plateau_cb = keras.callbacks.ReduceLROnPlateau(\n",
        "    factor=0.1,\n",
        "    patience=5)"
      ],
      "execution_count": 23,
      "outputs": []
    },
    {
      "cell_type": "markdown",
      "metadata": {
        "id": "XA8YiZkSez-J"
      },
      "source": [
        "### Training, evaluating and saving the best model"
      ]
    },
    {
      "cell_type": "code",
      "metadata": {
        "id": "TpH3uwMyez-J",
        "scrolled": true,
        "colab": {
          "base_uri": "https://localhost:8080/"
        },
        "outputId": "da43891a-3501-4097-a799-a45a3a85a152"
      },
      "source": [
        "# Train, evaluate and save the best model\n",
        "history = model.fit(data_train,\n",
        "                    epochs=10,\n",
        "                    validation_data=data_valid,\n",
        "                    callbacks=[model_checkpoint_cb,\n",
        "                               early_stopping_cb,\n",
        "                               reduce_lr_on_plateau_cb])"
      ],
      "execution_count": 24,
      "outputs": [
        {
          "output_type": "stream",
          "name": "stdout",
          "text": [
            "Epoch 1/10\n",
            "2188/2188 [==============================] - 20s 9ms/step - loss: 1.4513 - accuracy: 0.4848 - val_loss: 1.4383 - val_accuracy: 0.4893\n",
            "Epoch 2/10\n",
            "2188/2188 [==============================] - 22s 10ms/step - loss: 1.4245 - accuracy: 0.4941 - val_loss: 1.4287 - val_accuracy: 0.4951\n",
            "Epoch 3/10\n",
            "2188/2188 [==============================] - 20s 9ms/step - loss: 1.4122 - accuracy: 0.5004 - val_loss: 1.4184 - val_accuracy: 0.5013\n",
            "Epoch 4/10\n",
            "2188/2188 [==============================] - 22s 10ms/step - loss: 1.3931 - accuracy: 0.5076 - val_loss: 1.4173 - val_accuracy: 0.5019\n",
            "Epoch 5/10\n",
            "2188/2188 [==============================] - 20s 9ms/step - loss: 1.3840 - accuracy: 0.5115 - val_loss: 1.4165 - val_accuracy: 0.4987\n",
            "Epoch 6/10\n",
            "2188/2188 [==============================] - 20s 9ms/step - loss: 1.3688 - accuracy: 0.5135 - val_loss: 1.4101 - val_accuracy: 0.5014\n",
            "Epoch 7/10\n",
            "2188/2188 [==============================] - 19s 9ms/step - loss: 1.3673 - accuracy: 0.5147 - val_loss: 1.4081 - val_accuracy: 0.5019\n",
            "Epoch 8/10\n",
            "2188/2188 [==============================] - 21s 10ms/step - loss: 1.3565 - accuracy: 0.5183 - val_loss: 1.4123 - val_accuracy: 0.5017\n",
            "Epoch 9/10\n",
            "2188/2188 [==============================] - 22s 10ms/step - loss: 1.3483 - accuracy: 0.5214 - val_loss: 1.4106 - val_accuracy: 0.5032\n",
            "Epoch 10/10\n",
            "2188/2188 [==============================] - 22s 10ms/step - loss: 1.3435 - accuracy: 0.5271 - val_loss: 1.4116 - val_accuracy: 0.5014\n"
          ]
        }
      ]
    },
    {
      "cell_type": "markdown",
      "metadata": {
        "id": "YMnqOtxXez-K"
      },
      "source": [
        "## Plotting the learning curve"
      ]
    },
    {
      "cell_type": "markdown",
      "metadata": {
        "id": "i5FjWOqel5mc"
      },
      "source": [
        "### Creating the directory for the figure"
      ]
    },
    {
      "cell_type": "code",
      "metadata": {
        "id": "J3Mr9mr-l7tE"
      },
      "source": [
        "# Make directory\n",
        "directory = os.path.dirname(abspath_curr + '/result/figure/')\n",
        "if not os.path.exists(directory):\n",
        "    os.makedirs(directory)"
      ],
      "execution_count": 25,
      "outputs": []
    },
    {
      "cell_type": "markdown",
      "metadata": {
        "id": "-QJyWjeul8SS"
      },
      "source": [
        "### Plotting the figure"
      ]
    },
    {
      "cell_type": "code",
      "metadata": {
        "id": "e6d9D_iQez-L",
        "scrolled": true,
        "colab": {
          "base_uri": "https://localhost:8080/",
          "height": 347
        },
        "outputId": "e0d18093-47d0-49e4-9f8f-bfa785fcce98"
      },
      "source": [
        "import pandas as pd\n",
        "\n",
        "# Create a figure\n",
        "pd.DataFrame(history.history).plot(figsize=(8, 5))\n",
        "\n",
        "# Save and show the figure\n",
        "plt.tight_layout()\n",
        "plt.savefig(abspath_curr + '/result/figure/learning_curve.pdf')\n",
        "plt.show()"
      ],
      "execution_count": 26,
      "outputs": [
        {
          "output_type": "display_data",
          "data": {
            "image/png": "[encoded data removed]",
            "text/plain": [
              "<Figure size 576x360 with 1 Axes>"
            ]
          },
          "metadata": {
            "needs_background": "light"
          }
        }
      ]
    },
    {
      "cell_type": "markdown",
      "metadata": {
        "id": "RkGivY_MA6m1"
      },
      "source": [
        "# Testing the Best Model"
      ]
    },
    {
      "cell_type": "markdown",
      "metadata": {
        "id": "pjg97rxBvTsD"
      },
      "source": [
        "## Loading the saved model"
      ]
    },
    {
      "cell_type": "code",
      "metadata": {
        "id": "vWOYFg8BvYI9"
      },
      "source": [
        "# Load the saved model\n",
        "model.load_weights(filepath=abspath_curr + '/result/model/model.h5')"
      ],
      "execution_count": 27,
      "outputs": []
    },
    {
      "cell_type": "markdown",
      "metadata": {
        "id": "YAfOtSI7wajL"
      },
      "source": [
        "## Evaluating the model"
      ]
    },
    {
      "cell_type": "code",
      "metadata": {
        "id": "aoJnAfYfYDjH",
        "scrolled": true,
        "colab": {
          "base_uri": "https://localhost:8080/"
        },
        "outputId": "b4ad623d-f8a1-4144-c171-7b6e59412154"
      },
      "source": [
        "loss, accuracy = model.evaluate(data_test)"
      ],
      "execution_count": 28,
      "outputs": [
        {
          "output_type": "stream",
          "name": "stdout",
          "text": [
            "625/625 [==============================] - 6s 8ms/step - loss: 1.3963 - accuracy: 0.5086\n"
          ]
        }
      ]
    },
    {
      "cell_type": "markdown",
      "metadata": {
        "id": "mXM0miP9_3ue"
      },
      "source": [
        "##References\n"
      ]
    },
    {
      "cell_type": "markdown",
      "metadata": {
        "id": "crr67IlX_6dB"
      },
      "source": [
        "This tech report (Chapter 3) describes the dataset and the methodology followed when collecting it in much greater detail. Please cite it if you intend to use this dataset.\n",
        "Learning Multiple Layers of Features from Tiny Images, Alex Krizhevsky, 2009."
      ]
    },
    {
      "cell_type": "markdown",
      "metadata": {
        "id": "5k8BgpZd__7B"
      },
      "source": [
        "[Learning Multiple Layers of Features from Tiny Images](https://www.cs.toronto.edu/~kriz/learning-features-2009-TR.pdf), Alex Krizhevsky, 2009."
      ]
    }
  ]
}