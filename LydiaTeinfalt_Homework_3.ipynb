{
  "nbformat": 4,
  "nbformat_minor": 0,
  "metadata": {
    "colab": {
      "name": "Homework_3.ipynb",
      "provenance": [],
      "collapsed_sections": [],
      "include_colab_link": true
    },
    "kernelspec": {
      "display_name": "Python 3",
      "language": "python",
      "name": "python3"
    },
    "language_info": {
      "codemirror_mode": {
        "name": "ipython",
        "version": 3
      },
      "file_extension": ".py",
      "mimetype": "text/x-python",
      "name": "python",
      "nbconvert_exporter": "python",
      "pygments_lexer": "ipython3",
      "version": "3.8.8"
    },
    "toc": {
      "base_numbering": 1,
      "nav_menu": {},
      "number_sections": true,
      "sideBar": true,
      "skip_h1_title": false,
      "title_cell": "Table of Contents",
      "title_sidebar": "Contents",
      "toc_cell": true,
      "toc_position": {},
      "toc_section_display": true,
      "toc_window_display": false
    }
  },
  "cells": [
    {
      "cell_type": "markdown",
      "metadata": {
        "id": "view-in-github",
        "colab_type": "text"
      },
      "source": [
        "<a href=\"https://colab.research.google.com/github/lydiateinfalt/DATS6202-MachineLearningI-Fall2021/blob/main/LydiaTeinfalt_Homework_3.ipynb\" target=\"_parent\"><img src=\"https://colab.research.google.com/assets/colab-badge.svg\" alt=\"Open In Colab\"/></a>"
      ]
    },
    {
      "cell_type": "markdown",
      "metadata": {
        "id": "GBqrmFF39cAk",
        "toc": true
      },
      "source": [
        "<h1>Table of Contents<span class=\"tocSkip\"></span></h1>\n",
        "<div class=\"toc\"><ul class=\"toc-item\"><li><span><a href=\"#Overview\" data-toc-modified-id=\"Overview-1\"><span class=\"toc-item-num\">1&nbsp;&nbsp;</span>Overview</a></span></li><li><span><a href=\"#Notebook-Configuration\" data-toc-modified-id=\"Notebook-Configuration-2\"><span class=\"toc-item-num\">2&nbsp;&nbsp;</span>Notebook Configuration</a></span><ul class=\"toc-item\"><li><span><a href=\"#Google-drive\" data-toc-modified-id=\"Google-drive-2.1\"><span class=\"toc-item-num\">2.1&nbsp;&nbsp;</span>Google drive</a></span></li><li><span><a href=\"#Warning\" data-toc-modified-id=\"Warning-2.2\"><span class=\"toc-item-num\">2.2&nbsp;&nbsp;</span>Warning</a></span></li><li><span><a href=\"#Matplotlib\" data-toc-modified-id=\"Matplotlib-2.3\"><span class=\"toc-item-num\">2.3&nbsp;&nbsp;</span>Matplotlib</a></span></li><li><span><a href=\"#TensorFlow\" data-toc-modified-id=\"TensorFlow-2.4\"><span class=\"toc-item-num\">2.4&nbsp;&nbsp;</span>TensorFlow</a></span></li><li><span><a href=\"#Random-seed\" data-toc-modified-id=\"Random-seed-2.5\"><span class=\"toc-item-num\">2.5&nbsp;&nbsp;</span>Random seed</a></span></li></ul></li><li><span><a href=\"#Data-Preprocessing\" data-toc-modified-id=\"Data-Preprocessing-3\"><span class=\"toc-item-num\">3&nbsp;&nbsp;</span>Data Preprocessing</a></span></li><li><span><a href=\"#Hyperparameter-Tuning\" data-toc-modified-id=\"Hyperparameter-Tuning-4\"><span class=\"toc-item-num\">4&nbsp;&nbsp;</span>Hyperparameter Tuning</a></span></li><li><span><a href=\"#Model-Selection\" data-toc-modified-id=\"Model-Selection-5\"><span class=\"toc-item-num\">5&nbsp;&nbsp;</span>Model Selection</a></span></li><li><span><a href=\"#Generating-the-Submission-File\" data-toc-modified-id=\"Generating-the-Submission-File-6\"><span class=\"toc-item-num\">6&nbsp;&nbsp;</span>Generating the Submission File</a></span><ul class=\"toc-item\"><li><span><a href=\"#Creating-the-directory-for-the-submission-file\" data-toc-modified-id=\"Creating-the-directory-for-the-submission-file-6.1\"><span class=\"toc-item-num\">6.1&nbsp;&nbsp;</span>Creating the directory for the submission file</a></span></li><li><span><a href=\"#Generating-the-submission-file\" data-toc-modified-id=\"Generating-the-submission-file-6.2\"><span class=\"toc-item-num\">6.2&nbsp;&nbsp;</span>Generating the submission file</a></span></li></ul></li><li><span><a href=\"#Interpretation\" data-toc-modified-id=\"Interpretation-7\"><span class=\"toc-item-num\">7&nbsp;&nbsp;</span>Interpretation</a></span><ul class=\"toc-item\"><li><span><a href=\"#Creating-the-directory-for-the-figures\" data-toc-modified-id=\"Creating-the-directory-for-the-figures-7.1\"><span class=\"toc-item-num\">7.1&nbsp;&nbsp;</span>Creating the directory for the figures</a></span></li><li><span><a href=\"#Getting-the-feature-importance-detected-by-random-forest\" data-toc-modified-id=\"Getting-the-feature-importance-detected-by-random-forest-7.2\"><span class=\"toc-item-num\">7.2&nbsp;&nbsp;</span>Getting the feature importance detected by random forest</a></span></li><li><span><a href=\"#Plotting-the-Feature-Importance\" data-toc-modified-id=\"Plotting-the-Feature-Importance-7.3\"><span class=\"toc-item-num\">7.3&nbsp;&nbsp;</span>Plotting the Feature Importance</a></span></li></ul></li></ul></div>"
      ]
    },
    {
      "cell_type": "markdown",
      "metadata": {
        "id": "42yc1zUrzlEh"
      },
      "source": [
        "<b>\n",
        "<p>\n",
        "<center>\n",
        "<font size=\"5\">\n",
        "Popular Machine Learning Methods: Idea, Practice and Math\n",
        "</font>\n",
        "</center>\n",
        "</p>\n",
        "\n",
        "<p>\n",
        "<center>\n",
        "<font size=\"4\">\n",
        "Part 2, Chapter 2, Section 5: Tree Based Models\n",
        "</font>\n",
        "</center>\n",
        "</p>\n",
        "    \n",
        "<p>\n",
        "<center>\n",
        "<font size=\"4\">\n",
        "Homework 3\n",
        "</font>\n",
        "</center>\n",
        "</p>\n",
        "\n",
        "<p>\n",
        "<center>\n",
        "<font size=\"3\">\n",
        "Data Science, Columbian College of Arts & Sciences, George Washington University\n",
        "</font>\n",
        "</center>\n",
        "</p>\n",
        "\n",
        "<p>\n",
        "<center>\n",
        "<font size=\"3\">\n",
        "Professor Yuxiao Huang\n",
        "</font>\n",
        "</center>\n",
        "</p>\n",
        "</b>\n",
        "\n",
        "<p>\n",
        "<center>\n",
        "<font size=\"3\">\n",
        "Lydia Teinfalt\n",
        "</font>\n",
        "</center>\n",
        "</p>\n",
        "</b>\n",
        "\n",
        "<p>\n",
        "<center>\n",
        "<font size=\"3\">\n",
        "Last Updated: 10/23/2021\n",
        "</font>\n",
        "</center>\n",
        "</p>\n",
        "</b>"
      ]
    },
    {
      "cell_type": "markdown",
      "metadata": {
        "id": "rT2SKHw2zlEi"
      },
      "source": [
        "# Overview"
      ]
    },
    {
      "cell_type": "markdown",
      "metadata": {
        "id": "asZWLrJKzlEj"
      },
      "source": [
        "- This notebook includes homework 3 for Tree Based Models (Part 2, Chapter 2, Section 5).\n",
        "- See the accompanied slides in our [github repository](https://github.com/yuxiaohuang/teaching/tree/master/gwu/machine_learning_I/fall_2021/slides/p2_shallow_learning/p2_c2_supervised_learning/p2_c2_s5_tree_based_models).\n",
        "- Here we will work on kaggle competation kaggle competation [Ghouls, Goblins, and Ghosts... Boo!](https://www.kaggle.com/c/ghouls-goblins-and-ghosts-boo/overview).\n",
        "- The goal of this homework is tweaking the pipeline (including data preprocessing, hyperparameter tuning and model selection) implemented in [/p2 c2 s5 tree_based_models/case_study](https://github.com/yuxiaohuang/teaching/blob/master/gwu/machine_learning_I/fall_2021/code/p2_shallow_learning/p2_c2_supervised_learning/p2_c2_s5_tree_based_models/case_study/case_study.ipynb) to make it work for the new kaggle competation mentioned above.\n",
        "- Complete the missing parts indicated by # Implement me.\n",
        "- Particularly, the code should\n",
        "    - be bug-free (note that the output produced by your solution may not necessarily be the same as the provided output, due to version issues)\n",
        "    - be commented\n",
        "- **The baseline for this assignment is 0.769772. As per the grading rubrics (section 15 of the syllabus), if the validation score of your best model is lower than or the same as the baseline, you will only receive 80% of the full mark. See more details in the grading rubrics.**\n",
        "- Submit an ipynb file named homework_3.ipynb to [blackboard](https://blackboard.gwu.edu) folder /Assignments/Homework_3/."
      ]
    },
    {
      "cell_type": "markdown",
      "metadata": {
        "id": "WJ-IbZqAgILJ"
      },
      "source": [
        "# Notebook Configuration"
      ]
    },
    {
      "cell_type": "markdown",
      "metadata": {
        "id": "H3yB94KtgMHu"
      },
      "source": [
        "## Google drive"
      ]
    },
    {
      "cell_type": "code",
      "metadata": {
        "colab": {
          "base_uri": "https://localhost:8080/"
        },
        "id": "jWmYBTOwgNs-",
        "outputId": "cee09f21-e676-450e-a943-4e7881377011"
      },
      "source": [
        "from google.colab import drive\n",
        "import sys\n",
        "\n",
        "# Mount Google Drive\n",
        "drive.mount('/content/drive')\n",
        "\n",
        "# Get the absolute path of the current folder\n",
        "abspath_curr = '/content/drive/My Drive/Colab Notebooks/DATS 6202/HW3/'\n",
        "\n",
        "# Get the absolute path of the shallow utilities folder\n",
        "abspath_util_shallow = '/content/drive/My Drive/Colab Notebooks/DATS 6202/code/utilities/p2_shallow_learning/'\n",
        "\n",
        "# Get the absolute path of the shallow models folder\n",
        "abspath_model_shallow = '/content/drive/My Drive/Colab Notebooks/DATS 6202/code/models/p2_shallow_learning/'"
      ],
      "execution_count": null,
      "outputs": [
        {
          "output_type": "stream",
          "name": "stdout",
          "text": [
            "Drive already mounted at /content/drive; to attempt to forcibly remount, call drive.mount(\"/content/drive\", force_remount=True).\n"
          ]
        }
      ]
    },
    {
      "cell_type": "markdown",
      "metadata": {
        "id": "bYZhU1Wqgmqx"
      },
      "source": [
        "## Warning"
      ]
    },
    {
      "cell_type": "code",
      "metadata": {
        "id": "MUl4k83e4ANR"
      },
      "source": [
        "import warnings\n",
        "\n",
        "# Ignore warnings\n",
        "warnings.filterwarnings('ignore')"
      ],
      "execution_count": null,
      "outputs": []
    },
    {
      "cell_type": "markdown",
      "metadata": {
        "id": "6WMODpPfgn2U"
      },
      "source": [
        "## Matplotlib"
      ]
    },
    {
      "cell_type": "code",
      "metadata": {
        "id": "DBRVH9SB4ANb"
      },
      "source": [
        "import matplotlib.pyplot as plt\n",
        "%matplotlib inline \n",
        "\n",
        "# Set matplotlib sizes\n",
        "plt.rc('font', size=20)\n",
        "plt.rc('axes', titlesize=20)\n",
        "plt.rc('axes', labelsize=20)\n",
        "plt.rc('xtick', labelsize=20)\n",
        "plt.rc('ytick', labelsize=20)\n",
        "plt.rc('legend', fontsize=20)\n",
        "plt.rc('figure', titlesize=20)"
      ],
      "execution_count": null,
      "outputs": []
    },
    {
      "cell_type": "markdown",
      "metadata": {
        "id": "n-wNDk5nZhhO"
      },
      "source": [
        "## TensorFlow"
      ]
    },
    {
      "cell_type": "code",
      "metadata": {
        "id": "LjG43tEnZkfE"
      },
      "source": [
        "# The magic below allows us to use tensorflow version 2.x\n",
        "%tensorflow_version 2.x \n",
        "import tensorflow as tf\n",
        "from tensorflow import keras"
      ],
      "execution_count": null,
      "outputs": []
    },
    {
      "cell_type": "markdown",
      "metadata": {
        "id": "40FN3UNfO2Z7"
      },
      "source": [
        "## Random seed"
      ]
    },
    {
      "cell_type": "code",
      "metadata": {
        "id": "uSADk0hJP71d"
      },
      "source": [
        "# The random seed\n",
        "random_seed = 42\n",
        "\n",
        "# Set random seed in tensorflow\n",
        "tf.random.set_seed(random_seed)\n",
        "\n",
        "# Set random seed in numpy\n",
        "import numpy as np\n",
        "np.random.seed(random_seed)"
      ],
      "execution_count": null,
      "outputs": []
    },
    {
      "cell_type": "markdown",
      "metadata": {
        "id": "yAwfz8iYzlFC"
      },
      "source": [
        "# Data Preprocessing"
      ]
    },
    {
      "cell_type": "code",
      "metadata": {
        "colab": {
          "base_uri": "https://localhost:8080/"
        },
        "id": "D-Mwc6MczlFD",
        "outputId": "2c7869ef-2f96-422e-e604-798d778f006e"
      },
      "source": [
        "# Change working directory to the absolute path of the shallow utilities folder\n",
        "%cd $abspath_util_shallow\n",
        "\n",
        "# Import the shallow utitilities\n",
        "%run pmlm_utilities_shallow.ipynb"
      ],
      "execution_count": null,
      "outputs": [
        {
          "output_type": "stream",
          "name": "stdout",
          "text": [
            "/content/drive/My Drive/Colab Notebooks/DATS 6202/code/utilities/p2_shallow_learning\n"
          ]
        }
      ]
    },
    {
      "cell_type": "markdown",
      "metadata": {
        "id": "oIJsDoJGzlFE"
      },
      "source": [
        "## Loading the data"
      ]
    },
    {
      "cell_type": "markdown",
      "metadata": {
        "id": "Rk5KMdxqzlFE"
      },
      "source": [
        "In this case study, we will use the [Ghouls, Goblins, and Ghosts](https://www.kaggle.com/c/ghouls-goblins-and-ghosts-boo/data)."
      ]
    },
    {
      "cell_type": "code",
      "metadata": {
        "id": "eC6G3GdAyJKi",
        "scrolled": true
      },
      "source": [
        "import pandas as pd\n",
        "\n",
        "# Load the raw training data\n",
        "df_raw_train = pd.read_csv(abspath_curr + '/data/train.csv',\n",
        "                           header=0)\n",
        "# Make a copy of df_raw_train\n",
        "df_train = df_raw_train.copy(deep=True)\n",
        "\n",
        "# Load the raw test data\n",
        "df_raw_test = pd.read_csv(abspath_curr + '/data/test.csv',\n",
        "                          header=0)\n",
        "# Make a copy of df_raw_test\n",
        "df_test = df_raw_test.copy(deep=True)\n",
        "\n",
        "# Get the name of the target\n",
        "target = 'type'"
      ],
      "execution_count": null,
      "outputs": []
    },
    {
      "cell_type": "code",
      "metadata": {
        "colab": {
          "base_uri": "https://localhost:8080/",
          "height": 80
        },
        "id": "R4b3Odb4zlFG",
        "outputId": "cc5a1aee-0eb4-4584-ef51-23d323b4c0c5"
      },
      "source": [
        "# Print the dimension of df_train\n",
        "pd.DataFrame([[df_train.shape[0], df_train.shape[1]]], columns=['# rows', '# columns'])"
      ],
      "execution_count": null,
      "outputs": [
        {
          "output_type": "execute_result",
          "data": {
            "text/html": [
              "<div>\n",
              "<style scoped>\n",
              "    .dataframe tbody tr th:only-of-type {\n",
              "        vertical-align: middle;\n",
              "    }\n",
              "\n",
              "    .dataframe tbody tr th {\n",
              "        vertical-align: top;\n",
              "    }\n",
              "\n",
              "    .dataframe thead th {\n",
              "        text-align: right;\n",
              "    }\n",
              "</style>\n",
              "<table border=\"1\" class=\"dataframe\">\n",
              "  <thead>\n",
              "    <tr style=\"text-align: right;\">\n",
              "      <th></th>\n",
              "      <th># rows</th>\n",
              "      <th># columns</th>\n",
              "    </tr>\n",
              "  </thead>\n",
              "  <tbody>\n",
              "    <tr>\n",
              "      <th>0</th>\n",
              "      <td>371</td>\n",
              "      <td>7</td>\n",
              "    </tr>\n",
              "  </tbody>\n",
              "</table>\n",
              "</div>"
            ],
            "text/plain": [
              "   # rows  # columns\n",
              "0     371          7"
            ]
          },
          "metadata": {},
          "execution_count": 521
        }
      ]
    },
    {
      "cell_type": "code",
      "metadata": {
        "colab": {
          "base_uri": "https://localhost:8080/",
          "height": 80
        },
        "id": "ZJnzfwb4zlFJ",
        "outputId": "79f66abd-7ea3-496a-9e40-4a90a68c57ad"
      },
      "source": [
        "# Print the dimension of df_test\n",
        "pd.DataFrame([[df_test.shape[0], df_test.shape[1]]], columns=['# rows', '# columns'])"
      ],
      "execution_count": null,
      "outputs": [
        {
          "output_type": "execute_result",
          "data": {
            "text/html": [
              "<div>\n",
              "<style scoped>\n",
              "    .dataframe tbody tr th:only-of-type {\n",
              "        vertical-align: middle;\n",
              "    }\n",
              "\n",
              "    .dataframe tbody tr th {\n",
              "        vertical-align: top;\n",
              "    }\n",
              "\n",
              "    .dataframe thead th {\n",
              "        text-align: right;\n",
              "    }\n",
              "</style>\n",
              "<table border=\"1\" class=\"dataframe\">\n",
              "  <thead>\n",
              "    <tr style=\"text-align: right;\">\n",
              "      <th></th>\n",
              "      <th># rows</th>\n",
              "      <th># columns</th>\n",
              "    </tr>\n",
              "  </thead>\n",
              "  <tbody>\n",
              "    <tr>\n",
              "      <th>0</th>\n",
              "      <td>529</td>\n",
              "      <td>6</td>\n",
              "    </tr>\n",
              "  </tbody>\n",
              "</table>\n",
              "</div>"
            ],
            "text/plain": [
              "   # rows  # columns\n",
              "0     529          6"
            ]
          },
          "metadata": {},
          "execution_count": 522
        }
      ]
    },
    {
      "cell_type": "code",
      "metadata": {
        "colab": {
          "base_uri": "https://localhost:8080/",
          "height": 204
        },
        "id": "HPcKeSf1zlFM",
        "scrolled": true,
        "outputId": "9b6b1d0b-8b21-4cc8-f1db-7a83780b67e3"
      },
      "source": [
        "# Print the first 5 rows of df_train\n",
        "df_train.head()"
      ],
      "execution_count": null,
      "outputs": [
        {
          "output_type": "execute_result",
          "data": {
            "text/html": [
              "<div>\n",
              "<style scoped>\n",
              "    .dataframe tbody tr th:only-of-type {\n",
              "        vertical-align: middle;\n",
              "    }\n",
              "\n",
              "    .dataframe tbody tr th {\n",
              "        vertical-align: top;\n",
              "    }\n",
              "\n",
              "    .dataframe thead th {\n",
              "        text-align: right;\n",
              "    }\n",
              "</style>\n",
              "<table border=\"1\" class=\"dataframe\">\n",
              "  <thead>\n",
              "    <tr style=\"text-align: right;\">\n",
              "      <th></th>\n",
              "      <th>id</th>\n",
              "      <th>bone_length</th>\n",
              "      <th>rotting_flesh</th>\n",
              "      <th>hair_length</th>\n",
              "      <th>has_soul</th>\n",
              "      <th>color</th>\n",
              "      <th>type</th>\n",
              "    </tr>\n",
              "  </thead>\n",
              "  <tbody>\n",
              "    <tr>\n",
              "      <th>0</th>\n",
              "      <td>0</td>\n",
              "      <td>0.354512</td>\n",
              "      <td>0.350839</td>\n",
              "      <td>0.465761</td>\n",
              "      <td>0.781142</td>\n",
              "      <td>clear</td>\n",
              "      <td>Ghoul</td>\n",
              "    </tr>\n",
              "    <tr>\n",
              "      <th>1</th>\n",
              "      <td>1</td>\n",
              "      <td>0.575560</td>\n",
              "      <td>0.425868</td>\n",
              "      <td>0.531401</td>\n",
              "      <td>0.439899</td>\n",
              "      <td>green</td>\n",
              "      <td>Goblin</td>\n",
              "    </tr>\n",
              "    <tr>\n",
              "      <th>2</th>\n",
              "      <td>2</td>\n",
              "      <td>0.467875</td>\n",
              "      <td>0.354330</td>\n",
              "      <td>0.811616</td>\n",
              "      <td>0.791225</td>\n",
              "      <td>black</td>\n",
              "      <td>Ghoul</td>\n",
              "    </tr>\n",
              "    <tr>\n",
              "      <th>3</th>\n",
              "      <td>4</td>\n",
              "      <td>0.776652</td>\n",
              "      <td>0.508723</td>\n",
              "      <td>0.636766</td>\n",
              "      <td>0.884464</td>\n",
              "      <td>black</td>\n",
              "      <td>Ghoul</td>\n",
              "    </tr>\n",
              "    <tr>\n",
              "      <th>4</th>\n",
              "      <td>5</td>\n",
              "      <td>0.566117</td>\n",
              "      <td>0.875862</td>\n",
              "      <td>0.418594</td>\n",
              "      <td>0.636438</td>\n",
              "      <td>green</td>\n",
              "      <td>Ghost</td>\n",
              "    </tr>\n",
              "  </tbody>\n",
              "</table>\n",
              "</div>"
            ],
            "text/plain": [
              "   id  bone_length  rotting_flesh  hair_length  has_soul  color    type\n",
              "0   0     0.354512       0.350839     0.465761  0.781142  clear   Ghoul\n",
              "1   1     0.575560       0.425868     0.531401  0.439899  green  Goblin\n",
              "2   2     0.467875       0.354330     0.811616  0.791225  black   Ghoul\n",
              "3   4     0.776652       0.508723     0.636766  0.884464  black   Ghoul\n",
              "4   5     0.566117       0.875862     0.418594  0.636438  green   Ghost"
            ]
          },
          "metadata": {},
          "execution_count": 523
        }
      ]
    },
    {
      "cell_type": "code",
      "metadata": {
        "colab": {
          "base_uri": "https://localhost:8080/",
          "height": 204
        },
        "id": "GHfe-Pn8zlFO",
        "scrolled": false,
        "outputId": "6bd78e6b-7958-46bd-f06c-1bd9f1e1fc1c"
      },
      "source": [
        "# Print the first 5 rows of df_test\n",
        "df_test.head()"
      ],
      "execution_count": null,
      "outputs": [
        {
          "output_type": "execute_result",
          "data": {
            "text/html": [
              "<div>\n",
              "<style scoped>\n",
              "    .dataframe tbody tr th:only-of-type {\n",
              "        vertical-align: middle;\n",
              "    }\n",
              "\n",
              "    .dataframe tbody tr th {\n",
              "        vertical-align: top;\n",
              "    }\n",
              "\n",
              "    .dataframe thead th {\n",
              "        text-align: right;\n",
              "    }\n",
              "</style>\n",
              "<table border=\"1\" class=\"dataframe\">\n",
              "  <thead>\n",
              "    <tr style=\"text-align: right;\">\n",
              "      <th></th>\n",
              "      <th>id</th>\n",
              "      <th>bone_length</th>\n",
              "      <th>rotting_flesh</th>\n",
              "      <th>hair_length</th>\n",
              "      <th>has_soul</th>\n",
              "      <th>color</th>\n",
              "    </tr>\n",
              "  </thead>\n",
              "  <tbody>\n",
              "    <tr>\n",
              "      <th>0</th>\n",
              "      <td>3</td>\n",
              "      <td>0.471774</td>\n",
              "      <td>0.387937</td>\n",
              "      <td>0.706087</td>\n",
              "      <td>0.698537</td>\n",
              "      <td>black</td>\n",
              "    </tr>\n",
              "    <tr>\n",
              "      <th>1</th>\n",
              "      <td>6</td>\n",
              "      <td>0.427332</td>\n",
              "      <td>0.645024</td>\n",
              "      <td>0.565558</td>\n",
              "      <td>0.451462</td>\n",
              "      <td>white</td>\n",
              "    </tr>\n",
              "    <tr>\n",
              "      <th>2</th>\n",
              "      <td>9</td>\n",
              "      <td>0.549602</td>\n",
              "      <td>0.491931</td>\n",
              "      <td>0.660387</td>\n",
              "      <td>0.449809</td>\n",
              "      <td>black</td>\n",
              "    </tr>\n",
              "    <tr>\n",
              "      <th>3</th>\n",
              "      <td>10</td>\n",
              "      <td>0.638095</td>\n",
              "      <td>0.682867</td>\n",
              "      <td>0.471409</td>\n",
              "      <td>0.356924</td>\n",
              "      <td>white</td>\n",
              "    </tr>\n",
              "    <tr>\n",
              "      <th>4</th>\n",
              "      <td>13</td>\n",
              "      <td>0.361762</td>\n",
              "      <td>0.583997</td>\n",
              "      <td>0.377256</td>\n",
              "      <td>0.276364</td>\n",
              "      <td>black</td>\n",
              "    </tr>\n",
              "  </tbody>\n",
              "</table>\n",
              "</div>"
            ],
            "text/plain": [
              "   id  bone_length  rotting_flesh  hair_length  has_soul  color\n",
              "0   3     0.471774       0.387937     0.706087  0.698537  black\n",
              "1   6     0.427332       0.645024     0.565558  0.451462  white\n",
              "2   9     0.549602       0.491931     0.660387  0.449809  black\n",
              "3  10     0.638095       0.682867     0.471409  0.356924  white\n",
              "4  13     0.361762       0.583997     0.377256  0.276364  black"
            ]
          },
          "metadata": {},
          "execution_count": 524
        }
      ]
    },
    {
      "cell_type": "markdown",
      "metadata": {
        "id": "n9aK8P7bzlFQ"
      },
      "source": [
        "## Splitting the data\n",
        "The code below shows how to divide the training data into training (80%) and validation (20%)."
      ]
    },
    {
      "cell_type": "code",
      "metadata": {
        "id": "7_m_N5HHzlFQ"
      },
      "source": [
        "from sklearn.model_selection import train_test_split\n",
        "\n",
        "# Divide the training data into training (80%) and validation (20%)\n",
        "df_train, df_val = train_test_split(df_train, train_size=0.8, random_state=random_seed)\n",
        "\n",
        "# Reset the index\n",
        "df_train, df_val = df_train.reset_index(drop=True), df_val.reset_index(drop=True)"
      ],
      "execution_count": null,
      "outputs": []
    },
    {
      "cell_type": "code",
      "metadata": {
        "colab": {
          "base_uri": "https://localhost:8080/",
          "height": 80
        },
        "id": "iLVii-hMzlFS",
        "outputId": "090f1455-c552-4093-f720-94af89070882"
      },
      "source": [
        "# Print the dimension of df_train\n",
        "pd.DataFrame([[df_train.shape[0], df_train.shape[1]]], columns=['# rows', '# columns'])"
      ],
      "execution_count": null,
      "outputs": [
        {
          "output_type": "execute_result",
          "data": {
            "text/html": [
              "<div>\n",
              "<style scoped>\n",
              "    .dataframe tbody tr th:only-of-type {\n",
              "        vertical-align: middle;\n",
              "    }\n",
              "\n",
              "    .dataframe tbody tr th {\n",
              "        vertical-align: top;\n",
              "    }\n",
              "\n",
              "    .dataframe thead th {\n",
              "        text-align: right;\n",
              "    }\n",
              "</style>\n",
              "<table border=\"1\" class=\"dataframe\">\n",
              "  <thead>\n",
              "    <tr style=\"text-align: right;\">\n",
              "      <th></th>\n",
              "      <th># rows</th>\n",
              "      <th># columns</th>\n",
              "    </tr>\n",
              "  </thead>\n",
              "  <tbody>\n",
              "    <tr>\n",
              "      <th>0</th>\n",
              "      <td>296</td>\n",
              "      <td>7</td>\n",
              "    </tr>\n",
              "  </tbody>\n",
              "</table>\n",
              "</div>"
            ],
            "text/plain": [
              "   # rows  # columns\n",
              "0     296          7"
            ]
          },
          "metadata": {},
          "execution_count": 526
        }
      ]
    },
    {
      "cell_type": "code",
      "metadata": {
        "colab": {
          "base_uri": "https://localhost:8080/",
          "height": 80
        },
        "id": "105_7CPVzlFT",
        "scrolled": false,
        "outputId": "14b30193-a67e-4a33-bc50-87a8206ed1cf"
      },
      "source": [
        "# Print the dimension of df_val\n",
        "pd.DataFrame([[df_val.shape[0], df_val.shape[1]]], columns=['# rows', '# columns'])"
      ],
      "execution_count": null,
      "outputs": [
        {
          "output_type": "execute_result",
          "data": {
            "text/html": [
              "<div>\n",
              "<style scoped>\n",
              "    .dataframe tbody tr th:only-of-type {\n",
              "        vertical-align: middle;\n",
              "    }\n",
              "\n",
              "    .dataframe tbody tr th {\n",
              "        vertical-align: top;\n",
              "    }\n",
              "\n",
              "    .dataframe thead th {\n",
              "        text-align: right;\n",
              "    }\n",
              "</style>\n",
              "<table border=\"1\" class=\"dataframe\">\n",
              "  <thead>\n",
              "    <tr style=\"text-align: right;\">\n",
              "      <th></th>\n",
              "      <th># rows</th>\n",
              "      <th># columns</th>\n",
              "    </tr>\n",
              "  </thead>\n",
              "  <tbody>\n",
              "    <tr>\n",
              "      <th>0</th>\n",
              "      <td>75</td>\n",
              "      <td>7</td>\n",
              "    </tr>\n",
              "  </tbody>\n",
              "</table>\n",
              "</div>"
            ],
            "text/plain": [
              "   # rows  # columns\n",
              "0      75          7"
            ]
          },
          "metadata": {},
          "execution_count": 527
        }
      ]
    },
    {
      "cell_type": "markdown",
      "metadata": {
        "id": "EU2tR9G7VEJt"
      },
      "source": [
        "## Handling uncommon features"
      ]
    },
    {
      "cell_type": "markdown",
      "metadata": {
        "id": "gXFG7kb6VEJt"
      },
      "source": [
        "### Identifying uncommon features"
      ]
    },
    {
      "cell_type": "markdown",
      "metadata": {
        "id": "OYu9QUjLVEJu"
      },
      "source": [
        "The code below shows how to find common variables between the training, validation and test data."
      ]
    },
    {
      "cell_type": "code",
      "metadata": {
        "colab": {
          "base_uri": "https://localhost:8080/",
          "height": 266
        },
        "id": "Q9b0-5NzVEJv",
        "scrolled": false,
        "outputId": "bb1d2a9e-a0ce-4050-c588-fc1d7bad135a"
      },
      "source": [
        "# Call common_var_checker\n",
        "# See the implementation in pmlm_utilities.ipynb\n",
        "df_common_var = common_var_checker(df_train, df_val, df_test, target)\n",
        "\n",
        "# Print df_common_var\n",
        "df_common_var"
      ],
      "execution_count": null,
      "outputs": [
        {
          "output_type": "execute_result",
          "data": {
            "text/html": [
              "<div>\n",
              "<style scoped>\n",
              "    .dataframe tbody tr th:only-of-type {\n",
              "        vertical-align: middle;\n",
              "    }\n",
              "\n",
              "    .dataframe tbody tr th {\n",
              "        vertical-align: top;\n",
              "    }\n",
              "\n",
              "    .dataframe thead th {\n",
              "        text-align: right;\n",
              "    }\n",
              "</style>\n",
              "<table border=\"1\" class=\"dataframe\">\n",
              "  <thead>\n",
              "    <tr style=\"text-align: right;\">\n",
              "      <th></th>\n",
              "      <th>common var</th>\n",
              "    </tr>\n",
              "  </thead>\n",
              "  <tbody>\n",
              "    <tr>\n",
              "      <th>0</th>\n",
              "      <td>bone_length</td>\n",
              "    </tr>\n",
              "    <tr>\n",
              "      <th>1</th>\n",
              "      <td>color</td>\n",
              "    </tr>\n",
              "    <tr>\n",
              "      <th>2</th>\n",
              "      <td>hair_length</td>\n",
              "    </tr>\n",
              "    <tr>\n",
              "      <th>3</th>\n",
              "      <td>has_soul</td>\n",
              "    </tr>\n",
              "    <tr>\n",
              "      <th>4</th>\n",
              "      <td>id</td>\n",
              "    </tr>\n",
              "    <tr>\n",
              "      <th>5</th>\n",
              "      <td>rotting_flesh</td>\n",
              "    </tr>\n",
              "    <tr>\n",
              "      <th>6</th>\n",
              "      <td>type</td>\n",
              "    </tr>\n",
              "  </tbody>\n",
              "</table>\n",
              "</div>"
            ],
            "text/plain": [
              "      common var\n",
              "0    bone_length\n",
              "1          color\n",
              "2    hair_length\n",
              "3       has_soul\n",
              "4             id\n",
              "5  rotting_flesh\n",
              "6           type"
            ]
          },
          "metadata": {},
          "execution_count": 528
        }
      ]
    },
    {
      "cell_type": "markdown",
      "metadata": {
        "id": "2RQRM74eVEJx"
      },
      "source": [
        "The code below shows how to find features in the training data but not in the validation or test data."
      ]
    },
    {
      "cell_type": "code",
      "metadata": {
        "colab": {
          "base_uri": "https://localhost:8080/",
          "height": 49
        },
        "id": "BYv2OUswVEJx",
        "scrolled": true,
        "outputId": "2e1693e2-370b-420a-b402-328dc7202e36"
      },
      "source": [
        "# Get the features in the training data but not in the validation or test data\n",
        "uncommon_feature_train_not_val_test = np.setdiff1d(df_train.columns, df_common_var['common var'])\n",
        "\n",
        "# Print the uncommon features\n",
        "pd.DataFrame(uncommon_feature_train_not_val_test, columns=['uncommon feature'])"
      ],
      "execution_count": null,
      "outputs": [
        {
          "output_type": "execute_result",
          "data": {
            "text/html": [
              "<div>\n",
              "<style scoped>\n",
              "    .dataframe tbody tr th:only-of-type {\n",
              "        vertical-align: middle;\n",
              "    }\n",
              "\n",
              "    .dataframe tbody tr th {\n",
              "        vertical-align: top;\n",
              "    }\n",
              "\n",
              "    .dataframe thead th {\n",
              "        text-align: right;\n",
              "    }\n",
              "</style>\n",
              "<table border=\"1\" class=\"dataframe\">\n",
              "  <thead>\n",
              "    <tr style=\"text-align: right;\">\n",
              "      <th></th>\n",
              "      <th>uncommon feature</th>\n",
              "    </tr>\n",
              "  </thead>\n",
              "  <tbody>\n",
              "  </tbody>\n",
              "</table>\n",
              "</div>"
            ],
            "text/plain": [
              "Empty DataFrame\n",
              "Columns: [uncommon feature]\n",
              "Index: []"
            ]
          },
          "metadata": {},
          "execution_count": 529
        }
      ]
    },
    {
      "cell_type": "markdown",
      "metadata": {
        "id": "7xTZbIvgMxNb"
      },
      "source": [
        "The code below shows how to find the features in the validation data but not in the training or test data."
      ]
    },
    {
      "cell_type": "code",
      "metadata": {
        "colab": {
          "base_uri": "https://localhost:8080/",
          "height": 49
        },
        "id": "bSqnr26PMxNb",
        "scrolled": true,
        "outputId": "378b783e-f67b-44c1-90c4-2c41329deadf"
      },
      "source": [
        "# Get the features in the validation data but not in the training or test data\n",
        "uncommon_feature_val_not_train_test = np.setdiff1d(df_val.columns, df_common_var['common var'])\n",
        "\n",
        "# Print the uncommon features\n",
        "pd.DataFrame(uncommon_feature_val_not_train_test, columns=['uncommon feature'])"
      ],
      "execution_count": null,
      "outputs": [
        {
          "output_type": "execute_result",
          "data": {
            "text/html": [
              "<div>\n",
              "<style scoped>\n",
              "    .dataframe tbody tr th:only-of-type {\n",
              "        vertical-align: middle;\n",
              "    }\n",
              "\n",
              "    .dataframe tbody tr th {\n",
              "        vertical-align: top;\n",
              "    }\n",
              "\n",
              "    .dataframe thead th {\n",
              "        text-align: right;\n",
              "    }\n",
              "</style>\n",
              "<table border=\"1\" class=\"dataframe\">\n",
              "  <thead>\n",
              "    <tr style=\"text-align: right;\">\n",
              "      <th></th>\n",
              "      <th>uncommon feature</th>\n",
              "    </tr>\n",
              "  </thead>\n",
              "  <tbody>\n",
              "  </tbody>\n",
              "</table>\n",
              "</div>"
            ],
            "text/plain": [
              "Empty DataFrame\n",
              "Columns: [uncommon feature]\n",
              "Index: []"
            ]
          },
          "metadata": {},
          "execution_count": 530
        }
      ]
    },
    {
      "cell_type": "markdown",
      "metadata": {
        "id": "uFQoJqwYVEJy"
      },
      "source": [
        "The code below shows how to find the features in the test data but not in the training or validation data."
      ]
    },
    {
      "cell_type": "code",
      "metadata": {
        "colab": {
          "base_uri": "https://localhost:8080/",
          "height": 49
        },
        "id": "aM_buccxVEJz",
        "scrolled": true,
        "outputId": "2249cd3f-dbe8-440c-da7e-0cbb344f1154"
      },
      "source": [
        "# Get the features in the test data but not in the training or validation data\n",
        "uncommon_feature_test_not_train_val = np.setdiff1d(df_test.columns, df_common_var['common var'])\n",
        "\n",
        "# Print the uncommon features\n",
        "pd.DataFrame(uncommon_feature_test_not_train_val, columns=['uncommon feature'])"
      ],
      "execution_count": null,
      "outputs": [
        {
          "output_type": "execute_result",
          "data": {
            "text/html": [
              "<div>\n",
              "<style scoped>\n",
              "    .dataframe tbody tr th:only-of-type {\n",
              "        vertical-align: middle;\n",
              "    }\n",
              "\n",
              "    .dataframe tbody tr th {\n",
              "        vertical-align: top;\n",
              "    }\n",
              "\n",
              "    .dataframe thead th {\n",
              "        text-align: right;\n",
              "    }\n",
              "</style>\n",
              "<table border=\"1\" class=\"dataframe\">\n",
              "  <thead>\n",
              "    <tr style=\"text-align: right;\">\n",
              "      <th></th>\n",
              "      <th>uncommon feature</th>\n",
              "    </tr>\n",
              "  </thead>\n",
              "  <tbody>\n",
              "  </tbody>\n",
              "</table>\n",
              "</div>"
            ],
            "text/plain": [
              "Empty DataFrame\n",
              "Columns: [uncommon feature]\n",
              "Index: []"
            ]
          },
          "metadata": {},
          "execution_count": 531
        }
      ]
    },
    {
      "cell_type": "markdown",
      "metadata": {
        "id": "LFFbL2cQVEJ0"
      },
      "source": [
        "### Removing uncommon features"
      ]
    },
    {
      "cell_type": "code",
      "metadata": {
        "colab": {
          "base_uri": "https://localhost:8080/",
          "height": 204
        },
        "id": "2bt-y-DqVEJ0",
        "scrolled": true,
        "outputId": "4d17738e-06fe-45e8-971c-d5aee96c21b1"
      },
      "source": [
        "# Remove the uncommon features from the training data\n",
        "df_train = df_train.drop(columns=uncommon_feature_train_not_val_test)\n",
        "\n",
        "# Print the first 5 rows of df_train\n",
        "df_train.head()"
      ],
      "execution_count": null,
      "outputs": [
        {
          "output_type": "execute_result",
          "data": {
            "text/html": [
              "<div>\n",
              "<style scoped>\n",
              "    .dataframe tbody tr th:only-of-type {\n",
              "        vertical-align: middle;\n",
              "    }\n",
              "\n",
              "    .dataframe tbody tr th {\n",
              "        vertical-align: top;\n",
              "    }\n",
              "\n",
              "    .dataframe thead th {\n",
              "        text-align: right;\n",
              "    }\n",
              "</style>\n",
              "<table border=\"1\" class=\"dataframe\">\n",
              "  <thead>\n",
              "    <tr style=\"text-align: right;\">\n",
              "      <th></th>\n",
              "      <th>id</th>\n",
              "      <th>bone_length</th>\n",
              "      <th>rotting_flesh</th>\n",
              "      <th>hair_length</th>\n",
              "      <th>has_soul</th>\n",
              "      <th>color</th>\n",
              "      <th>type</th>\n",
              "    </tr>\n",
              "  </thead>\n",
              "  <tbody>\n",
              "    <tr>\n",
              "      <th>0</th>\n",
              "      <td>472</td>\n",
              "      <td>0.681615</td>\n",
              "      <td>0.529227</td>\n",
              "      <td>0.625242</td>\n",
              "      <td>0.615308</td>\n",
              "      <td>white</td>\n",
              "      <td>Ghoul</td>\n",
              "    </tr>\n",
              "    <tr>\n",
              "      <th>1</th>\n",
              "      <td>170</td>\n",
              "      <td>0.480836</td>\n",
              "      <td>0.407930</td>\n",
              "      <td>0.539005</td>\n",
              "      <td>0.495069</td>\n",
              "      <td>clear</td>\n",
              "      <td>Goblin</td>\n",
              "    </tr>\n",
              "    <tr>\n",
              "      <th>2</th>\n",
              "      <td>189</td>\n",
              "      <td>0.375197</td>\n",
              "      <td>0.742953</td>\n",
              "      <td>0.320764</td>\n",
              "      <td>0.243440</td>\n",
              "      <td>blue</td>\n",
              "      <td>Ghost</td>\n",
              "    </tr>\n",
              "    <tr>\n",
              "      <th>3</th>\n",
              "      <td>861</td>\n",
              "      <td>0.626017</td>\n",
              "      <td>0.172182</td>\n",
              "      <td>0.408422</td>\n",
              "      <td>0.644941</td>\n",
              "      <td>blue</td>\n",
              "      <td>Ghoul</td>\n",
              "    </tr>\n",
              "    <tr>\n",
              "      <th>4</th>\n",
              "      <td>30</td>\n",
              "      <td>0.250770</td>\n",
              "      <td>0.246258</td>\n",
              "      <td>0.554654</td>\n",
              "      <td>0.250036</td>\n",
              "      <td>black</td>\n",
              "      <td>Ghost</td>\n",
              "    </tr>\n",
              "  </tbody>\n",
              "</table>\n",
              "</div>"
            ],
            "text/plain": [
              "    id  bone_length  rotting_flesh  hair_length  has_soul  color    type\n",
              "0  472     0.681615       0.529227     0.625242  0.615308  white   Ghoul\n",
              "1  170     0.480836       0.407930     0.539005  0.495069  clear  Goblin\n",
              "2  189     0.375197       0.742953     0.320764  0.243440   blue   Ghost\n",
              "3  861     0.626017       0.172182     0.408422  0.644941   blue   Ghoul\n",
              "4   30     0.250770       0.246258     0.554654  0.250036  black   Ghost"
            ]
          },
          "metadata": {},
          "execution_count": 532
        }
      ]
    },
    {
      "cell_type": "code",
      "metadata": {
        "colab": {
          "base_uri": "https://localhost:8080/",
          "height": 204
        },
        "id": "8NXla4PmMxNg",
        "outputId": "6d43be44-c601-4d38-9373-110df11eac8c"
      },
      "source": [
        "# Remove the uncommon features from the validation data\n",
        "df_val = df_val.drop(columns=uncommon_feature_val_not_train_test)\n",
        "\n",
        "# Print the first 5 rows of df_val\n",
        "df_val.head()"
      ],
      "execution_count": null,
      "outputs": [
        {
          "output_type": "execute_result",
          "data": {
            "text/html": [
              "<div>\n",
              "<style scoped>\n",
              "    .dataframe tbody tr th:only-of-type {\n",
              "        vertical-align: middle;\n",
              "    }\n",
              "\n",
              "    .dataframe tbody tr th {\n",
              "        vertical-align: top;\n",
              "    }\n",
              "\n",
              "    .dataframe thead th {\n",
              "        text-align: right;\n",
              "    }\n",
              "</style>\n",
              "<table border=\"1\" class=\"dataframe\">\n",
              "  <thead>\n",
              "    <tr style=\"text-align: right;\">\n",
              "      <th></th>\n",
              "      <th>id</th>\n",
              "      <th>bone_length</th>\n",
              "      <th>rotting_flesh</th>\n",
              "      <th>hair_length</th>\n",
              "      <th>has_soul</th>\n",
              "      <th>color</th>\n",
              "      <th>type</th>\n",
              "    </tr>\n",
              "  </thead>\n",
              "  <tbody>\n",
              "    <tr>\n",
              "      <th>0</th>\n",
              "      <td>779</td>\n",
              "      <td>0.516004</td>\n",
              "      <td>0.527508</td>\n",
              "      <td>0.354857</td>\n",
              "      <td>0.760432</td>\n",
              "      <td>white</td>\n",
              "      <td>Ghoul</td>\n",
              "    </tr>\n",
              "    <tr>\n",
              "      <th>1</th>\n",
              "      <td>72</td>\n",
              "      <td>0.523729</td>\n",
              "      <td>0.318483</td>\n",
              "      <td>0.330146</td>\n",
              "      <td>0.427402</td>\n",
              "      <td>green</td>\n",
              "      <td>Goblin</td>\n",
              "    </tr>\n",
              "    <tr>\n",
              "      <th>2</th>\n",
              "      <td>29</td>\n",
              "      <td>0.500197</td>\n",
              "      <td>0.438418</td>\n",
              "      <td>0.532530</td>\n",
              "      <td>0.665522</td>\n",
              "      <td>clear</td>\n",
              "      <td>Ghoul</td>\n",
              "    </tr>\n",
              "    <tr>\n",
              "      <th>3</th>\n",
              "      <td>745</td>\n",
              "      <td>0.417300</td>\n",
              "      <td>0.377595</td>\n",
              "      <td>0.541834</td>\n",
              "      <td>0.349087</td>\n",
              "      <td>clear</td>\n",
              "      <td>Goblin</td>\n",
              "    </tr>\n",
              "    <tr>\n",
              "      <th>4</th>\n",
              "      <td>119</td>\n",
              "      <td>0.515275</td>\n",
              "      <td>0.582627</td>\n",
              "      <td>0.568721</td>\n",
              "      <td>0.534079</td>\n",
              "      <td>clear</td>\n",
              "      <td>Goblin</td>\n",
              "    </tr>\n",
              "  </tbody>\n",
              "</table>\n",
              "</div>"
            ],
            "text/plain": [
              "    id  bone_length  rotting_flesh  hair_length  has_soul  color    type\n",
              "0  779     0.516004       0.527508     0.354857  0.760432  white   Ghoul\n",
              "1   72     0.523729       0.318483     0.330146  0.427402  green  Goblin\n",
              "2   29     0.500197       0.438418     0.532530  0.665522  clear   Ghoul\n",
              "3  745     0.417300       0.377595     0.541834  0.349087  clear  Goblin\n",
              "4  119     0.515275       0.582627     0.568721  0.534079  clear  Goblin"
            ]
          },
          "metadata": {},
          "execution_count": 533
        }
      ]
    },
    {
      "cell_type": "code",
      "metadata": {
        "colab": {
          "base_uri": "https://localhost:8080/",
          "height": 204
        },
        "id": "EBSL2rn9VEJ2",
        "scrolled": true,
        "outputId": "e8a2eb8a-393b-4c55-a07d-e1236c64b55b"
      },
      "source": [
        "# Remove the uncommon features from the test data\n",
        "df_test = df_test.drop(columns=uncommon_feature_test_not_train_val)\n",
        "\n",
        "# Print the first 5 rows of df_test\n",
        "df_test.head()"
      ],
      "execution_count": null,
      "outputs": [
        {
          "output_type": "execute_result",
          "data": {
            "text/html": [
              "<div>\n",
              "<style scoped>\n",
              "    .dataframe tbody tr th:only-of-type {\n",
              "        vertical-align: middle;\n",
              "    }\n",
              "\n",
              "    .dataframe tbody tr th {\n",
              "        vertical-align: top;\n",
              "    }\n",
              "\n",
              "    .dataframe thead th {\n",
              "        text-align: right;\n",
              "    }\n",
              "</style>\n",
              "<table border=\"1\" class=\"dataframe\">\n",
              "  <thead>\n",
              "    <tr style=\"text-align: right;\">\n",
              "      <th></th>\n",
              "      <th>id</th>\n",
              "      <th>bone_length</th>\n",
              "      <th>rotting_flesh</th>\n",
              "      <th>hair_length</th>\n",
              "      <th>has_soul</th>\n",
              "      <th>color</th>\n",
              "    </tr>\n",
              "  </thead>\n",
              "  <tbody>\n",
              "    <tr>\n",
              "      <th>0</th>\n",
              "      <td>3</td>\n",
              "      <td>0.471774</td>\n",
              "      <td>0.387937</td>\n",
              "      <td>0.706087</td>\n",
              "      <td>0.698537</td>\n",
              "      <td>black</td>\n",
              "    </tr>\n",
              "    <tr>\n",
              "      <th>1</th>\n",
              "      <td>6</td>\n",
              "      <td>0.427332</td>\n",
              "      <td>0.645024</td>\n",
              "      <td>0.565558</td>\n",
              "      <td>0.451462</td>\n",
              "      <td>white</td>\n",
              "    </tr>\n",
              "    <tr>\n",
              "      <th>2</th>\n",
              "      <td>9</td>\n",
              "      <td>0.549602</td>\n",
              "      <td>0.491931</td>\n",
              "      <td>0.660387</td>\n",
              "      <td>0.449809</td>\n",
              "      <td>black</td>\n",
              "    </tr>\n",
              "    <tr>\n",
              "      <th>3</th>\n",
              "      <td>10</td>\n",
              "      <td>0.638095</td>\n",
              "      <td>0.682867</td>\n",
              "      <td>0.471409</td>\n",
              "      <td>0.356924</td>\n",
              "      <td>white</td>\n",
              "    </tr>\n",
              "    <tr>\n",
              "      <th>4</th>\n",
              "      <td>13</td>\n",
              "      <td>0.361762</td>\n",
              "      <td>0.583997</td>\n",
              "      <td>0.377256</td>\n",
              "      <td>0.276364</td>\n",
              "      <td>black</td>\n",
              "    </tr>\n",
              "  </tbody>\n",
              "</table>\n",
              "</div>"
            ],
            "text/plain": [
              "   id  bone_length  rotting_flesh  hair_length  has_soul  color\n",
              "0   3     0.471774       0.387937     0.706087  0.698537  black\n",
              "1   6     0.427332       0.645024     0.565558  0.451462  white\n",
              "2   9     0.549602       0.491931     0.660387  0.449809  black\n",
              "3  10     0.638095       0.682867     0.471409  0.356924  white\n",
              "4  13     0.361762       0.583997     0.377256  0.276364  black"
            ]
          },
          "metadata": {},
          "execution_count": 534
        }
      ]
    },
    {
      "cell_type": "markdown",
      "metadata": {
        "id": "0i88uPaRzlFV"
      },
      "source": [
        "## Handling identifiers"
      ]
    },
    {
      "cell_type": "markdown",
      "metadata": {
        "id": "W8-npdxxzlFV"
      },
      "source": [
        "### Combining the training, validation and test data\n",
        "The code below shows how to combine the training, validation and test data."
      ]
    },
    {
      "cell_type": "code",
      "metadata": {
        "id": "2djPwG2yzlFV"
      },
      "source": [
        "# Combine df_train, df_val and df_test\n",
        "df = pd.concat([df_train, df_val, df_test], sort=False)"
      ],
      "execution_count": null,
      "outputs": []
    },
    {
      "cell_type": "markdown",
      "metadata": {
        "id": "lkVXIUx_zlFX"
      },
      "source": [
        "### Identifying identifiers\n",
        "The code below shows how to find identifiers from data."
      ]
    },
    {
      "cell_type": "code",
      "metadata": {
        "colab": {
          "base_uri": "https://localhost:8080/",
          "height": 204
        },
        "id": "m-MkTouVzlFX",
        "scrolled": false,
        "outputId": "ba92eaa2-43d8-499d-a2ae-85e40dbe3690"
      },
      "source": [
        "# Call id_checker on df\n",
        "# See the implementation in pmlm_utilities.ipynb\n",
        "df_id = id_checker(df)\n",
        "\n",
        "# Print the first 5 rows of df_id\n",
        "df_id.head()"
      ],
      "execution_count": null,
      "outputs": [
        {
          "output_type": "execute_result",
          "data": {
            "text/html": [
              "<div>\n",
              "<style scoped>\n",
              "    .dataframe tbody tr th:only-of-type {\n",
              "        vertical-align: middle;\n",
              "    }\n",
              "\n",
              "    .dataframe tbody tr th {\n",
              "        vertical-align: top;\n",
              "    }\n",
              "\n",
              "    .dataframe thead th {\n",
              "        text-align: right;\n",
              "    }\n",
              "</style>\n",
              "<table border=\"1\" class=\"dataframe\">\n",
              "  <thead>\n",
              "    <tr style=\"text-align: right;\">\n",
              "      <th></th>\n",
              "      <th>id</th>\n",
              "    </tr>\n",
              "  </thead>\n",
              "  <tbody>\n",
              "    <tr>\n",
              "      <th>0</th>\n",
              "      <td>472</td>\n",
              "    </tr>\n",
              "    <tr>\n",
              "      <th>1</th>\n",
              "      <td>170</td>\n",
              "    </tr>\n",
              "    <tr>\n",
              "      <th>2</th>\n",
              "      <td>189</td>\n",
              "    </tr>\n",
              "    <tr>\n",
              "      <th>3</th>\n",
              "      <td>861</td>\n",
              "    </tr>\n",
              "    <tr>\n",
              "      <th>4</th>\n",
              "      <td>30</td>\n",
              "    </tr>\n",
              "  </tbody>\n",
              "</table>\n",
              "</div>"
            ],
            "text/plain": [
              "    id\n",
              "0  472\n",
              "1  170\n",
              "2  189\n",
              "3  861\n",
              "4   30"
            ]
          },
          "metadata": {},
          "execution_count": 536
        }
      ]
    },
    {
      "cell_type": "markdown",
      "metadata": {
        "id": "OUqe6lsczlFZ"
      },
      "source": [
        "### Removing identifiers\n",
        "The code below shows how to remove identifiers from data."
      ]
    },
    {
      "cell_type": "code",
      "metadata": {
        "id": "mDli2hF0zlFZ",
        "scrolled": true
      },
      "source": [
        "import numpy as np\n",
        "\n",
        "# Remove identifiers from df_train\n",
        "df_train.drop(columns=np.intersect1d(df_id.columns, df_train.columns), inplace=True)\n",
        "\n",
        "# Remove identifiers from df_val\n",
        "df_val.drop(columns=np.intersect1d(df_id.columns, df_val.columns), inplace=True)\n",
        "\n",
        "# Remove identifiers from df_test\n",
        "df_test.drop(columns=np.intersect1d(df_id.columns, df_test.columns), inplace=True)"
      ],
      "execution_count": null,
      "outputs": []
    },
    {
      "cell_type": "code",
      "metadata": {
        "colab": {
          "base_uri": "https://localhost:8080/",
          "height": 204
        },
        "id": "RMG8QKFezlFc",
        "scrolled": false,
        "outputId": "379a715c-47cd-4d24-ca05-8d963bd12bd9"
      },
      "source": [
        "# Print the first 5 rows of df_train\n",
        "df_train.head()"
      ],
      "execution_count": null,
      "outputs": [
        {
          "output_type": "execute_result",
          "data": {
            "text/html": [
              "<div>\n",
              "<style scoped>\n",
              "    .dataframe tbody tr th:only-of-type {\n",
              "        vertical-align: middle;\n",
              "    }\n",
              "\n",
              "    .dataframe tbody tr th {\n",
              "        vertical-align: top;\n",
              "    }\n",
              "\n",
              "    .dataframe thead th {\n",
              "        text-align: right;\n",
              "    }\n",
              "</style>\n",
              "<table border=\"1\" class=\"dataframe\">\n",
              "  <thead>\n",
              "    <tr style=\"text-align: right;\">\n",
              "      <th></th>\n",
              "      <th>bone_length</th>\n",
              "      <th>rotting_flesh</th>\n",
              "      <th>hair_length</th>\n",
              "      <th>has_soul</th>\n",
              "      <th>color</th>\n",
              "      <th>type</th>\n",
              "    </tr>\n",
              "  </thead>\n",
              "  <tbody>\n",
              "    <tr>\n",
              "      <th>0</th>\n",
              "      <td>0.681615</td>\n",
              "      <td>0.529227</td>\n",
              "      <td>0.625242</td>\n",
              "      <td>0.615308</td>\n",
              "      <td>white</td>\n",
              "      <td>Ghoul</td>\n",
              "    </tr>\n",
              "    <tr>\n",
              "      <th>1</th>\n",
              "      <td>0.480836</td>\n",
              "      <td>0.407930</td>\n",
              "      <td>0.539005</td>\n",
              "      <td>0.495069</td>\n",
              "      <td>clear</td>\n",
              "      <td>Goblin</td>\n",
              "    </tr>\n",
              "    <tr>\n",
              "      <th>2</th>\n",
              "      <td>0.375197</td>\n",
              "      <td>0.742953</td>\n",
              "      <td>0.320764</td>\n",
              "      <td>0.243440</td>\n",
              "      <td>blue</td>\n",
              "      <td>Ghost</td>\n",
              "    </tr>\n",
              "    <tr>\n",
              "      <th>3</th>\n",
              "      <td>0.626017</td>\n",
              "      <td>0.172182</td>\n",
              "      <td>0.408422</td>\n",
              "      <td>0.644941</td>\n",
              "      <td>blue</td>\n",
              "      <td>Ghoul</td>\n",
              "    </tr>\n",
              "    <tr>\n",
              "      <th>4</th>\n",
              "      <td>0.250770</td>\n",
              "      <td>0.246258</td>\n",
              "      <td>0.554654</td>\n",
              "      <td>0.250036</td>\n",
              "      <td>black</td>\n",
              "      <td>Ghost</td>\n",
              "    </tr>\n",
              "  </tbody>\n",
              "</table>\n",
              "</div>"
            ],
            "text/plain": [
              "   bone_length  rotting_flesh  hair_length  has_soul  color    type\n",
              "0     0.681615       0.529227     0.625242  0.615308  white   Ghoul\n",
              "1     0.480836       0.407930     0.539005  0.495069  clear  Goblin\n",
              "2     0.375197       0.742953     0.320764  0.243440   blue   Ghost\n",
              "3     0.626017       0.172182     0.408422  0.644941   blue   Ghoul\n",
              "4     0.250770       0.246258     0.554654  0.250036  black   Ghost"
            ]
          },
          "metadata": {},
          "execution_count": 538
        }
      ]
    },
    {
      "cell_type": "code",
      "metadata": {
        "colab": {
          "base_uri": "https://localhost:8080/",
          "height": 204
        },
        "id": "Xk_c0vh8zlFe",
        "scrolled": false,
        "outputId": "87be739d-3896-45b3-929a-97b6d62e0a15"
      },
      "source": [
        "# Print the first 5 rows of df_val\n",
        "df_val.head()"
      ],
      "execution_count": null,
      "outputs": [
        {
          "output_type": "execute_result",
          "data": {
            "text/html": [
              "<div>\n",
              "<style scoped>\n",
              "    .dataframe tbody tr th:only-of-type {\n",
              "        vertical-align: middle;\n",
              "    }\n",
              "\n",
              "    .dataframe tbody tr th {\n",
              "        vertical-align: top;\n",
              "    }\n",
              "\n",
              "    .dataframe thead th {\n",
              "        text-align: right;\n",
              "    }\n",
              "</style>\n",
              "<table border=\"1\" class=\"dataframe\">\n",
              "  <thead>\n",
              "    <tr style=\"text-align: right;\">\n",
              "      <th></th>\n",
              "      <th>bone_length</th>\n",
              "      <th>rotting_flesh</th>\n",
              "      <th>hair_length</th>\n",
              "      <th>has_soul</th>\n",
              "      <th>color</th>\n",
              "      <th>type</th>\n",
              "    </tr>\n",
              "  </thead>\n",
              "  <tbody>\n",
              "    <tr>\n",
              "      <th>0</th>\n",
              "      <td>0.516004</td>\n",
              "      <td>0.527508</td>\n",
              "      <td>0.354857</td>\n",
              "      <td>0.760432</td>\n",
              "      <td>white</td>\n",
              "      <td>Ghoul</td>\n",
              "    </tr>\n",
              "    <tr>\n",
              "      <th>1</th>\n",
              "      <td>0.523729</td>\n",
              "      <td>0.318483</td>\n",
              "      <td>0.330146</td>\n",
              "      <td>0.427402</td>\n",
              "      <td>green</td>\n",
              "      <td>Goblin</td>\n",
              "    </tr>\n",
              "    <tr>\n",
              "      <th>2</th>\n",
              "      <td>0.500197</td>\n",
              "      <td>0.438418</td>\n",
              "      <td>0.532530</td>\n",
              "      <td>0.665522</td>\n",
              "      <td>clear</td>\n",
              "      <td>Ghoul</td>\n",
              "    </tr>\n",
              "    <tr>\n",
              "      <th>3</th>\n",
              "      <td>0.417300</td>\n",
              "      <td>0.377595</td>\n",
              "      <td>0.541834</td>\n",
              "      <td>0.349087</td>\n",
              "      <td>clear</td>\n",
              "      <td>Goblin</td>\n",
              "    </tr>\n",
              "    <tr>\n",
              "      <th>4</th>\n",
              "      <td>0.515275</td>\n",
              "      <td>0.582627</td>\n",
              "      <td>0.568721</td>\n",
              "      <td>0.534079</td>\n",
              "      <td>clear</td>\n",
              "      <td>Goblin</td>\n",
              "    </tr>\n",
              "  </tbody>\n",
              "</table>\n",
              "</div>"
            ],
            "text/plain": [
              "   bone_length  rotting_flesh  hair_length  has_soul  color    type\n",
              "0     0.516004       0.527508     0.354857  0.760432  white   Ghoul\n",
              "1     0.523729       0.318483     0.330146  0.427402  green  Goblin\n",
              "2     0.500197       0.438418     0.532530  0.665522  clear   Ghoul\n",
              "3     0.417300       0.377595     0.541834  0.349087  clear  Goblin\n",
              "4     0.515275       0.582627     0.568721  0.534079  clear  Goblin"
            ]
          },
          "metadata": {},
          "execution_count": 539
        }
      ]
    },
    {
      "cell_type": "code",
      "metadata": {
        "colab": {
          "base_uri": "https://localhost:8080/",
          "height": 204
        },
        "id": "ib3DKH0DzlFg",
        "scrolled": false,
        "outputId": "5849e0b8-a434-433c-8d5e-da056445868b"
      },
      "source": [
        "# Print the first 5 rows of df_test\n",
        "df_test.head()"
      ],
      "execution_count": null,
      "outputs": [
        {
          "output_type": "execute_result",
          "data": {
            "text/html": [
              "<div>\n",
              "<style scoped>\n",
              "    .dataframe tbody tr th:only-of-type {\n",
              "        vertical-align: middle;\n",
              "    }\n",
              "\n",
              "    .dataframe tbody tr th {\n",
              "        vertical-align: top;\n",
              "    }\n",
              "\n",
              "    .dataframe thead th {\n",
              "        text-align: right;\n",
              "    }\n",
              "</style>\n",
              "<table border=\"1\" class=\"dataframe\">\n",
              "  <thead>\n",
              "    <tr style=\"text-align: right;\">\n",
              "      <th></th>\n",
              "      <th>bone_length</th>\n",
              "      <th>rotting_flesh</th>\n",
              "      <th>hair_length</th>\n",
              "      <th>has_soul</th>\n",
              "      <th>color</th>\n",
              "    </tr>\n",
              "  </thead>\n",
              "  <tbody>\n",
              "    <tr>\n",
              "      <th>0</th>\n",
              "      <td>0.471774</td>\n",
              "      <td>0.387937</td>\n",
              "      <td>0.706087</td>\n",
              "      <td>0.698537</td>\n",
              "      <td>black</td>\n",
              "    </tr>\n",
              "    <tr>\n",
              "      <th>1</th>\n",
              "      <td>0.427332</td>\n",
              "      <td>0.645024</td>\n",
              "      <td>0.565558</td>\n",
              "      <td>0.451462</td>\n",
              "      <td>white</td>\n",
              "    </tr>\n",
              "    <tr>\n",
              "      <th>2</th>\n",
              "      <td>0.549602</td>\n",
              "      <td>0.491931</td>\n",
              "      <td>0.660387</td>\n",
              "      <td>0.449809</td>\n",
              "      <td>black</td>\n",
              "    </tr>\n",
              "    <tr>\n",
              "      <th>3</th>\n",
              "      <td>0.638095</td>\n",
              "      <td>0.682867</td>\n",
              "      <td>0.471409</td>\n",
              "      <td>0.356924</td>\n",
              "      <td>white</td>\n",
              "    </tr>\n",
              "    <tr>\n",
              "      <th>4</th>\n",
              "      <td>0.361762</td>\n",
              "      <td>0.583997</td>\n",
              "      <td>0.377256</td>\n",
              "      <td>0.276364</td>\n",
              "      <td>black</td>\n",
              "    </tr>\n",
              "  </tbody>\n",
              "</table>\n",
              "</div>"
            ],
            "text/plain": [
              "   bone_length  rotting_flesh  hair_length  has_soul  color\n",
              "0     0.471774       0.387937     0.706087  0.698537  black\n",
              "1     0.427332       0.645024     0.565558  0.451462  white\n",
              "2     0.549602       0.491931     0.660387  0.449809  black\n",
              "3     0.638095       0.682867     0.471409  0.356924  white\n",
              "4     0.361762       0.583997     0.377256  0.276364  black"
            ]
          },
          "metadata": {},
          "execution_count": 540
        }
      ]
    },
    {
      "cell_type": "markdown",
      "metadata": {
        "id": "FEWSa3FlVEJ4"
      },
      "source": [
        "## Handling date time variables\n",
        "\n"
      ]
    },
    {
      "cell_type": "markdown",
      "metadata": {
        "id": "YkvArMXuVEJ4"
      },
      "source": [
        "### Transforming date time variables\n",
        "The code below shows how to transform date time variables into the following 6 datetime types:\n",
        "- year\n",
        "- month\n",
        "- day\n",
        "- hour\n",
        "- minute\n",
        "- second"
      ]
    },
    {
      "cell_type": "code",
      "metadata": {
        "id": "TkLsPcCnOdGi"
      },
      "source": [
        "# Get the date time variables\n",
        "datetime_vars = []"
      ],
      "execution_count": null,
      "outputs": []
    },
    {
      "cell_type": "code",
      "metadata": {
        "colab": {
          "base_uri": "https://localhost:8080/",
          "height": 204
        },
        "id": "fVh2HAksVEJ6",
        "outputId": "b652d73a-46da-415e-a816-aedd8d9b8869"
      },
      "source": [
        "# Call datetime_transformer on df_train\n",
        "# See the implementation in pmlm_utilities.ipynb\n",
        "df_train = datetime_transformer(df_train, datetime_vars)\n",
        "\n",
        "# Print the first 5 rows of df_train\n",
        "df_train.head()"
      ],
      "execution_count": null,
      "outputs": [
        {
          "output_type": "execute_result",
          "data": {
            "text/html": [
              "<div>\n",
              "<style scoped>\n",
              "    .dataframe tbody tr th:only-of-type {\n",
              "        vertical-align: middle;\n",
              "    }\n",
              "\n",
              "    .dataframe tbody tr th {\n",
              "        vertical-align: top;\n",
              "    }\n",
              "\n",
              "    .dataframe thead th {\n",
              "        text-align: right;\n",
              "    }\n",
              "</style>\n",
              "<table border=\"1\" class=\"dataframe\">\n",
              "  <thead>\n",
              "    <tr style=\"text-align: right;\">\n",
              "      <th></th>\n",
              "      <th>bone_length</th>\n",
              "      <th>rotting_flesh</th>\n",
              "      <th>hair_length</th>\n",
              "      <th>has_soul</th>\n",
              "      <th>color</th>\n",
              "      <th>type</th>\n",
              "    </tr>\n",
              "  </thead>\n",
              "  <tbody>\n",
              "    <tr>\n",
              "      <th>0</th>\n",
              "      <td>0.681615</td>\n",
              "      <td>0.529227</td>\n",
              "      <td>0.625242</td>\n",
              "      <td>0.615308</td>\n",
              "      <td>white</td>\n",
              "      <td>Ghoul</td>\n",
              "    </tr>\n",
              "    <tr>\n",
              "      <th>1</th>\n",
              "      <td>0.480836</td>\n",
              "      <td>0.407930</td>\n",
              "      <td>0.539005</td>\n",
              "      <td>0.495069</td>\n",
              "      <td>clear</td>\n",
              "      <td>Goblin</td>\n",
              "    </tr>\n",
              "    <tr>\n",
              "      <th>2</th>\n",
              "      <td>0.375197</td>\n",
              "      <td>0.742953</td>\n",
              "      <td>0.320764</td>\n",
              "      <td>0.243440</td>\n",
              "      <td>blue</td>\n",
              "      <td>Ghost</td>\n",
              "    </tr>\n",
              "    <tr>\n",
              "      <th>3</th>\n",
              "      <td>0.626017</td>\n",
              "      <td>0.172182</td>\n",
              "      <td>0.408422</td>\n",
              "      <td>0.644941</td>\n",
              "      <td>blue</td>\n",
              "      <td>Ghoul</td>\n",
              "    </tr>\n",
              "    <tr>\n",
              "      <th>4</th>\n",
              "      <td>0.250770</td>\n",
              "      <td>0.246258</td>\n",
              "      <td>0.554654</td>\n",
              "      <td>0.250036</td>\n",
              "      <td>black</td>\n",
              "      <td>Ghost</td>\n",
              "    </tr>\n",
              "  </tbody>\n",
              "</table>\n",
              "</div>"
            ],
            "text/plain": [
              "   bone_length  rotting_flesh  hair_length  has_soul  color    type\n",
              "0     0.681615       0.529227     0.625242  0.615308  white   Ghoul\n",
              "1     0.480836       0.407930     0.539005  0.495069  clear  Goblin\n",
              "2     0.375197       0.742953     0.320764  0.243440   blue   Ghost\n",
              "3     0.626017       0.172182     0.408422  0.644941   blue   Ghoul\n",
              "4     0.250770       0.246258     0.554654  0.250036  black   Ghost"
            ]
          },
          "metadata": {},
          "execution_count": 542
        }
      ]
    },
    {
      "cell_type": "code",
      "metadata": {
        "colab": {
          "base_uri": "https://localhost:8080/",
          "height": 204
        },
        "id": "yE-XP-z8MxNk",
        "outputId": "a02656d5-dce7-4d9f-d944-5286ba7013c5"
      },
      "source": [
        "# Call datetime_transformer on df_val\n",
        "# See the implementation in pmlm_utilities.ipynb\n",
        "df_val = datetime_transformer(df_val, datetime_vars)\n",
        "\n",
        "# Print the first 5 rows of df_val\n",
        "df_val.head()"
      ],
      "execution_count": null,
      "outputs": [
        {
          "output_type": "execute_result",
          "data": {
            "text/html": [
              "<div>\n",
              "<style scoped>\n",
              "    .dataframe tbody tr th:only-of-type {\n",
              "        vertical-align: middle;\n",
              "    }\n",
              "\n",
              "    .dataframe tbody tr th {\n",
              "        vertical-align: top;\n",
              "    }\n",
              "\n",
              "    .dataframe thead th {\n",
              "        text-align: right;\n",
              "    }\n",
              "</style>\n",
              "<table border=\"1\" class=\"dataframe\">\n",
              "  <thead>\n",
              "    <tr style=\"text-align: right;\">\n",
              "      <th></th>\n",
              "      <th>bone_length</th>\n",
              "      <th>rotting_flesh</th>\n",
              "      <th>hair_length</th>\n",
              "      <th>has_soul</th>\n",
              "      <th>color</th>\n",
              "      <th>type</th>\n",
              "    </tr>\n",
              "  </thead>\n",
              "  <tbody>\n",
              "    <tr>\n",
              "      <th>0</th>\n",
              "      <td>0.516004</td>\n",
              "      <td>0.527508</td>\n",
              "      <td>0.354857</td>\n",
              "      <td>0.760432</td>\n",
              "      <td>white</td>\n",
              "      <td>Ghoul</td>\n",
              "    </tr>\n",
              "    <tr>\n",
              "      <th>1</th>\n",
              "      <td>0.523729</td>\n",
              "      <td>0.318483</td>\n",
              "      <td>0.330146</td>\n",
              "      <td>0.427402</td>\n",
              "      <td>green</td>\n",
              "      <td>Goblin</td>\n",
              "    </tr>\n",
              "    <tr>\n",
              "      <th>2</th>\n",
              "      <td>0.500197</td>\n",
              "      <td>0.438418</td>\n",
              "      <td>0.532530</td>\n",
              "      <td>0.665522</td>\n",
              "      <td>clear</td>\n",
              "      <td>Ghoul</td>\n",
              "    </tr>\n",
              "    <tr>\n",
              "      <th>3</th>\n",
              "      <td>0.417300</td>\n",
              "      <td>0.377595</td>\n",
              "      <td>0.541834</td>\n",
              "      <td>0.349087</td>\n",
              "      <td>clear</td>\n",
              "      <td>Goblin</td>\n",
              "    </tr>\n",
              "    <tr>\n",
              "      <th>4</th>\n",
              "      <td>0.515275</td>\n",
              "      <td>0.582627</td>\n",
              "      <td>0.568721</td>\n",
              "      <td>0.534079</td>\n",
              "      <td>clear</td>\n",
              "      <td>Goblin</td>\n",
              "    </tr>\n",
              "  </tbody>\n",
              "</table>\n",
              "</div>"
            ],
            "text/plain": [
              "   bone_length  rotting_flesh  hair_length  has_soul  color    type\n",
              "0     0.516004       0.527508     0.354857  0.760432  white   Ghoul\n",
              "1     0.523729       0.318483     0.330146  0.427402  green  Goblin\n",
              "2     0.500197       0.438418     0.532530  0.665522  clear   Ghoul\n",
              "3     0.417300       0.377595     0.541834  0.349087  clear  Goblin\n",
              "4     0.515275       0.582627     0.568721  0.534079  clear  Goblin"
            ]
          },
          "metadata": {},
          "execution_count": 543
        }
      ]
    },
    {
      "cell_type": "code",
      "metadata": {
        "colab": {
          "base_uri": "https://localhost:8080/",
          "height": 204
        },
        "id": "TraRqZFbVEJ8",
        "scrolled": false,
        "outputId": "d480f854-edc7-411c-d79b-bf22d6cab774"
      },
      "source": [
        "# Call datetime_transformer on df_test\n",
        "# See the implementation in pmlm_utilities.ipynb\n",
        "df_test = datetime_transformer(df_test, datetime_vars)\n",
        "\n",
        "# Print the first 5 rows of df_test\n",
        "df_test.head()"
      ],
      "execution_count": null,
      "outputs": [
        {
          "output_type": "execute_result",
          "data": {
            "text/html": [
              "<div>\n",
              "<style scoped>\n",
              "    .dataframe tbody tr th:only-of-type {\n",
              "        vertical-align: middle;\n",
              "    }\n",
              "\n",
              "    .dataframe tbody tr th {\n",
              "        vertical-align: top;\n",
              "    }\n",
              "\n",
              "    .dataframe thead th {\n",
              "        text-align: right;\n",
              "    }\n",
              "</style>\n",
              "<table border=\"1\" class=\"dataframe\">\n",
              "  <thead>\n",
              "    <tr style=\"text-align: right;\">\n",
              "      <th></th>\n",
              "      <th>bone_length</th>\n",
              "      <th>rotting_flesh</th>\n",
              "      <th>hair_length</th>\n",
              "      <th>has_soul</th>\n",
              "      <th>color</th>\n",
              "    </tr>\n",
              "  </thead>\n",
              "  <tbody>\n",
              "    <tr>\n",
              "      <th>0</th>\n",
              "      <td>0.471774</td>\n",
              "      <td>0.387937</td>\n",
              "      <td>0.706087</td>\n",
              "      <td>0.698537</td>\n",
              "      <td>black</td>\n",
              "    </tr>\n",
              "    <tr>\n",
              "      <th>1</th>\n",
              "      <td>0.427332</td>\n",
              "      <td>0.645024</td>\n",
              "      <td>0.565558</td>\n",
              "      <td>0.451462</td>\n",
              "      <td>white</td>\n",
              "    </tr>\n",
              "    <tr>\n",
              "      <th>2</th>\n",
              "      <td>0.549602</td>\n",
              "      <td>0.491931</td>\n",
              "      <td>0.660387</td>\n",
              "      <td>0.449809</td>\n",
              "      <td>black</td>\n",
              "    </tr>\n",
              "    <tr>\n",
              "      <th>3</th>\n",
              "      <td>0.638095</td>\n",
              "      <td>0.682867</td>\n",
              "      <td>0.471409</td>\n",
              "      <td>0.356924</td>\n",
              "      <td>white</td>\n",
              "    </tr>\n",
              "    <tr>\n",
              "      <th>4</th>\n",
              "      <td>0.361762</td>\n",
              "      <td>0.583997</td>\n",
              "      <td>0.377256</td>\n",
              "      <td>0.276364</td>\n",
              "      <td>black</td>\n",
              "    </tr>\n",
              "  </tbody>\n",
              "</table>\n",
              "</div>"
            ],
            "text/plain": [
              "   bone_length  rotting_flesh  hair_length  has_soul  color\n",
              "0     0.471774       0.387937     0.706087  0.698537  black\n",
              "1     0.427332       0.645024     0.565558  0.451462  white\n",
              "2     0.549602       0.491931     0.660387  0.449809  black\n",
              "3     0.638095       0.682867     0.471409  0.356924  white\n",
              "4     0.361762       0.583997     0.377256  0.276364  black"
            ]
          },
          "metadata": {},
          "execution_count": 544
        }
      ]
    },
    {
      "cell_type": "markdown",
      "metadata": {
        "id": "sreXrgK9zlFi"
      },
      "source": [
        "## Handling missing data"
      ]
    },
    {
      "cell_type": "markdown",
      "metadata": {
        "id": "2SNvFfHozlFi"
      },
      "source": [
        "### Combining the training, validation and test data\n",
        "The code below shows how to combine the training, validation and test data."
      ]
    },
    {
      "cell_type": "code",
      "metadata": {
        "id": "RRsmSwZRzlFi"
      },
      "source": [
        "# Combine df_train, df_val and df_test\n",
        "df = pd.concat([df_train, df_val, df_test], sort=False)"
      ],
      "execution_count": null,
      "outputs": []
    },
    {
      "cell_type": "markdown",
      "metadata": {
        "id": "wlqQtCbXzlFj"
      },
      "source": [
        "### Identifying missing values"
      ]
    },
    {
      "cell_type": "markdown",
      "metadata": {
        "id": "CXu1rrCPzlFk"
      },
      "source": [
        "The code below shows how to find variables with NaN, their proportion of NaN and data type."
      ]
    },
    {
      "cell_type": "code",
      "metadata": {
        "colab": {
          "base_uri": "https://localhost:8080/",
          "height": 80
        },
        "id": "XlbjyhKxzlFk",
        "outputId": "74a31156-85e7-46ec-8c0a-8f6c86e652f7"
      },
      "source": [
        "# Call nan_checker on df\n",
        "# See the implementation in pmlm_utilities.ipynb\n",
        "df_nan = nan_checker(df)\n",
        "\n",
        "# Print df_nan\n",
        "df_nan"
      ],
      "execution_count": null,
      "outputs": [
        {
          "output_type": "execute_result",
          "data": {
            "text/html": [
              "<div>\n",
              "<style scoped>\n",
              "    .dataframe tbody tr th:only-of-type {\n",
              "        vertical-align: middle;\n",
              "    }\n",
              "\n",
              "    .dataframe tbody tr th {\n",
              "        vertical-align: top;\n",
              "    }\n",
              "\n",
              "    .dataframe thead th {\n",
              "        text-align: right;\n",
              "    }\n",
              "</style>\n",
              "<table border=\"1\" class=\"dataframe\">\n",
              "  <thead>\n",
              "    <tr style=\"text-align: right;\">\n",
              "      <th></th>\n",
              "      <th>var</th>\n",
              "      <th>proportion</th>\n",
              "      <th>dtype</th>\n",
              "    </tr>\n",
              "  </thead>\n",
              "  <tbody>\n",
              "    <tr>\n",
              "      <th>0</th>\n",
              "      <td>type</td>\n",
              "      <td>0.587778</td>\n",
              "      <td>object</td>\n",
              "    </tr>\n",
              "  </tbody>\n",
              "</table>\n",
              "</div>"
            ],
            "text/plain": [
              "    var  proportion   dtype\n",
              "0  type    0.587778  object"
            ]
          },
          "metadata": {},
          "execution_count": 546
        }
      ]
    },
    {
      "cell_type": "code",
      "metadata": {
        "colab": {
          "base_uri": "https://localhost:8080/",
          "height": 80
        },
        "id": "kp8QvrGozlFl",
        "scrolled": true,
        "outputId": "02bf5971-f5b6-4dc7-9a25-43d1cb24b1f9"
      },
      "source": [
        "# Print the unique data type of variables with NaN\n",
        "pd.DataFrame(df_nan['dtype'].unique(), columns=['dtype'])"
      ],
      "execution_count": null,
      "outputs": [
        {
          "output_type": "execute_result",
          "data": {
            "text/html": [
              "<div>\n",
              "<style scoped>\n",
              "    .dataframe tbody tr th:only-of-type {\n",
              "        vertical-align: middle;\n",
              "    }\n",
              "\n",
              "    .dataframe tbody tr th {\n",
              "        vertical-align: top;\n",
              "    }\n",
              "\n",
              "    .dataframe thead th {\n",
              "        text-align: right;\n",
              "    }\n",
              "</style>\n",
              "<table border=\"1\" class=\"dataframe\">\n",
              "  <thead>\n",
              "    <tr style=\"text-align: right;\">\n",
              "      <th></th>\n",
              "      <th>dtype</th>\n",
              "    </tr>\n",
              "  </thead>\n",
              "  <tbody>\n",
              "    <tr>\n",
              "      <th>0</th>\n",
              "      <td>object</td>\n",
              "    </tr>\n",
              "  </tbody>\n",
              "</table>\n",
              "</div>"
            ],
            "text/plain": [
              "    dtype\n",
              "0  object"
            ]
          },
          "metadata": {},
          "execution_count": 547
        }
      ]
    },
    {
      "cell_type": "markdown",
      "metadata": {
        "id": "IN-sgksazlFn"
      },
      "source": [
        "The code below shows how to use data type to select variables with missing values in the combined data."
      ]
    },
    {
      "cell_type": "code",
      "metadata": {
        "colab": {
          "base_uri": "https://localhost:8080/",
          "height": 49
        },
        "id": "Q-0AhaPlzlFn",
        "scrolled": true,
        "outputId": "e8c32f53-81c2-477f-9fb4-3d534dbbae06"
      },
      "source": [
        "# Get the variables with missing values, their proportion of missing values and data type\n",
        "df_miss = df_nan[df_nan['dtype'] == 'float64'].reset_index(drop=True)\n",
        "\n",
        "# Print df_miss\n",
        "df_miss"
      ],
      "execution_count": null,
      "outputs": [
        {
          "output_type": "execute_result",
          "data": {
            "text/html": [
              "<div>\n",
              "<style scoped>\n",
              "    .dataframe tbody tr th:only-of-type {\n",
              "        vertical-align: middle;\n",
              "    }\n",
              "\n",
              "    .dataframe tbody tr th {\n",
              "        vertical-align: top;\n",
              "    }\n",
              "\n",
              "    .dataframe thead th {\n",
              "        text-align: right;\n",
              "    }\n",
              "</style>\n",
              "<table border=\"1\" class=\"dataframe\">\n",
              "  <thead>\n",
              "    <tr style=\"text-align: right;\">\n",
              "      <th></th>\n",
              "      <th>var</th>\n",
              "      <th>proportion</th>\n",
              "      <th>dtype</th>\n",
              "    </tr>\n",
              "  </thead>\n",
              "  <tbody>\n",
              "  </tbody>\n",
              "</table>\n",
              "</div>"
            ],
            "text/plain": [
              "Empty DataFrame\n",
              "Columns: [var, proportion, dtype]\n",
              "Index: []"
            ]
          },
          "metadata": {},
          "execution_count": 548
        }
      ]
    },
    {
      "cell_type": "markdown",
      "metadata": {
        "id": "3sNqs5znzlFo"
      },
      "source": [
        "### Separating the training, validation and test data\n",
        "The code below shows how to separate the training, validation and test data."
      ]
    },
    {
      "cell_type": "code",
      "metadata": {
        "id": "jcK3O9i-zlFo"
      },
      "source": [
        "# Separating the training data\n",
        "df_train = df.iloc[:df_train.shape[0], :]\n",
        "\n",
        "# Separating the validation data\n",
        "df_val = df.iloc[df_train.shape[0]:df_train.shape[0] + df_val.shape[0], :]\n",
        "\n",
        "# Separating the test data\n",
        "df_test = df.iloc[df_train.shape[0] + df_val.shape[0]:, :]"
      ],
      "execution_count": null,
      "outputs": []
    },
    {
      "cell_type": "code",
      "metadata": {
        "colab": {
          "base_uri": "https://localhost:8080/",
          "height": 80
        },
        "id": "m3rLR944zlFp",
        "scrolled": true,
        "outputId": "6e38836c-0774-4c0f-f515-5132b5358f14"
      },
      "source": [
        "# Print the dimension of df_train\n",
        "pd.DataFrame([[df_train.shape[0], df_train.shape[1]]], columns=['# rows', '# columns'])"
      ],
      "execution_count": null,
      "outputs": [
        {
          "output_type": "execute_result",
          "data": {
            "text/html": [
              "<div>\n",
              "<style scoped>\n",
              "    .dataframe tbody tr th:only-of-type {\n",
              "        vertical-align: middle;\n",
              "    }\n",
              "\n",
              "    .dataframe tbody tr th {\n",
              "        vertical-align: top;\n",
              "    }\n",
              "\n",
              "    .dataframe thead th {\n",
              "        text-align: right;\n",
              "    }\n",
              "</style>\n",
              "<table border=\"1\" class=\"dataframe\">\n",
              "  <thead>\n",
              "    <tr style=\"text-align: right;\">\n",
              "      <th></th>\n",
              "      <th># rows</th>\n",
              "      <th># columns</th>\n",
              "    </tr>\n",
              "  </thead>\n",
              "  <tbody>\n",
              "    <tr>\n",
              "      <th>0</th>\n",
              "      <td>296</td>\n",
              "      <td>6</td>\n",
              "    </tr>\n",
              "  </tbody>\n",
              "</table>\n",
              "</div>"
            ],
            "text/plain": [
              "   # rows  # columns\n",
              "0     296          6"
            ]
          },
          "metadata": {},
          "execution_count": 550
        }
      ]
    },
    {
      "cell_type": "code",
      "metadata": {
        "colab": {
          "base_uri": "https://localhost:8080/",
          "height": 80
        },
        "id": "62r9PZ4xzlFr",
        "scrolled": true,
        "outputId": "55cb0f42-5ebf-46e7-8c5f-0b8d1e2a06b0"
      },
      "source": [
        "# Print the dimension of df_val\n",
        "pd.DataFrame([[df_val.shape[0], df_val.shape[1]]], columns=['# rows', '# columns'])"
      ],
      "execution_count": null,
      "outputs": [
        {
          "output_type": "execute_result",
          "data": {
            "text/html": [
              "<div>\n",
              "<style scoped>\n",
              "    .dataframe tbody tr th:only-of-type {\n",
              "        vertical-align: middle;\n",
              "    }\n",
              "\n",
              "    .dataframe tbody tr th {\n",
              "        vertical-align: top;\n",
              "    }\n",
              "\n",
              "    .dataframe thead th {\n",
              "        text-align: right;\n",
              "    }\n",
              "</style>\n",
              "<table border=\"1\" class=\"dataframe\">\n",
              "  <thead>\n",
              "    <tr style=\"text-align: right;\">\n",
              "      <th></th>\n",
              "      <th># rows</th>\n",
              "      <th># columns</th>\n",
              "    </tr>\n",
              "  </thead>\n",
              "  <tbody>\n",
              "    <tr>\n",
              "      <th>0</th>\n",
              "      <td>75</td>\n",
              "      <td>6</td>\n",
              "    </tr>\n",
              "  </tbody>\n",
              "</table>\n",
              "</div>"
            ],
            "text/plain": [
              "   # rows  # columns\n",
              "0      75          6"
            ]
          },
          "metadata": {},
          "execution_count": 551
        }
      ]
    },
    {
      "cell_type": "code",
      "metadata": {
        "colab": {
          "base_uri": "https://localhost:8080/",
          "height": 80
        },
        "id": "mBrwWXxGzlFs",
        "scrolled": false,
        "outputId": "6c84d3e2-4f17-4b49-b75a-239f7afd9212"
      },
      "source": [
        "# Print the dimension of df_test\n",
        "pd.DataFrame([[df_test.shape[0], df_test.shape[1]]], columns=['# rows', '# columns'])"
      ],
      "execution_count": null,
      "outputs": [
        {
          "output_type": "execute_result",
          "data": {
            "text/html": [
              "<div>\n",
              "<style scoped>\n",
              "    .dataframe tbody tr th:only-of-type {\n",
              "        vertical-align: middle;\n",
              "    }\n",
              "\n",
              "    .dataframe tbody tr th {\n",
              "        vertical-align: top;\n",
              "    }\n",
              "\n",
              "    .dataframe thead th {\n",
              "        text-align: right;\n",
              "    }\n",
              "</style>\n",
              "<table border=\"1\" class=\"dataframe\">\n",
              "  <thead>\n",
              "    <tr style=\"text-align: right;\">\n",
              "      <th></th>\n",
              "      <th># rows</th>\n",
              "      <th># columns</th>\n",
              "    </tr>\n",
              "  </thead>\n",
              "  <tbody>\n",
              "    <tr>\n",
              "      <th>0</th>\n",
              "      <td>529</td>\n",
              "      <td>6</td>\n",
              "    </tr>\n",
              "  </tbody>\n",
              "</table>\n",
              "</div>"
            ],
            "text/plain": [
              "   # rows  # columns\n",
              "0     529          6"
            ]
          },
          "metadata": {},
          "execution_count": 552
        }
      ]
    },
    {
      "cell_type": "markdown",
      "metadata": {
        "id": "GXgfnUoczlFt"
      },
      "source": [
        "### Imputing missing values\n",
        "The code below shows how to use the mode of a variable to impute its missing values."
      ]
    },
    {
      "cell_type": "code",
      "metadata": {
        "id": "tcS8mYR0zlFu"
      },
      "source": [
        "from sklearn.impute import SimpleImputer\n",
        "\n",
        "# If there are missing values\n",
        "if len(df_miss['var']) > 0:\n",
        "    # The SimpleImputer\n",
        "    si = SimpleImputer(missing_values=np.nan, strategy='most_frequent')\n",
        "\n",
        "    # Impute the variables with missing values in df_train, df_val and df_test \n",
        "    df_train[df_miss['var']] = si.fit_transform(df_train[df_miss['var']])\n",
        "    df_val[df_miss['var']] = si.transform(df_val[df_miss['var']])\n",
        "    df_test[df_miss['var']] = si.transform(df_test[df_miss['var']])"
      ],
      "execution_count": null,
      "outputs": []
    },
    {
      "cell_type": "markdown",
      "metadata": {
        "id": "HWcUkrUCzlFv"
      },
      "source": [
        "## Encoding the data"
      ]
    },
    {
      "cell_type": "markdown",
      "metadata": {
        "id": "ezQ07Z9dzlFv"
      },
      "source": [
        "### Combining the training, validation and test data\n",
        "The code below shows how to combine the training, validation and test data."
      ]
    },
    {
      "cell_type": "code",
      "metadata": {
        "colab": {
          "base_uri": "https://localhost:8080/",
          "height": 111
        },
        "id": "fYrsGD60zlFv",
        "scrolled": true,
        "outputId": "3fe4790b-a7d2-4a04-853a-849810231aef"
      },
      "source": [
        "# Combine df_train, df_val and df_test\n",
        "df = pd.concat([df_train, df_val, df_test], sort=False)\n",
        "\n",
        "# Print the unique data type of variables in df\n",
        "pd.DataFrame(df.dtypes.unique(), columns=['dtype'])"
      ],
      "execution_count": null,
      "outputs": [
        {
          "output_type": "execute_result",
          "data": {
            "text/html": [
              "<div>\n",
              "<style scoped>\n",
              "    .dataframe tbody tr th:only-of-type {\n",
              "        vertical-align: middle;\n",
              "    }\n",
              "\n",
              "    .dataframe tbody tr th {\n",
              "        vertical-align: top;\n",
              "    }\n",
              "\n",
              "    .dataframe thead th {\n",
              "        text-align: right;\n",
              "    }\n",
              "</style>\n",
              "<table border=\"1\" class=\"dataframe\">\n",
              "  <thead>\n",
              "    <tr style=\"text-align: right;\">\n",
              "      <th></th>\n",
              "      <th>dtype</th>\n",
              "    </tr>\n",
              "  </thead>\n",
              "  <tbody>\n",
              "    <tr>\n",
              "      <th>0</th>\n",
              "      <td>float64</td>\n",
              "    </tr>\n",
              "    <tr>\n",
              "      <th>1</th>\n",
              "      <td>object</td>\n",
              "    </tr>\n",
              "  </tbody>\n",
              "</table>\n",
              "</div>"
            ],
            "text/plain": [
              "     dtype\n",
              "0  float64\n",
              "1   object"
            ]
          },
          "metadata": {},
          "execution_count": 554
        }
      ]
    },
    {
      "cell_type": "markdown",
      "metadata": {
        "id": "4qr55-jtzlFw"
      },
      "source": [
        "### Identifying categorical variables"
      ]
    },
    {
      "cell_type": "markdown",
      "metadata": {
        "id": "1rNrzzadzlFx"
      },
      "source": [
        "The code below shows how to find categorical variables (whose data type is dtype) and their number of unique value."
      ]
    },
    {
      "cell_type": "code",
      "metadata": {
        "colab": {
          "base_uri": "https://localhost:8080/",
          "height": 111
        },
        "id": "bguGxquQzlFx",
        "scrolled": true,
        "outputId": "f285f218-75d1-45df-a34f-489839de6d21"
      },
      "source": [
        "# Call cat_var_checker on df\n",
        "# See the implementation in pmlm_utilities.ipynb\n",
        "df_cat = cat_var_checker(df)\n",
        "\n",
        "# Print the dataframe\n",
        "df_cat"
      ],
      "execution_count": null,
      "outputs": [
        {
          "output_type": "execute_result",
          "data": {
            "text/html": [
              "<div>\n",
              "<style scoped>\n",
              "    .dataframe tbody tr th:only-of-type {\n",
              "        vertical-align: middle;\n",
              "    }\n",
              "\n",
              "    .dataframe tbody tr th {\n",
              "        vertical-align: top;\n",
              "    }\n",
              "\n",
              "    .dataframe thead th {\n",
              "        text-align: right;\n",
              "    }\n",
              "</style>\n",
              "<table border=\"1\" class=\"dataframe\">\n",
              "  <thead>\n",
              "    <tr style=\"text-align: right;\">\n",
              "      <th></th>\n",
              "      <th>var</th>\n",
              "      <th>nunique</th>\n",
              "    </tr>\n",
              "  </thead>\n",
              "  <tbody>\n",
              "    <tr>\n",
              "      <th>0</th>\n",
              "      <td>color</td>\n",
              "      <td>6</td>\n",
              "    </tr>\n",
              "    <tr>\n",
              "      <th>1</th>\n",
              "      <td>type</td>\n",
              "      <td>4</td>\n",
              "    </tr>\n",
              "  </tbody>\n",
              "</table>\n",
              "</div>"
            ],
            "text/plain": [
              "     var  nunique\n",
              "0  color        6\n",
              "1   type        4"
            ]
          },
          "metadata": {},
          "execution_count": 555
        }
      ]
    },
    {
      "cell_type": "markdown",
      "metadata": {
        "id": "op57Xa6yjB80"
      },
      "source": [
        "### Removing the categorical features with large number of categories\n",
        "The code below shows how to remove the categorical features with large number of categoires in the combined data."
      ]
    },
    {
      "cell_type": "code",
      "metadata": {
        "id": "CvOYDdKMjde0"
      },
      "source": [
        "# Remove features from df\n",
        "df = df.drop(columns=['color'])"
      ],
      "execution_count": null,
      "outputs": []
    },
    {
      "cell_type": "markdown",
      "metadata": {
        "id": "hFantdOvzlFy"
      },
      "source": [
        "### Encoding categorical features\n",
        "The code below shows how to encode categorical features in the combined data."
      ]
    },
    {
      "cell_type": "code",
      "metadata": {
        "colab": {
          "base_uri": "https://localhost:8080/",
          "height": 204
        },
        "id": "VHiPUWGqzlFy",
        "scrolled": false,
        "outputId": "cb042389-c0b2-4b91-ab0b-2ec540455c08"
      },
      "source": [
        "# One-hot-encode the categorical features in the combined data\n",
        "df = pd.get_dummies(df, columns=np.setdiff1d(np.intersect1d(df.columns, df_cat['var']), [target]))\n",
        "\n",
        "# Print the first 5 rows of df\n",
        "df.head()"
      ],
      "execution_count": null,
      "outputs": [
        {
          "output_type": "execute_result",
          "data": {
            "text/html": [
              "<div>\n",
              "<style scoped>\n",
              "    .dataframe tbody tr th:only-of-type {\n",
              "        vertical-align: middle;\n",
              "    }\n",
              "\n",
              "    .dataframe tbody tr th {\n",
              "        vertical-align: top;\n",
              "    }\n",
              "\n",
              "    .dataframe thead th {\n",
              "        text-align: right;\n",
              "    }\n",
              "</style>\n",
              "<table border=\"1\" class=\"dataframe\">\n",
              "  <thead>\n",
              "    <tr style=\"text-align: right;\">\n",
              "      <th></th>\n",
              "      <th>bone_length</th>\n",
              "      <th>rotting_flesh</th>\n",
              "      <th>hair_length</th>\n",
              "      <th>has_soul</th>\n",
              "      <th>type</th>\n",
              "    </tr>\n",
              "  </thead>\n",
              "  <tbody>\n",
              "    <tr>\n",
              "      <th>0</th>\n",
              "      <td>0.681615</td>\n",
              "      <td>0.529227</td>\n",
              "      <td>0.625242</td>\n",
              "      <td>0.615308</td>\n",
              "      <td>Ghoul</td>\n",
              "    </tr>\n",
              "    <tr>\n",
              "      <th>1</th>\n",
              "      <td>0.480836</td>\n",
              "      <td>0.407930</td>\n",
              "      <td>0.539005</td>\n",
              "      <td>0.495069</td>\n",
              "      <td>Goblin</td>\n",
              "    </tr>\n",
              "    <tr>\n",
              "      <th>2</th>\n",
              "      <td>0.375197</td>\n",
              "      <td>0.742953</td>\n",
              "      <td>0.320764</td>\n",
              "      <td>0.243440</td>\n",
              "      <td>Ghost</td>\n",
              "    </tr>\n",
              "    <tr>\n",
              "      <th>3</th>\n",
              "      <td>0.626017</td>\n",
              "      <td>0.172182</td>\n",
              "      <td>0.408422</td>\n",
              "      <td>0.644941</td>\n",
              "      <td>Ghoul</td>\n",
              "    </tr>\n",
              "    <tr>\n",
              "      <th>4</th>\n",
              "      <td>0.250770</td>\n",
              "      <td>0.246258</td>\n",
              "      <td>0.554654</td>\n",
              "      <td>0.250036</td>\n",
              "      <td>Ghost</td>\n",
              "    </tr>\n",
              "  </tbody>\n",
              "</table>\n",
              "</div>"
            ],
            "text/plain": [
              "   bone_length  rotting_flesh  hair_length  has_soul    type\n",
              "0     0.681615       0.529227     0.625242  0.615308   Ghoul\n",
              "1     0.480836       0.407930     0.539005  0.495069  Goblin\n",
              "2     0.375197       0.742953     0.320764  0.243440   Ghost\n",
              "3     0.626017       0.172182     0.408422  0.644941   Ghoul\n",
              "4     0.250770       0.246258     0.554654  0.250036   Ghost"
            ]
          },
          "metadata": {},
          "execution_count": 557
        }
      ]
    },
    {
      "cell_type": "markdown",
      "metadata": {
        "id": "0eSAn1mjyJLS"
      },
      "source": [
        "### Encoding categorical target\n",
        "The code below shows how to encode categorical target in the combined data."
      ]
    },
    {
      "cell_type": "code",
      "metadata": {
        "colab": {
          "base_uri": "https://localhost:8080/",
          "height": 204
        },
        "id": "ivjkBW9FyJLT",
        "scrolled": false,
        "outputId": "a8ac5851-e8e0-4377-e5aa-77a062c0e0fb"
      },
      "source": [
        "from sklearn.preprocessing import LabelEncoder\n",
        "\n",
        "# The LabelEncoder\n",
        "le = LabelEncoder()\n",
        "\n",
        "# Encode categorical target in the combined data\n",
        "df[target] = le.fit_transform(df[target].astype(str))\n",
        "\n",
        "# Print the first 5 rows of df\n",
        "df.head()"
      ],
      "execution_count": null,
      "outputs": [
        {
          "output_type": "execute_result",
          "data": {
            "text/html": [
              "<div>\n",
              "<style scoped>\n",
              "    .dataframe tbody tr th:only-of-type {\n",
              "        vertical-align: middle;\n",
              "    }\n",
              "\n",
              "    .dataframe tbody tr th {\n",
              "        vertical-align: top;\n",
              "    }\n",
              "\n",
              "    .dataframe thead th {\n",
              "        text-align: right;\n",
              "    }\n",
              "</style>\n",
              "<table border=\"1\" class=\"dataframe\">\n",
              "  <thead>\n",
              "    <tr style=\"text-align: right;\">\n",
              "      <th></th>\n",
              "      <th>bone_length</th>\n",
              "      <th>rotting_flesh</th>\n",
              "      <th>hair_length</th>\n",
              "      <th>has_soul</th>\n",
              "      <th>type</th>\n",
              "    </tr>\n",
              "  </thead>\n",
              "  <tbody>\n",
              "    <tr>\n",
              "      <th>0</th>\n",
              "      <td>0.681615</td>\n",
              "      <td>0.529227</td>\n",
              "      <td>0.625242</td>\n",
              "      <td>0.615308</td>\n",
              "      <td>1</td>\n",
              "    </tr>\n",
              "    <tr>\n",
              "      <th>1</th>\n",
              "      <td>0.480836</td>\n",
              "      <td>0.407930</td>\n",
              "      <td>0.539005</td>\n",
              "      <td>0.495069</td>\n",
              "      <td>2</td>\n",
              "    </tr>\n",
              "    <tr>\n",
              "      <th>2</th>\n",
              "      <td>0.375197</td>\n",
              "      <td>0.742953</td>\n",
              "      <td>0.320764</td>\n",
              "      <td>0.243440</td>\n",
              "      <td>0</td>\n",
              "    </tr>\n",
              "    <tr>\n",
              "      <th>3</th>\n",
              "      <td>0.626017</td>\n",
              "      <td>0.172182</td>\n",
              "      <td>0.408422</td>\n",
              "      <td>0.644941</td>\n",
              "      <td>1</td>\n",
              "    </tr>\n",
              "    <tr>\n",
              "      <th>4</th>\n",
              "      <td>0.250770</td>\n",
              "      <td>0.246258</td>\n",
              "      <td>0.554654</td>\n",
              "      <td>0.250036</td>\n",
              "      <td>0</td>\n",
              "    </tr>\n",
              "  </tbody>\n",
              "</table>\n",
              "</div>"
            ],
            "text/plain": [
              "   bone_length  rotting_flesh  hair_length  has_soul  type\n",
              "0     0.681615       0.529227     0.625242  0.615308     1\n",
              "1     0.480836       0.407930     0.539005  0.495069     2\n",
              "2     0.375197       0.742953     0.320764  0.243440     0\n",
              "3     0.626017       0.172182     0.408422  0.644941     1\n",
              "4     0.250770       0.246258     0.554654  0.250036     0"
            ]
          },
          "metadata": {},
          "execution_count": 558
        }
      ]
    },
    {
      "cell_type": "markdown",
      "metadata": {
        "id": "M4nnAv_YzlFz"
      },
      "source": [
        "### Separating the training, validation and test data\n",
        "The code below shows how to separate the training, validation and test data."
      ]
    },
    {
      "cell_type": "code",
      "metadata": {
        "id": "53RGy5NRzlF0"
      },
      "source": [
        "# Separating the training data\n",
        "df_train = df.iloc[:df_train.shape[0], :]\n",
        "\n",
        "# Separating the validation data\n",
        "df_val = df.iloc[df_train.shape[0]:df_train.shape[0] + df_val.shape[0], :]\n",
        "\n",
        "# Separating the test data\n",
        "df_test = df.iloc[df_train.shape[0] + df_val.shape[0]:, :]"
      ],
      "execution_count": null,
      "outputs": []
    },
    {
      "cell_type": "code",
      "metadata": {
        "colab": {
          "base_uri": "https://localhost:8080/",
          "height": 80
        },
        "id": "kz0qdOrlzlF1",
        "scrolled": true,
        "outputId": "9f85912e-b78d-46b3-ca4f-8f3136b4446d"
      },
      "source": [
        "# Print the dimension of df_train\n",
        "pd.DataFrame([[df_train.shape[0], df_train.shape[1]]], columns=['# rows', '# columns'])"
      ],
      "execution_count": null,
      "outputs": [
        {
          "output_type": "execute_result",
          "data": {
            "text/html": [
              "<div>\n",
              "<style scoped>\n",
              "    .dataframe tbody tr th:only-of-type {\n",
              "        vertical-align: middle;\n",
              "    }\n",
              "\n",
              "    .dataframe tbody tr th {\n",
              "        vertical-align: top;\n",
              "    }\n",
              "\n",
              "    .dataframe thead th {\n",
              "        text-align: right;\n",
              "    }\n",
              "</style>\n",
              "<table border=\"1\" class=\"dataframe\">\n",
              "  <thead>\n",
              "    <tr style=\"text-align: right;\">\n",
              "      <th></th>\n",
              "      <th># rows</th>\n",
              "      <th># columns</th>\n",
              "    </tr>\n",
              "  </thead>\n",
              "  <tbody>\n",
              "    <tr>\n",
              "      <th>0</th>\n",
              "      <td>296</td>\n",
              "      <td>5</td>\n",
              "    </tr>\n",
              "  </tbody>\n",
              "</table>\n",
              "</div>"
            ],
            "text/plain": [
              "   # rows  # columns\n",
              "0     296          5"
            ]
          },
          "metadata": {},
          "execution_count": 560
        }
      ]
    },
    {
      "cell_type": "code",
      "metadata": {
        "colab": {
          "base_uri": "https://localhost:8080/",
          "height": 80
        },
        "id": "AOhCPkt3zlF2",
        "scrolled": true,
        "outputId": "d405abfb-159e-4769-c016-105e622dcacf"
      },
      "source": [
        "# Print the dimension of df_val\n",
        "pd.DataFrame([[df_val.shape[0], df_val.shape[1]]], columns=['# rows', '# columns'])"
      ],
      "execution_count": null,
      "outputs": [
        {
          "output_type": "execute_result",
          "data": {
            "text/html": [
              "<div>\n",
              "<style scoped>\n",
              "    .dataframe tbody tr th:only-of-type {\n",
              "        vertical-align: middle;\n",
              "    }\n",
              "\n",
              "    .dataframe tbody tr th {\n",
              "        vertical-align: top;\n",
              "    }\n",
              "\n",
              "    .dataframe thead th {\n",
              "        text-align: right;\n",
              "    }\n",
              "</style>\n",
              "<table border=\"1\" class=\"dataframe\">\n",
              "  <thead>\n",
              "    <tr style=\"text-align: right;\">\n",
              "      <th></th>\n",
              "      <th># rows</th>\n",
              "      <th># columns</th>\n",
              "    </tr>\n",
              "  </thead>\n",
              "  <tbody>\n",
              "    <tr>\n",
              "      <th>0</th>\n",
              "      <td>75</td>\n",
              "      <td>5</td>\n",
              "    </tr>\n",
              "  </tbody>\n",
              "</table>\n",
              "</div>"
            ],
            "text/plain": [
              "   # rows  # columns\n",
              "0      75          5"
            ]
          },
          "metadata": {},
          "execution_count": 561
        }
      ]
    },
    {
      "cell_type": "code",
      "metadata": {
        "colab": {
          "base_uri": "https://localhost:8080/",
          "height": 80
        },
        "id": "Z1unjEYDzlF4",
        "scrolled": false,
        "outputId": "28ae5dea-96d8-40b2-c3cf-8a6be1a922f8"
      },
      "source": [
        "# Print the dimension of df_test\n",
        "pd.DataFrame([[df_test.shape[0], df_test.shape[1]]], columns=['# rows', '# columns'])"
      ],
      "execution_count": null,
      "outputs": [
        {
          "output_type": "execute_result",
          "data": {
            "text/html": [
              "<div>\n",
              "<style scoped>\n",
              "    .dataframe tbody tr th:only-of-type {\n",
              "        vertical-align: middle;\n",
              "    }\n",
              "\n",
              "    .dataframe tbody tr th {\n",
              "        vertical-align: top;\n",
              "    }\n",
              "\n",
              "    .dataframe thead th {\n",
              "        text-align: right;\n",
              "    }\n",
              "</style>\n",
              "<table border=\"1\" class=\"dataframe\">\n",
              "  <thead>\n",
              "    <tr style=\"text-align: right;\">\n",
              "      <th></th>\n",
              "      <th># rows</th>\n",
              "      <th># columns</th>\n",
              "    </tr>\n",
              "  </thead>\n",
              "  <tbody>\n",
              "    <tr>\n",
              "      <th>0</th>\n",
              "      <td>529</td>\n",
              "      <td>5</td>\n",
              "    </tr>\n",
              "  </tbody>\n",
              "</table>\n",
              "</div>"
            ],
            "text/plain": [
              "   # rows  # columns\n",
              "0     529          5"
            ]
          },
          "metadata": {},
          "execution_count": 562
        }
      ]
    },
    {
      "cell_type": "markdown",
      "metadata": {
        "id": "Edju_Ur9zlF8"
      },
      "source": [
        "## Splitting the feature and target\n",
        "The code below shows how to split the feature and target."
      ]
    },
    {
      "cell_type": "code",
      "metadata": {
        "id": "GM7JSraLzlF8"
      },
      "source": [
        "# Get the feature matrix\n",
        "X_train = df_train[np.setdiff1d(df_train.columns, [target])].values\n",
        "X_val = df_val[np.setdiff1d(df_val.columns, [target])].values\n",
        "X_test = df_test[np.setdiff1d(df_test.columns, [target])].values\n",
        "\n",
        "# Get the target vector\n",
        "y_train = df_train[target].values\n",
        "y_val = df_val[target].values\n",
        "y_test = df_test[target].values"
      ],
      "execution_count": null,
      "outputs": []
    },
    {
      "cell_type": "markdown",
      "metadata": {
        "id": "S7-Kc1AyzlF7"
      },
      "source": [
        "## Scaling the data"
      ]
    },
    {
      "cell_type": "markdown",
      "metadata": {
        "id": "r57KWJ8iNDpM"
      },
      "source": [
        "### Standardization\n",
        "The code below shows how to standardize the data."
      ]
    },
    {
      "cell_type": "code",
      "metadata": {
        "id": "giUXjP5SzlF7"
      },
      "source": [
        "from sklearn.preprocessing import StandardScaler\n",
        "\n",
        "# The StandardScaler\n",
        "ss = StandardScaler()"
      ],
      "execution_count": null,
      "outputs": []
    },
    {
      "cell_type": "markdown",
      "metadata": {
        "id": "_nEHtF6hyJLc"
      },
      "source": [
        "#### Standardizing the features\n",
        "The code below shows how to standardize the features."
      ]
    },
    {
      "cell_type": "code",
      "metadata": {
        "id": "vcCDFHDYyJLc"
      },
      "source": [
        "# Standardize the training data\n",
        "X_train = ss.fit_transform(X_train)\n",
        "\n",
        "# Standardize the validation data\n",
        "X_val = ss.transform(X_val)\n",
        "\n",
        "# Standardize the test data\n",
        "X_test = ss.transform(X_test)"
      ],
      "execution_count": null,
      "outputs": []
    },
    {
      "cell_type": "markdown",
      "metadata": {
        "id": "Of56ObPGe31x"
      },
      "source": [
        "# Hyperparameter Tuning"
      ]
    },
    {
      "cell_type": "markdown",
      "metadata": {
        "id": "jYCH8GB-e31z"
      },
      "source": [
        "## Creating the dictionary of the models\n",
        "- In the dictionary:\n",
        "    - the key is the acronym of the model\n",
        "    - the value is the model"
      ]
    },
    {
      "cell_type": "code",
      "metadata": {
        "id": "T5h3IQo9e31z"
      },
      "source": [
        "from sklearn.linear_model import LogisticRegression\n",
        "from sklearn.neural_network import MLPClassifier\n",
        "from sklearn.ensemble import RandomForestClassifier\n",
        "from sklearn.experimental import enable_hist_gradient_boosting\n",
        "from sklearn.ensemble import HistGradientBoostingClassifier\n",
        "\n",
        "models = {'lr': LogisticRegression(class_weight='balanced', random_state=random_seed),\n",
        "          'mlpc': MLPClassifier(early_stopping=True, random_state=random_seed),\n",
        "          'rfc': RandomForestClassifier(class_weight='balanced', random_state=random_seed),\n",
        "          'hgbc': HistGradientBoostingClassifier(random_state=random_seed)}"
      ],
      "execution_count": null,
      "outputs": []
    },
    {
      "cell_type": "markdown",
      "metadata": {
        "id": "Ju9FdEVce310"
      },
      "source": [
        "## Creating the dictionary of the pipelines\n",
        "In the dictionary:\n",
        "- the key is the acronym of the model\n",
        "- the value is the pipeline, which, for now, only includes the model"
      ]
    },
    {
      "cell_type": "code",
      "metadata": {
        "id": "zc-L-914e310"
      },
      "source": [
        "from sklearn.pipeline import Pipeline\n",
        "\n",
        "pipes = {}\n",
        "\n",
        "for acronym, model in models.items():\n",
        "    pipes[acronym] = Pipeline([('model', model)])"
      ],
      "execution_count": null,
      "outputs": []
    },
    {
      "cell_type": "markdown",
      "metadata": {
        "id": "BgkFbGGKe311"
      },
      "source": [
        "## Getting the predefined split cross-validator"
      ]
    },
    {
      "cell_type": "code",
      "metadata": {
        "id": "6FAACb8ke311",
        "scrolled": true
      },
      "source": [
        "# Get the:\n",
        "# feature matrix and target velctor in the combined training and validation data\n",
        "# target vector in the combined training and validation data\n",
        "# PredefinedSplit\n",
        "# See the implementation in pmlm_utilities.ipynb\n",
        "X_train_val, y_train_val, ps = get_train_val_ps(X_train, y_train, X_val, y_val)"
      ],
      "execution_count": null,
      "outputs": []
    },
    {
      "cell_type": "markdown",
      "metadata": {
        "id": "I3rZoMqZe312"
      },
      "source": [
        "## GridSearchCV"
      ]
    },
    {
      "cell_type": "markdown",
      "metadata": {
        "id": "E08xqUQve313"
      },
      "source": [
        "### Creating the dictionary of the parameter grids\n",
        "- In the dictionary:\n",
        "    - the key is the acronym of the model\n",
        "    - the value is the parameter grid of the model"
      ]
    },
    {
      "cell_type": "code",
      "metadata": {
        "id": "p3OWujL3e313"
      },
      "source": [
        "param_grids = {}"
      ],
      "execution_count": null,
      "outputs": []
    },
    {
      "cell_type": "markdown",
      "metadata": {
        "id": "9EyKhepjmV6P"
      },
      "source": [
        "#### The parameter grid for LogisticRegression\n",
        "- The hyperparameters we want to fine-tune are:\n",
        "    - tol\n",
        "    - C\n",
        "- See details of the meaning of the hyperparametes in [sklearn.linear_model.LogisticRegression](https://scikit-learn.org/stable/modules/generated/sklearn.linear_model.LogisticRegression.html)"
      ]
    },
    {
      "cell_type": "code",
      "metadata": {
        "id": "i2Mv1rffnJpN"
      },
      "source": [
        "# The parameter grid of tol\n",
        "tol_grid = [10 ** -5, 10 ** -4, 10 ** -3]\n",
        "\n",
        "# The parameter grid of C\n",
        "C_grid = [0.1, 1, 10]\n",
        "\n",
        "# Update param_grids\n",
        "param_grids['lr'] = [{'model__tol': tol_grid,\n",
        "                      'model__C': C_grid}]"
      ],
      "execution_count": null,
      "outputs": []
    },
    {
      "cell_type": "markdown",
      "metadata": {
        "id": "bco06XPK4APO"
      },
      "source": [
        "#### The parameter grid for MLPClassifier\n",
        "- The hyperparameters we want to fine-tune are:\n",
        "    - alpha\n",
        "    - learning_rate_init\n",
        "\n",
        "- See details of the meaning of the hyperparametes in [sklearn.neural_network.MLPClassifier](https://scikit-learn.org/stable/modules/generated/sklearn.neural_network.MLPClassifier.html)"
      ]
    },
    {
      "cell_type": "code",
      "metadata": {
        "id": "bEuags7e4APO"
      },
      "source": [
        "# The grids for alpha\n",
        "alpha_grids = [10 ** i for i in range(-5, -2)]\n",
        "\n",
        "# The grids for learning_rate_init\n",
        "learning_rate_init_grids = [10 ** i for i in range(-4, -1)]\n",
        "\n",
        "# Update param_grids\n",
        "param_grids['mlpc'] = [{'model__alpha': alpha_grids,\n",
        "                        'model__learning_rate_init': learning_rate_init_grids}]"
      ],
      "execution_count": null,
      "outputs": []
    },
    {
      "cell_type": "markdown",
      "metadata": {
        "id": "T6Synl8u9cC8"
      },
      "source": [
        "#### The parameter grid for random forest\n",
        "- The hyperparameters we want to fine-tune are:\n",
        "    - min_samples_split\n",
        "    - min_samples_leaf\n",
        "\n",
        "- See details of the meaning of the hyperparametes in [sklearn.ensemble.RandomForestClassifier](https://scikit-learn.org/stable/modules/generated/sklearn.ensemble.RandomForestClassifier.html)"
      ]
    },
    {
      "cell_type": "code",
      "metadata": {
        "id": "2pIhWeST9cC8"
      },
      "source": [
        "# The grids for min_samples_split\n",
        "#min_samples_split_grids = [28, 40]\n",
        "min_samples_split_grids = np.arange(1,30)\n",
        "\n",
        "# The grids for min_samples_leaf\n",
        "min_samples_leaf_grids = np.arange(1,10)\n",
        "\n",
        "# Update param_grids\n",
        "param_grids['rfc'] = [{'model__min_samples_split': min_samples_split_grids,\n",
        "                       'model__min_samples_leaf': min_samples_leaf_grids}]"
      ],
      "execution_count": null,
      "outputs": []
    },
    {
      "cell_type": "markdown",
      "metadata": {
        "id": "dmuPjEKN9cC-"
      },
      "source": [
        "#### The parameter grid for histogram-based gradient boosting\n",
        "- The hyperparameters we want to fine-tune are:\n",
        "- learning_rate\n",
        "- min_samples_leaf\n",
        "\n",
        "- See details of the meaning of the hyperparametes in [sklearn.ensemble.HistGradientBoostingClassifier](https://scikit-learn.org/stable/modules/generated/sklearn.ensemble.HistGradientBoostingClassifier.html)"
      ]
    },
    {
      "cell_type": "code",
      "metadata": {
        "id": "FAj6ezza9cC-"
      },
      "source": [
        "# The grids for learning_rate\n",
        "learning_rate_grids = [10 ** i for i in range(-3, 2)]\n",
        "\n",
        "# The grids for min_samples_leaf\n",
        "min_samples_leaf_grids = [1, 20, 100]\n",
        "\n",
        "# Update param_grids\n",
        "param_grids['hgbc'] = [{'model__learning_rate': learning_rate_grids,\n",
        "                        'model__min_samples_leaf': min_samples_leaf_grids}]"
      ],
      "execution_count": null,
      "outputs": []
    },
    {
      "cell_type": "markdown",
      "metadata": {
        "id": "LRabeGs4WaHX"
      },
      "source": [
        "### Creating the directory for the cv results produced by GridSearchCV"
      ]
    },
    {
      "cell_type": "code",
      "metadata": {
        "id": "uO7Yd15JWaHY"
      },
      "source": [
        "# Make directory\n",
        "directory = os.path.dirname(abspath_curr + '/result/cv_results/GridSearchCV/')\n",
        "if not os.path.exists(directory):\n",
        "    os.makedirs(directory)"
      ],
      "execution_count": null,
      "outputs": []
    },
    {
      "cell_type": "markdown",
      "metadata": {
        "id": "sVIuo08Ze31-"
      },
      "source": [
        "### Tuning the hyperparameters\n",
        "The code below shows how to fine-tune the hyperparameters of SGDRegressor and LinearRegression_MBGD using sklearn GridSearchCV."
      ]
    },
    {
      "cell_type": "code",
      "metadata": {
        "colab": {
          "base_uri": "https://localhost:8080/",
          "height": 173
        },
        "id": "DwA4WZlFe31-",
        "scrolled": true,
        "outputId": "a84a3cd8-f34d-4869-b0de-0ff606c62969"
      },
      "source": [
        "from sklearn.model_selection import GridSearchCV\n",
        "\n",
        "# The list of [best_score_, best_params_, best_estimator_] obtained by GridSearchCV\n",
        "best_score_params_estimator_gs = []\n",
        "\n",
        "# For each model\n",
        "for acronym in pipes.keys():\n",
        "    # GridSearchCV\n",
        "    gs = GridSearchCV(estimator=pipes[acronym],\n",
        "                      param_grid=param_grids[acronym],\n",
        "                      scoring='f1_macro',\n",
        "                      n_jobs=2,\n",
        "                      cv=ps,\n",
        "                      return_train_score=True)\n",
        "        \n",
        "    # Fit the pipeline\n",
        "    gs = gs.fit(X_train_val, y_train_val)\n",
        "    \n",
        "    # Update best_score_params_estimator_gs\n",
        "    best_score_params_estimator_gs.append([gs.best_score_, gs.best_params_, gs.best_estimator_])\n",
        "    \n",
        "    # Sort cv_results in ascending order of 'rank_test_score' and 'std_test_score'\n",
        "    cv_results = pd.DataFrame.from_dict(gs.cv_results_).sort_values(by=['rank_test_score', 'std_test_score'])\n",
        "    \n",
        "    # Get the important columns in cv_results\n",
        "    important_columns = ['rank_test_score',\n",
        "                         'mean_test_score', \n",
        "                         'std_test_score', \n",
        "                         'mean_train_score', \n",
        "                         'std_train_score',\n",
        "                         'mean_fit_time', \n",
        "                         'std_fit_time',                        \n",
        "                         'mean_score_time', \n",
        "                         'std_score_time']\n",
        "    \n",
        "    # Move the important columns ahead\n",
        "    cv_results = cv_results[important_columns + sorted(list(set(cv_results.columns) - set(important_columns)))]\n",
        "\n",
        "    # Write cv_results file\n",
        "    cv_results.to_csv(path_or_buf=abspath_curr + '/result/cv_results/GridSearchCV/' + acronym + '.csv', index=False)\n",
        "\n",
        "# Sort best_score_params_estimator_gs in descending order of the best_score_\n",
        "best_score_params_estimator_gs = sorted(best_score_params_estimator_gs, key=lambda x : x[0], reverse=True)\n",
        "\n",
        "# Print best_score_params_estimator_gs\n",
        "pd.DataFrame(best_score_params_estimator_gs, columns=['best_score', 'best_param', 'best_estimator'])"
      ],
      "execution_count": null,
      "outputs": [
        {
          "output_type": "execute_result",
          "data": {
            "text/html": [
              "<div>\n",
              "<style scoped>\n",
              "    .dataframe tbody tr th:only-of-type {\n",
              "        vertical-align: middle;\n",
              "    }\n",
              "\n",
              "    .dataframe tbody tr th {\n",
              "        vertical-align: top;\n",
              "    }\n",
              "\n",
              "    .dataframe thead th {\n",
              "        text-align: right;\n",
              "    }\n",
              "</style>\n",
              "<table border=\"1\" class=\"dataframe\">\n",
              "  <thead>\n",
              "    <tr style=\"text-align: right;\">\n",
              "      <th></th>\n",
              "      <th>best_score</th>\n",
              "      <th>best_param</th>\n",
              "      <th>best_estimator</th>\n",
              "    </tr>\n",
              "  </thead>\n",
              "  <tbody>\n",
              "    <tr>\n",
              "      <th>0</th>\n",
              "      <td>0.770950</td>\n",
              "      <td>{'model__min_samples_leaf': 2, 'model__min_sam...</td>\n",
              "      <td>((DecisionTreeClassifier(ccp_alpha=0.0, class_...</td>\n",
              "    </tr>\n",
              "    <tr>\n",
              "      <th>1</th>\n",
              "      <td>0.717593</td>\n",
              "      <td>{'model__learning_rate': 0.01, 'model__min_sam...</td>\n",
              "      <td>(HistGradientBoostingClassifier(l2_regularizat...</td>\n",
              "    </tr>\n",
              "    <tr>\n",
              "      <th>2</th>\n",
              "      <td>0.715060</td>\n",
              "      <td>{'model__alpha': 1e-05, 'model__learning_rate_...</td>\n",
              "      <td>(MLPClassifier(activation='relu', alpha=1e-05,...</td>\n",
              "    </tr>\n",
              "    <tr>\n",
              "      <th>3</th>\n",
              "      <td>0.701455</td>\n",
              "      <td>{'model__C': 0.1, 'model__tol': 1e-05}</td>\n",
              "      <td>(LogisticRegression(C=0.1, class_weight='balan...</td>\n",
              "    </tr>\n",
              "  </tbody>\n",
              "</table>\n",
              "</div>"
            ],
            "text/plain": [
              "   best_score  ...                                     best_estimator\n",
              "0    0.770950  ...  ((DecisionTreeClassifier(ccp_alpha=0.0, class_...\n",
              "1    0.717593  ...  (HistGradientBoostingClassifier(l2_regularizat...\n",
              "2    0.715060  ...  (MLPClassifier(activation='relu', alpha=1e-05,...\n",
              "3    0.701455  ...  (LogisticRegression(C=0.1, class_weight='balan...\n",
              "\n",
              "[4 rows x 3 columns]"
            ]
          },
          "metadata": {},
          "execution_count": 710
        }
      ]
    },
    {
      "cell_type": "markdown",
      "metadata": {
        "id": "kOF6id8le32I"
      },
      "source": [
        "# Model Selection\n",
        "Here we will select best_estimator_gs as the best model. Later we will use this best model to generate the submission file for this kaggle competition."
      ]
    },
    {
      "cell_type": "code",
      "metadata": {
        "id": "IjbLGmXPe32J"
      },
      "source": [
        "# Get the best_score, best_params and best_estimator obtained by GridSearchCV\n",
        "best_score_gs, best_params_gs, best_estimator_gs = best_score_params_estimator_gs[0]"
      ],
      "execution_count": null,
      "outputs": []
    },
    {
      "cell_type": "markdown",
      "metadata": {
        "id": "fiEBpqc_e32K"
      },
      "source": [
        "# Generating the Submission File\n",
        "Use the best model selected earlier to generate the submission file for this kaggle competition."
      ]
    },
    {
      "cell_type": "markdown",
      "metadata": {
        "id": "Aw5WYTRGz65s"
      },
      "source": [
        "## Creating the directory for the submission file"
      ]
    },
    {
      "cell_type": "code",
      "metadata": {
        "id": "z0oLcggN0C9W"
      },
      "source": [
        "# Make directory\n",
        "directory = os.path.dirname(abspath_curr + '/result/boo/submission/')\n",
        "if not os.path.exists(directory):\n",
        "    os.makedirs(directory)"
      ],
      "execution_count": null,
      "outputs": []
    },
    {
      "cell_type": "markdown",
      "metadata": {
        "id": "y-Qf_8VM0Tt9"
      },
      "source": [
        "## Generating the submission file"
      ]
    },
    {
      "cell_type": "code",
      "metadata": {
        "scrolled": true,
        "id": "danwZtL5SkYf"
      },
      "source": [
        "# Get the prediction on the testing data using best_model\n",
        "y_test_pred = best_estimator_gs.predict(X_test)\n",
        "\n",
        "# Transform y_test_pred back to the original class\n",
        "y_test_pred = le.inverse_transform(y_test_pred)\n",
        "\n",
        "# Get the submission dataframe\n",
        "df_submit = pd.DataFrame(np.hstack((df_raw_test['id'].to_numpy().reshape(-1, 1), y_test_pred.reshape(-1, 1))),\n",
        "                         columns=['id', target])                                                                                      \n",
        "\n",
        "# Generate the submission file\n",
        "df_submit.to_csv(abspath_curr + '/result/boo/submission/submission.csv', index=False)  "
      ],
      "execution_count": null,
      "outputs": []
    },
    {
      "cell_type": "markdown",
      "metadata": {
        "id": "IZCGr7s09cDG"
      },
      "source": [
        "# Interpretation"
      ]
    },
    {
      "cell_type": "markdown",
      "metadata": {
        "id": "D3dqG5SHLlPk"
      },
      "source": [
        "## Creating the directory for the figures"
      ]
    },
    {
      "cell_type": "code",
      "metadata": {
        "id": "BNm50FFQ9cDH"
      },
      "source": [
        "import os\n",
        "\n",
        "# Make directory\n",
        "directory = os.path.dirname(abspath_curr + '/result/boo/figure/')\n",
        "if not os.path.exists(directory):\n",
        "    os.makedirs(directory)"
      ],
      "execution_count": null,
      "outputs": []
    },
    {
      "cell_type": "markdown",
      "metadata": {
        "id": "733hk_XD9cDI"
      },
      "source": [
        "## Getting the feature importance detected by random forest"
      ]
    },
    {
      "cell_type": "code",
      "metadata": {
        "colab": {
          "base_uri": "https://localhost:8080/",
          "height": 173
        },
        "id": "ureDxJHvSwWf",
        "outputId": "90813de0-ee97-4ec8-8f1f-d7ca68b33599"
      },
      "source": [
        "# Get the best_score, best_param and best_estimator of random forest obtained by GridSearchCV\n",
        "best_score_rfc, best_param_rfc, best_estimator_rfc = best_score_params_estimator_gs[0]\n",
        "\n",
        "# Get the dataframe of feature and importance\n",
        "df_fi_rfc = pd.DataFrame(np.hstack((np.setdiff1d(df.columns, [target]).reshape(-1, 1), best_estimator_rfc.named_steps['model'].feature_importances_.reshape(-1, 1))),\n",
        "                         columns=['Features', 'Importance'])\n",
        "\n",
        "# Sort df_fi_rfc in descending order of the importance\n",
        "df_fi_rfc = df_fi_rfc.sort_values(ascending=False, by='Importance').reset_index(drop=True)\n",
        "\n",
        "# Print the first 5 rows of df_fi_rfc\n",
        "df_fi_rfc.head()"
      ],
      "execution_count": null,
      "outputs": [
        {
          "output_type": "execute_result",
          "data": {
            "text/html": [
              "<div>\n",
              "<style scoped>\n",
              "    .dataframe tbody tr th:only-of-type {\n",
              "        vertical-align: middle;\n",
              "    }\n",
              "\n",
              "    .dataframe tbody tr th {\n",
              "        vertical-align: top;\n",
              "    }\n",
              "\n",
              "    .dataframe thead th {\n",
              "        text-align: right;\n",
              "    }\n",
              "</style>\n",
              "<table border=\"1\" class=\"dataframe\">\n",
              "  <thead>\n",
              "    <tr style=\"text-align: right;\">\n",
              "      <th></th>\n",
              "      <th>Features</th>\n",
              "      <th>Importance</th>\n",
              "    </tr>\n",
              "  </thead>\n",
              "  <tbody>\n",
              "    <tr>\n",
              "      <th>0</th>\n",
              "      <td>hair_length</td>\n",
              "      <td>0.38317</td>\n",
              "    </tr>\n",
              "    <tr>\n",
              "      <th>1</th>\n",
              "      <td>has_soul</td>\n",
              "      <td>0.316334</td>\n",
              "    </tr>\n",
              "    <tr>\n",
              "      <th>2</th>\n",
              "      <td>bone_length</td>\n",
              "      <td>0.153001</td>\n",
              "    </tr>\n",
              "    <tr>\n",
              "      <th>3</th>\n",
              "      <td>rotting_flesh</td>\n",
              "      <td>0.147495</td>\n",
              "    </tr>\n",
              "  </tbody>\n",
              "</table>\n",
              "</div>"
            ],
            "text/plain": [
              "        Features Importance\n",
              "0    hair_length    0.38317\n",
              "1       has_soul   0.316334\n",
              "2    bone_length   0.153001\n",
              "3  rotting_flesh   0.147495"
            ]
          },
          "metadata": {},
          "execution_count": 580
        }
      ]
    },
    {
      "cell_type": "markdown",
      "metadata": {
        "id": "-Tjfao_xLlPo"
      },
      "source": [
        "## Plotting the Feature Importance"
      ]
    },
    {
      "cell_type": "code",
      "metadata": {
        "id": "Tdo0imMv9cDK",
        "scrolled": true,
        "colab": {
          "base_uri": "https://localhost:8080/",
          "height": 348
        },
        "outputId": "9937f527-bf90-4c80-a2ee-ebeb1e09eccc"
      },
      "source": [
        "# Create a figure\n",
        "fig = plt.figure(figsize=(10, 5))\n",
        "\n",
        "# The bar plot of the top 5 feature importance\n",
        "plt.bar(df_fi_rfc['Features'][:5], df_fi_rfc['Importance'][:5], color='green')\n",
        "\n",
        "# Set x-axis\n",
        "plt.xlabel('Features')\n",
        "plt.xticks(rotation=90)\n",
        "\n",
        "# Set y-axis\n",
        "plt.ylabel('Importance')\n",
        "\n",
        "# Save and show the figure\n",
        "plt.tight_layout()\n",
        "plt.savefig(abspath_curr + '/result/boo/figure/feature_importance_rfc.pdf')\n",
        "plt.show()"
      ],
      "execution_count": null,
      "outputs": [
        {
          "output_type": "display_data",
          "data": {
            "image/png": "[encoded data removed]",
            "text/plain": [
              "<Figure size 720x360 with 1 Axes>"
            ]
          },
          "metadata": {
            "needs_background": "light"
          }
        }
      ]
    }
  ]
}