{
  "nbformat": 4,
  "nbformat_minor": 0,
  "metadata": {
    "accelerator": "GPU",
    "colab": {
      "name": "Homework_5.ipynb",
      "provenance": [],
      "collapsed_sections": [],
      "machine_shape": "hm",
      "include_colab_link": true
    },
    "kernelspec": {
      "display_name": "Python 3",
      "language": "python",
      "name": "python3"
    },
    "language_info": {
      "codemirror_mode": {
        "name": "ipython",
        "version": 3
      },
      "file_extension": ".py",
      "mimetype": "text/x-python",
      "name": "python",
      "nbconvert_exporter": "python",
      "pygments_lexer": "ipython3",
      "version": "3.7.6"
    },
    "toc": {
      "base_numbering": 1,
      "nav_menu": {},
      "number_sections": true,
      "sideBar": true,
      "skip_h1_title": false,
      "title_cell": "Table of Contents",
      "title_sidebar": "Contents",
      "toc_cell": true,
      "toc_position": {},
      "toc_section_display": true,
      "toc_window_display": false
    }
  },
  "cells": [
    {
      "cell_type": "markdown",
      "metadata": {
        "id": "view-in-github",
        "colab_type": "text"
      },
      "source": [
        "<a href=\"https://colab.research.google.com/github/lydiateinfalt/DATS6202-MachineLearningI-Fall2021/blob/main/LydiaTeinfalt_Homework_5.ipynb\" target=\"_parent\"><img src=\"https://colab.research.google.com/assets/colab-badge.svg\" alt=\"Open In Colab\"/></a>"
      ]
    },
    {
      "cell_type": "markdown",
      "metadata": {
        "id": "0EvXt9p4ufUd",
        "toc": true
      },
      "source": [
        "<h1>Table of Contents<span class=\"tocSkip\"></span></h1>\n",
        "<div class=\"toc\"><ul class=\"toc-item\"><li><span><a href=\"#Overview\" data-toc-modified-id=\"Overview-1\"><span class=\"toc-item-num\">1&nbsp;&nbsp;</span>Overview</a></span></li><li><span><a href=\"#Notebook-Configuration\" data-toc-modified-id=\"Notebook-Configuration-2\"><span class=\"toc-item-num\">2&nbsp;&nbsp;</span>Notebook Configuration</a></span><ul class=\"toc-item\"><li><span><a href=\"#Google-drive\" data-toc-modified-id=\"Google-drive-2.1\"><span class=\"toc-item-num\">2.1&nbsp;&nbsp;</span>Google drive</a></span></li><li><span><a href=\"#Warning\" data-toc-modified-id=\"Warning-2.2\"><span class=\"toc-item-num\">2.2&nbsp;&nbsp;</span>Warning</a></span></li><li><span><a href=\"#Matplotlib\" data-toc-modified-id=\"Matplotlib-2.3\"><span class=\"toc-item-num\">2.3&nbsp;&nbsp;</span>Matplotlib</a></span></li><li><span><a href=\"#TensorFlow\" data-toc-modified-id=\"TensorFlow-2.4\"><span class=\"toc-item-num\">2.4&nbsp;&nbsp;</span>TensorFlow</a></span></li><li><span><a href=\"#Random-seed\" data-toc-modified-id=\"Random-seed-2.5\"><span class=\"toc-item-num\">2.5&nbsp;&nbsp;</span>Random seed</a></span></li></ul></li><li><span><a href=\"#Data-Preprocessing\" data-toc-modified-id=\"Data-Preprocessing-3\"><span class=\"toc-item-num\">3&nbsp;&nbsp;</span>Data Preprocessing</a></span></li><li><span><a href=\"#Training\" data-toc-modified-id=\"Training-4\"><span class=\"toc-item-num\">4&nbsp;&nbsp;</span>Training</a></span></li><li><span><a href=\"#Testing\" data-toc-modified-id=\"Testing-5\"><span class=\"toc-item-num\">5&nbsp;&nbsp;</span>Testing</a></span></li></ul></div>"
      ]
    },
    {
      "cell_type": "markdown",
      "metadata": {
        "id": "42yc1zUrzlEh"
      },
      "source": [
        "<b>\n",
        "<p>\n",
        "<center>\n",
        "<font size=\"5\">\n",
        "Popular Machine Learning Methods: Idea, Practice and Math\n",
        "</font>\n",
        "</center>\n",
        "</p>\n",
        "\n",
        "<p>\n",
        "<center>\n",
        "<font size=\"4\">\n",
        "Part 3, Chapter 2, Section 3: Convolutional Neural Networks\n",
        "</font>\n",
        "</center>\n",
        "</p>\n",
        "    \n",
        "<p>\n",
        "<center>\n",
        "<font size=\"4\">\n",
        "Homework 5\n",
        "</font>\n",
        "</center>\n",
        "</p>\n",
        "\n",
        "<p>\n",
        "<center>\n",
        "<font size=\"3\">\n",
        "Data Science, Columbian College of Arts & Sciences, George Washington University\n",
        "</font>\n",
        "</center>\n",
        "</p>\n",
        "\n",
        "<p>\n",
        "<center>\n",
        "<font size=\"3\">\n",
        "Professor: Yuxiao Huang\n",
        "</font>\n",
        "</center>\n",
        "</p>\n",
        "</b>\n",
        "\n",
        "<p>\n",
        "<center>\n",
        "<font size=\"3\">\n",
        "Student Name: Lydia Teinfalt\n",
        "</font>\n",
        "</center>\n",
        "</p>\n",
        "</b>\n",
        "\n",
        "<p>\n",
        "<center>\n",
        "<font size=\"3\">\n",
        "Last Updated: 11/18/2021\n",
        "</font>\n",
        "</center>\n",
        "</p>\n",
        "</b>"
      ]
    },
    {
      "cell_type": "markdown",
      "metadata": {
        "id": "rT2SKHw2zlEi"
      },
      "source": [
        "# Overview"
      ]
    },
    {
      "cell_type": "markdown",
      "metadata": {
        "id": "asZWLrJKzlEj"
      },
      "source": [
        "- This notebook includes homework 5 for Convolutional Neural Networks (Part 3, Chapter 2, Section 3).\n",
        "- See the accompanied slides in our [github repository](https://github.com/yuxiaohuang/teaching/tree/master/gwu/machine_learning_I/fall_2021/slides/p3_deep_learning/p3_c2_supervised_learning/p3_c2_s3_convolutional_neural_networks).\n",
        "- Here we will work on TensorFlow Dataset [cifar100](https://www.tensorflow.org/datasets/catalog/cifar100).\n",
        "- The goal of this homework is tweaking the pipeline (including data preprocessing, building, compiling and training DNNs) implemented in [/p3 c2 s3 convolutional_neural_networks/case_study](https://github.com/yuxiaohuang/teaching/blob/master/gwu/machine_learning_I/fall_2021/code/p3_deep_learning/p3_c2_supervised_learning/p3_c2_s3_convolutional_neural_networks/case_study/case_study.ipynb) to make it work for the new dataset mentioned above.\n",
        "- Complete the missing parts indicated by # Implement me.\n",
        "- Particularly, the code should\n",
        "    - be bug-free (note that the output produced by your solution may not necessarily be the same as the provided output, due to version issues)\n",
        "    - be commented\n",
        "- **The baseline for this assignment is 0.7. As per the grading rubrics (section 15 of the syllabus), if the test score of your best model is lower than or the same as the baseline, you will only receive 80% of the full mark. See more details in the grading rubrics.**\n",
        "- Submit an ipynb file named homework_5.ipynb to [blackboard](https://blackboard.gwu.edu) folder /Assignments/Homework_5/."
      ]
    },
    {
      "cell_type": "markdown",
      "metadata": {
        "id": "WJ-IbZqAgILJ"
      },
      "source": [
        "# Notebook Configuration"
      ]
    },
    {
      "cell_type": "markdown",
      "metadata": {
        "id": "H3yB94KtgMHu"
      },
      "source": [
        "## Google drive"
      ]
    },
    {
      "cell_type": "code",
      "metadata": {
        "colab": {
          "base_uri": "https://localhost:8080/"
        },
        "id": "jWmYBTOwgNs-",
        "scrolled": true,
        "outputId": "5d212a72-e4c4-4c29-8bdb-81a6b920bc0c"
      },
      "source": [
        "from google.colab import drive\n",
        "import sys\n",
        "\n",
        "# Mount Google Drive\n",
        "drive.mount('/content/drive')\n",
        "\n",
        "# Get the absolute path of the current folder\n",
        "abspath_curr = '/content/drive/My Drive/Colab Notebooks/DATS 6202/HW5'\n",
        "\n",
        "# Get the absolute path of the deep utilities folder\n",
        "abspath_util_deep = '/content/drive/My Drive/DATS 6202/code/utilities/p3_deep_learning/'"
      ],
      "execution_count": 65,
      "outputs": [
        {
          "output_type": "stream",
          "name": "stdout",
          "text": [
            "Drive already mounted at /content/drive; to attempt to forcibly remount, call drive.mount(\"/content/drive\", force_remount=True).\n"
          ]
        }
      ]
    },
    {
      "cell_type": "markdown",
      "metadata": {
        "id": "bYZhU1Wqgmqx"
      },
      "source": [
        "## Warning"
      ]
    },
    {
      "cell_type": "code",
      "metadata": {
        "id": "MUl4k83e4ANR"
      },
      "source": [
        "import warnings\n",
        "\n",
        "# Ignore warnings\n",
        "warnings.filterwarnings('ignore')"
      ],
      "execution_count": 66,
      "outputs": []
    },
    {
      "cell_type": "markdown",
      "metadata": {
        "id": "6WMODpPfgn2U"
      },
      "source": [
        "## Matplotlib"
      ]
    },
    {
      "cell_type": "code",
      "metadata": {
        "id": "DBRVH9SB4ANb"
      },
      "source": [
        "import matplotlib.pyplot as plt\n",
        "%matplotlib inline \n",
        "\n",
        "# Set matplotlib sizes\n",
        "plt.rc('font', size=20)\n",
        "plt.rc('axes', titlesize=20)\n",
        "plt.rc('axes', labelsize=20)\n",
        "plt.rc('xtick', labelsize=20)\n",
        "plt.rc('ytick', labelsize=20)\n",
        "plt.rc('legend', fontsize=20)\n",
        "plt.rc('figure', titlesize=20)"
      ],
      "execution_count": 67,
      "outputs": []
    },
    {
      "cell_type": "markdown",
      "metadata": {
        "id": "n-wNDk5nZhhO"
      },
      "source": [
        "## TensorFlow"
      ]
    },
    {
      "cell_type": "code",
      "metadata": {
        "id": "LjG43tEnZkfE"
      },
      "source": [
        "# The magic below allows us to use tensorflow version 2.x\n",
        "%tensorflow_version 2.x \n",
        "import tensorflow as tf\n",
        "from tensorflow import keras"
      ],
      "execution_count": 68,
      "outputs": []
    },
    {
      "cell_type": "markdown",
      "metadata": {
        "id": "40FN3UNfO2Z7"
      },
      "source": [
        "## Random seed"
      ]
    },
    {
      "cell_type": "code",
      "metadata": {
        "id": "uSADk0hJP71d"
      },
      "source": [
        "# The random seed\n",
        "random_seed = 42\n",
        "\n",
        "# Set random seed in tensorflow\n",
        "tf.random.set_seed(random_seed)\n",
        "\n",
        "# Set random seed in numpy\n",
        "import numpy as np\n",
        "np.random.seed(random_seed)"
      ],
      "execution_count": 69,
      "outputs": []
    },
    {
      "cell_type": "markdown",
      "metadata": {
        "id": "1eOpQpPu4ANk"
      },
      "source": [
        "# Data Preprocessing"
      ]
    },
    {
      "cell_type": "code",
      "metadata": {
        "colab": {
          "base_uri": "https://localhost:8080/"
        },
        "id": "D-Mwc6MczlFD",
        "outputId": "53646d2e-7f66-49b6-c397-9c6eb0333d93"
      },
      "source": [
        "# Change working directory to the absolute path of the deep utilities folder\n",
        "%cd $abspath_util_deep\n",
        "\n",
        "# Import the deep utitilities\n",
        "%run pmlm_utilities_deep.ipynb"
      ],
      "execution_count": 70,
      "outputs": [
        {
          "output_type": "stream",
          "name": "stdout",
          "text": [
            "/content/drive/My Drive/DATS 6202/code/utilities/p3_deep_learning\n"
          ]
        }
      ]
    },
    {
      "cell_type": "markdown",
      "metadata": {
        "id": "xnJAfR784ANl"
      },
      "source": [
        "## Loading the data"
      ]
    },
    {
      "cell_type": "markdown",
      "metadata": {
        "id": "LM_WKAmO4ANm"
      },
      "source": [
        "In this case study, we will work on the [cifar100](https://www.tensorflow.org/datasets/catalog/cifar100). The dataset contains 60000 32x32 color images that can be placed into  10 classes, with 6000 images per class. The classes are airplane, automobile, bird, cat, deer, dog, frog, horse, ship and truck. "
      ]
    },
    {
      "cell_type": "markdown",
      "metadata": {
        "id": "IEjvHlLB8X0z"
      },
      "source": [
        "### Creating the directory for the data"
      ]
    },
    {
      "cell_type": "markdown",
      "metadata": {
        "id": "txBaTDJk67i6"
      },
      "source": [
        ""
      ]
    },
    {
      "cell_type": "code",
      "metadata": {
        "id": "reijpcaf8UgO"
      },
      "source": [
        "import os\n",
        "\n",
        "# Make directory\n",
        "directory = os.path.dirname(abspath_curr + '/data/')\n",
        "if not os.path.exists(directory):\n",
        "    os.makedirs(directory)"
      ],
      "execution_count": 71,
      "outputs": []
    },
    {
      "cell_type": "markdown",
      "metadata": {
        "id": "-sDdbhok2i7C"
      },
      "source": [
        "### Downloading the data to the directory"
      ]
    },
    {
      "cell_type": "code",
      "metadata": {
        "id": "6onKpDeL4ANn",
        "scrolled": true
      },
      "source": [
        "import tensorflow_datasets as tfds\n",
        "\n",
        "# Get the name of the data\n",
        "data_name = 'cifar100'\n",
        "\n",
        "# Load data\n",
        "data, info = tfds.load(name=data_name,\n",
        "                       data_dir=abspath_curr + '/data/',\n",
        "                       as_supervised=True,\n",
        "                       with_info=True)"
      ],
      "execution_count": 72,
      "outputs": []
    },
    {
      "cell_type": "markdown",
      "metadata": {
        "id": "yvIqSuZUVBb8"
      },
      "source": [
        "## Getting the name of the target"
      ]
    },
    {
      "cell_type": "code",
      "metadata": {
        "id": "AF5gbpOWVElL"
      },
      "source": [
        "target = 'label'"
      ],
      "execution_count": 73,
      "outputs": []
    },
    {
      "cell_type": "markdown",
      "metadata": {
        "id": "ugddFhUgVGWq"
      },
      "source": [
        "## Getting the info"
      ]
    },
    {
      "cell_type": "code",
      "metadata": {
        "colab": {
          "base_uri": "https://localhost:8080/"
        },
        "id": "A85zWEqMjP5E",
        "outputId": "5cf088bd-70f6-4db1-9fb5-24ff7145217e"
      },
      "source": [
        "# Print the splits\n",
        "info.splits"
      ],
      "execution_count": 74,
      "outputs": [
        {
          "output_type": "execute_result",
          "data": {
            "text/plain": [
              "{'test': <tfds.core.SplitInfo num_examples=10000>,\n",
              " 'train': <tfds.core.SplitInfo num_examples=50000>}"
            ]
          },
          "metadata": {},
          "execution_count": 74
        }
      ]
    },
    {
      "cell_type": "code",
      "metadata": {
        "colab": {
          "base_uri": "https://localhost:8080/"
        },
        "id": "vsSHR38vjL1G",
        "outputId": "b76bd58b-f35a-4844-db67-16c83c904cd4"
      },
      "source": [
        "# Get the classes\n",
        "classes = info.features['label'].names\n",
        "\n",
        "# Print the classes\n",
        "classes"
      ],
      "execution_count": 75,
      "outputs": [
        {
          "output_type": "execute_result",
          "data": {
            "text/plain": [
              "['apple',\n",
              " 'aquarium_fish',\n",
              " 'baby',\n",
              " 'bear',\n",
              " 'beaver',\n",
              " 'bed',\n",
              " 'bee',\n",
              " 'beetle',\n",
              " 'bicycle',\n",
              " 'bottle',\n",
              " 'bowl',\n",
              " 'boy',\n",
              " 'bridge',\n",
              " 'bus',\n",
              " 'butterfly',\n",
              " 'camel',\n",
              " 'can',\n",
              " 'castle',\n",
              " 'caterpillar',\n",
              " 'cattle',\n",
              " 'chair',\n",
              " 'chimpanzee',\n",
              " 'clock',\n",
              " 'cloud',\n",
              " 'cockroach',\n",
              " 'couch',\n",
              " 'crab',\n",
              " 'crocodile',\n",
              " 'cup',\n",
              " 'dinosaur',\n",
              " 'dolphin',\n",
              " 'elephant',\n",
              " 'flatfish',\n",
              " 'forest',\n",
              " 'fox',\n",
              " 'girl',\n",
              " 'hamster',\n",
              " 'house',\n",
              " 'kangaroo',\n",
              " 'keyboard',\n",
              " 'lamp',\n",
              " 'lawn_mower',\n",
              " 'leopard',\n",
              " 'lion',\n",
              " 'lizard',\n",
              " 'lobster',\n",
              " 'man',\n",
              " 'maple_tree',\n",
              " 'motorcycle',\n",
              " 'mountain',\n",
              " 'mouse',\n",
              " 'mushroom',\n",
              " 'oak_tree',\n",
              " 'orange',\n",
              " 'orchid',\n",
              " 'otter',\n",
              " 'palm_tree',\n",
              " 'pear',\n",
              " 'pickup_truck',\n",
              " 'pine_tree',\n",
              " 'plain',\n",
              " 'plate',\n",
              " 'poppy',\n",
              " 'porcupine',\n",
              " 'possum',\n",
              " 'rabbit',\n",
              " 'raccoon',\n",
              " 'ray',\n",
              " 'road',\n",
              " 'rocket',\n",
              " 'rose',\n",
              " 'sea',\n",
              " 'seal',\n",
              " 'shark',\n",
              " 'shrew',\n",
              " 'skunk',\n",
              " 'skyscraper',\n",
              " 'snail',\n",
              " 'snake',\n",
              " 'spider',\n",
              " 'squirrel',\n",
              " 'streetcar',\n",
              " 'sunflower',\n",
              " 'sweet_pepper',\n",
              " 'table',\n",
              " 'tank',\n",
              " 'telephone',\n",
              " 'television',\n",
              " 'tiger',\n",
              " 'tractor',\n",
              " 'train',\n",
              " 'trout',\n",
              " 'tulip',\n",
              " 'turtle',\n",
              " 'wardrobe',\n",
              " 'whale',\n",
              " 'willow_tree',\n",
              " 'wolf',\n",
              " 'woman',\n",
              " 'worm']"
            ]
          },
          "metadata": {},
          "execution_count": 75
        }
      ]
    },
    {
      "cell_type": "code",
      "metadata": {
        "colab": {
          "base_uri": "https://localhost:8080/"
        },
        "id": "hD0wa74kS_53",
        "outputId": "47247657-c1f0-46e0-c2a6-050e2d7d2e67"
      },
      "source": [
        "# Get the number of classes\n",
        "n_classes = info.features['label'].num_classes\n",
        "\n",
        "# Print the number of classes\n",
        "info.features['label'].num_classes"
      ],
      "execution_count": 76,
      "outputs": [
        {
          "output_type": "execute_result",
          "data": {
            "text/plain": [
              "100"
            ]
          },
          "metadata": {},
          "execution_count": 76
        }
      ]
    },
    {
      "cell_type": "markdown",
      "metadata": {
        "id": "jGLoCbmO4AN9"
      },
      "source": [
        "## Getting the training, validation and test data"
      ]
    },
    {
      "cell_type": "code",
      "metadata": {
        "id": "a2P4L1vS4AN_"
      },
      "source": [
        "# Set the training, validation and test split\n",
        "split_train, split_valid, split_test = 'train[:70%]', 'train[70%:]', 'test'\n",
        "\n",
        "# Get the training data\n",
        "data_train = tfds.load(name=data_name,\n",
        "                       split=split_train,\n",
        "                       data_dir=abspath_curr + '/data/',\n",
        "                       as_supervised=True)\n",
        "\n",
        "# Get the validation data\n",
        "data_valid = tfds.load(name=data_name,\n",
        "                       split=split_valid,\n",
        "                       data_dir=abspath_curr + '/data/',\n",
        "                       as_supervised=True)\n",
        "\n",
        "# Get the test data\n",
        "data_test = tfds.load(name=data_name,\n",
        "                      split=split_test,\n",
        "                      data_dir=abspath_curr + '/data/',\n",
        "                      as_supervised=True)"
      ],
      "execution_count": 77,
      "outputs": []
    },
    {
      "cell_type": "markdown",
      "metadata": {
        "id": "b3zPpOR4fZjA"
      },
      "source": [
        "## Resizing the data for pretrained model"
      ]
    },
    {
      "cell_type": "code",
      "metadata": {
        "id": "16kuv2xPhvVU"
      },
      "source": [
        "# Set the default input size for the pretrained model\n",
        "global input_size\n",
        "input_size = [224, 224]"
      ],
      "execution_count": 78,
      "outputs": []
    },
    {
      "cell_type": "code",
      "metadata": {
        "id": "oSEHIJaBC3FC"
      },
      "source": [
        "# Resize the training data\n",
        "data_train = data_train.map(resize)\n",
        "\n",
        "# Resize the validation data\n",
        "data_valid = data_valid.map(resize)\n",
        "\n",
        "# Resize the test data\n",
        "data_test = data_test.map(resize)"
      ],
      "execution_count": 79,
      "outputs": []
    },
    {
      "cell_type": "markdown",
      "metadata": {
        "id": "RU-V2HPPcz3P"
      },
      "source": [
        "## Preprocessing the data using pretrained model"
      ]
    },
    {
      "cell_type": "code",
      "metadata": {
        "id": "L0_iVsLqdbV3"
      },
      "source": [
        "# Set the preprocess_input of the pretrained model\n",
        "global preprocess_input\n",
        "preprocess_input = tf.keras.applications.resnet.preprocess_input"
      ],
      "execution_count": 80,
      "outputs": []
    },
    {
      "cell_type": "code",
      "metadata": {
        "id": "Y0bbTGosufVb"
      },
      "source": [
        "# Preprocess the training data using pretrained model\n",
        "data_train = data_train.map(preprocess_pretrain)\n",
        "\n",
        "# Preprocess the validation data using pretrained model\n",
        "data_valid = data_valid.map(preprocess_pretrain)\n",
        "\n",
        "# Preprocess the test data using pretrained model\n",
        "data_test = data_test.map(preprocess_pretrain)"
      ],
      "execution_count": 81,
      "outputs": []
    },
    {
      "cell_type": "markdown",
      "metadata": {
        "id": "HBWxnpc8z6Uf"
      },
      "source": [
        "## Shuffling, batching and prefetching the data"
      ]
    },
    {
      "cell_type": "code",
      "metadata": {
        "id": "SddkzxMfz8Az"
      },
      "source": [
        "# Shuffling the training data\n",
        "data_train = data_train.shuffle(buffer_size=1000, seed=random_seed)\n",
        "\n",
        "# Set the batch size\n",
        "batch_size = 16\n",
        "\n",
        "# Batch and prefetch the training data\n",
        "data_train = data_train.batch(batch_size).prefetch(1)\n",
        "\n",
        "# Batch and prefetch the validation data\n",
        "data_valid = data_valid.batch(batch_size).prefetch(1)\n",
        "\n",
        "# Batch and prefetch the test data\n",
        "data_test = data_test.batch(batch_size).prefetch(1)"
      ],
      "execution_count": 82,
      "outputs": []
    },
    {
      "cell_type": "markdown",
      "metadata": {
        "id": "Fc8xjHVI8BUO"
      },
      "source": [
        "# Training"
      ]
    },
    {
      "cell_type": "markdown",
      "metadata": {
        "id": "5l3DrD9e8g5_"
      },
      "source": [
        "## Creating the directory for the model"
      ]
    },
    {
      "cell_type": "code",
      "metadata": {
        "id": "qIxF9lEh8p7y"
      },
      "source": [
        "# Make directory\n",
        "directory = os.path.dirname(abspath_curr + '/result/model/')\n",
        "if not os.path.exists(directory):\n",
        "    os.makedirs(directory)"
      ],
      "execution_count": 83,
      "outputs": []
    },
    {
      "cell_type": "markdown",
      "metadata": {
        "id": "qIWW5z5WUQa8"
      },
      "source": [
        "## Building the architecture of the model"
      ]
    },
    {
      "cell_type": "code",
      "metadata": {
        "colab": {
          "base_uri": "https://localhost:8080/"
        },
        "id": "jl1jL5exfwz9",
        "outputId": "30dd7e3d-b03b-404c-927b-cbaf53a461d8"
      },
      "source": [
        "# Add the pretrained layers\n",
        "pretrained_model = keras.applications.ResNet50(include_top=False, weights='imagenet')\n",
        "\n",
        "# Add GlobalAveragePooling2D layer\n",
        "average_pooling = keras.layers.GlobalAveragePooling2D()(pretrained_model.output)\n",
        "\n",
        "# Add the output layer\n",
        "output = keras.layers.Dense(n_classes, activation='softmax')(average_pooling)\n",
        "\n",
        "# Get the model\n",
        "model = keras.Model(inputs=pretrained_model.input, outputs=output)\n",
        "\n",
        "model.summary()"
      ],
      "execution_count": 84,
      "outputs": [
        {
          "output_type": "stream",
          "name": "stdout",
          "text": [
            "Model: \"model_2\"\n",
            "__________________________________________________________________________________________________\n",
            " Layer (type)                   Output Shape         Param #     Connected to                     \n",
            "==================================================================================================\n",
            " input_3 (InputLayer)           [(None, None, None,  0           []                               \n",
            "                                 3)]                                                              \n",
            "                                                                                                  \n",
            " conv1_pad (ZeroPadding2D)      (None, None, None,   0           ['input_3[0][0]']                \n",
            "                                3)                                                                \n",
            "                                                                                                  \n",
            " conv1_conv (Conv2D)            (None, None, None,   9472        ['conv1_pad[0][0]']              \n",
            "                                64)                                                               \n",
            "                                                                                                  \n",
            " conv1_bn (BatchNormalization)  (None, None, None,   256         ['conv1_conv[0][0]']             \n",
            "                                64)                                                               \n",
            "                                                                                                  \n",
            " conv1_relu (Activation)        (None, None, None,   0           ['conv1_bn[0][0]']               \n",
            "                                64)                                                               \n",
            "                                                                                                  \n",
            " pool1_pad (ZeroPadding2D)      (None, None, None,   0           ['conv1_relu[0][0]']             \n",
            "                                64)                                                               \n",
            "                                                                                                  \n",
            " pool1_pool (MaxPooling2D)      (None, None, None,   0           ['pool1_pad[0][0]']              \n",
            "                                64)                                                               \n",
            "                                                                                                  \n",
            " conv2_block1_1_conv (Conv2D)   (None, None, None,   4160        ['pool1_pool[0][0]']             \n",
            "                                64)                                                               \n",
            "                                                                                                  \n",
            " conv2_block1_1_bn (BatchNormal  (None, None, None,   256        ['conv2_block1_1_conv[0][0]']    \n",
            " ization)                       64)                                                               \n",
            "                                                                                                  \n",
            " conv2_block1_1_relu (Activatio  (None, None, None,   0          ['conv2_block1_1_bn[0][0]']      \n",
            " n)                             64)                                                               \n",
            "                                                                                                  \n",
            " conv2_block1_2_conv (Conv2D)   (None, None, None,   36928       ['conv2_block1_1_relu[0][0]']    \n",
            "                                64)                                                               \n",
            "                                                                                                  \n",
            " conv2_block1_2_bn (BatchNormal  (None, None, None,   256        ['conv2_block1_2_conv[0][0]']    \n",
            " ization)                       64)                                                               \n",
            "                                                                                                  \n",
            " conv2_block1_2_relu (Activatio  (None, None, None,   0          ['conv2_block1_2_bn[0][0]']      \n",
            " n)                             64)                                                               \n",
            "                                                                                                  \n",
            " conv2_block1_0_conv (Conv2D)   (None, None, None,   16640       ['pool1_pool[0][0]']             \n",
            "                                256)                                                              \n",
            "                                                                                                  \n",
            " conv2_block1_3_conv (Conv2D)   (None, None, None,   16640       ['conv2_block1_2_relu[0][0]']    \n",
            "                                256)                                                              \n",
            "                                                                                                  \n",
            " conv2_block1_0_bn (BatchNormal  (None, None, None,   1024       ['conv2_block1_0_conv[0][0]']    \n",
            " ization)                       256)                                                              \n",
            "                                                                                                  \n",
            " conv2_block1_3_bn (BatchNormal  (None, None, None,   1024       ['conv2_block1_3_conv[0][0]']    \n",
            " ization)                       256)                                                              \n",
            "                                                                                                  \n",
            " conv2_block1_add (Add)         (None, None, None,   0           ['conv2_block1_0_bn[0][0]',      \n",
            "                                256)                              'conv2_block1_3_bn[0][0]']      \n",
            "                                                                                                  \n",
            " conv2_block1_out (Activation)  (None, None, None,   0           ['conv2_block1_add[0][0]']       \n",
            "                                256)                                                              \n",
            "                                                                                                  \n",
            " conv2_block2_1_conv (Conv2D)   (None, None, None,   16448       ['conv2_block1_out[0][0]']       \n",
            "                                64)                                                               \n",
            "                                                                                                  \n",
            " conv2_block2_1_bn (BatchNormal  (None, None, None,   256        ['conv2_block2_1_conv[0][0]']    \n",
            " ization)                       64)                                                               \n",
            "                                                                                                  \n",
            " conv2_block2_1_relu (Activatio  (None, None, None,   0          ['conv2_block2_1_bn[0][0]']      \n",
            " n)                             64)                                                               \n",
            "                                                                                                  \n",
            " conv2_block2_2_conv (Conv2D)   (None, None, None,   36928       ['conv2_block2_1_relu[0][0]']    \n",
            "                                64)                                                               \n",
            "                                                                                                  \n",
            " conv2_block2_2_bn (BatchNormal  (None, None, None,   256        ['conv2_block2_2_conv[0][0]']    \n",
            " ization)                       64)                                                               \n",
            "                                                                                                  \n",
            " conv2_block2_2_relu (Activatio  (None, None, None,   0          ['conv2_block2_2_bn[0][0]']      \n",
            " n)                             64)                                                               \n",
            "                                                                                                  \n",
            " conv2_block2_3_conv (Conv2D)   (None, None, None,   16640       ['conv2_block2_2_relu[0][0]']    \n",
            "                                256)                                                              \n",
            "                                                                                                  \n",
            " conv2_block2_3_bn (BatchNormal  (None, None, None,   1024       ['conv2_block2_3_conv[0][0]']    \n",
            " ization)                       256)                                                              \n",
            "                                                                                                  \n",
            " conv2_block2_add (Add)         (None, None, None,   0           ['conv2_block1_out[0][0]',       \n",
            "                                256)                              'conv2_block2_3_bn[0][0]']      \n",
            "                                                                                                  \n",
            " conv2_block2_out (Activation)  (None, None, None,   0           ['conv2_block2_add[0][0]']       \n",
            "                                256)                                                              \n",
            "                                                                                                  \n",
            " conv2_block3_1_conv (Conv2D)   (None, None, None,   16448       ['conv2_block2_out[0][0]']       \n",
            "                                64)                                                               \n",
            "                                                                                                  \n",
            " conv2_block3_1_bn (BatchNormal  (None, None, None,   256        ['conv2_block3_1_conv[0][0]']    \n",
            " ization)                       64)                                                               \n",
            "                                                                                                  \n",
            " conv2_block3_1_relu (Activatio  (None, None, None,   0          ['conv2_block3_1_bn[0][0]']      \n",
            " n)                             64)                                                               \n",
            "                                                                                                  \n",
            " conv2_block3_2_conv (Conv2D)   (None, None, None,   36928       ['conv2_block3_1_relu[0][0]']    \n",
            "                                64)                                                               \n",
            "                                                                                                  \n",
            " conv2_block3_2_bn (BatchNormal  (None, None, None,   256        ['conv2_block3_2_conv[0][0]']    \n",
            " ization)                       64)                                                               \n",
            "                                                                                                  \n",
            " conv2_block3_2_relu (Activatio  (None, None, None,   0          ['conv2_block3_2_bn[0][0]']      \n",
            " n)                             64)                                                               \n",
            "                                                                                                  \n",
            " conv2_block3_3_conv (Conv2D)   (None, None, None,   16640       ['conv2_block3_2_relu[0][0]']    \n",
            "                                256)                                                              \n",
            "                                                                                                  \n",
            " conv2_block3_3_bn (BatchNormal  (None, None, None,   1024       ['conv2_block3_3_conv[0][0]']    \n",
            " ization)                       256)                                                              \n",
            "                                                                                                  \n",
            " conv2_block3_add (Add)         (None, None, None,   0           ['conv2_block2_out[0][0]',       \n",
            "                                256)                              'conv2_block3_3_bn[0][0]']      \n",
            "                                                                                                  \n",
            " conv2_block3_out (Activation)  (None, None, None,   0           ['conv2_block3_add[0][0]']       \n",
            "                                256)                                                              \n",
            "                                                                                                  \n",
            " conv3_block1_1_conv (Conv2D)   (None, None, None,   32896       ['conv2_block3_out[0][0]']       \n",
            "                                128)                                                              \n",
            "                                                                                                  \n",
            " conv3_block1_1_bn (BatchNormal  (None, None, None,   512        ['conv3_block1_1_conv[0][0]']    \n",
            " ization)                       128)                                                              \n",
            "                                                                                                  \n",
            " conv3_block1_1_relu (Activatio  (None, None, None,   0          ['conv3_block1_1_bn[0][0]']      \n",
            " n)                             128)                                                              \n",
            "                                                                                                  \n",
            " conv3_block1_2_conv (Conv2D)   (None, None, None,   147584      ['conv3_block1_1_relu[0][0]']    \n",
            "                                128)                                                              \n",
            "                                                                                                  \n",
            " conv3_block1_2_bn (BatchNormal  (None, None, None,   512        ['conv3_block1_2_conv[0][0]']    \n",
            " ization)                       128)                                                              \n",
            "                                                                                                  \n",
            " conv3_block1_2_relu (Activatio  (None, None, None,   0          ['conv3_block1_2_bn[0][0]']      \n",
            " n)                             128)                                                              \n",
            "                                                                                                  \n",
            " conv3_block1_0_conv (Conv2D)   (None, None, None,   131584      ['conv2_block3_out[0][0]']       \n",
            "                                512)                                                              \n",
            "                                                                                                  \n",
            " conv3_block1_3_conv (Conv2D)   (None, None, None,   66048       ['conv3_block1_2_relu[0][0]']    \n",
            "                                512)                                                              \n",
            "                                                                                                  \n",
            " conv3_block1_0_bn (BatchNormal  (None, None, None,   2048       ['conv3_block1_0_conv[0][0]']    \n",
            " ization)                       512)                                                              \n",
            "                                                                                                  \n",
            " conv3_block1_3_bn (BatchNormal  (None, None, None,   2048       ['conv3_block1_3_conv[0][0]']    \n",
            " ization)                       512)                                                              \n",
            "                                                                                                  \n",
            " conv3_block1_add (Add)         (None, None, None,   0           ['conv3_block1_0_bn[0][0]',      \n",
            "                                512)                              'conv3_block1_3_bn[0][0]']      \n",
            "                                                                                                  \n",
            " conv3_block1_out (Activation)  (None, None, None,   0           ['conv3_block1_add[0][0]']       \n",
            "                                512)                                                              \n",
            "                                                                                                  \n",
            " conv3_block2_1_conv (Conv2D)   (None, None, None,   65664       ['conv3_block1_out[0][0]']       \n",
            "                                128)                                                              \n",
            "                                                                                                  \n",
            " conv3_block2_1_bn (BatchNormal  (None, None, None,   512        ['conv3_block2_1_conv[0][0]']    \n",
            " ization)                       128)                                                              \n",
            "                                                                                                  \n",
            " conv3_block2_1_relu (Activatio  (None, None, None,   0          ['conv3_block2_1_bn[0][0]']      \n",
            " n)                             128)                                                              \n",
            "                                                                                                  \n",
            " conv3_block2_2_conv (Conv2D)   (None, None, None,   147584      ['conv3_block2_1_relu[0][0]']    \n",
            "                                128)                                                              \n",
            "                                                                                                  \n",
            " conv3_block2_2_bn (BatchNormal  (None, None, None,   512        ['conv3_block2_2_conv[0][0]']    \n",
            " ization)                       128)                                                              \n",
            "                                                                                                  \n",
            " conv3_block2_2_relu (Activatio  (None, None, None,   0          ['conv3_block2_2_bn[0][0]']      \n",
            " n)                             128)                                                              \n",
            "                                                                                                  \n",
            " conv3_block2_3_conv (Conv2D)   (None, None, None,   66048       ['conv3_block2_2_relu[0][0]']    \n",
            "                                512)                                                              \n",
            "                                                                                                  \n",
            " conv3_block2_3_bn (BatchNormal  (None, None, None,   2048       ['conv3_block2_3_conv[0][0]']    \n",
            " ization)                       512)                                                              \n",
            "                                                                                                  \n",
            " conv3_block2_add (Add)         (None, None, None,   0           ['conv3_block1_out[0][0]',       \n",
            "                                512)                              'conv3_block2_3_bn[0][0]']      \n",
            "                                                                                                  \n",
            " conv3_block2_out (Activation)  (None, None, None,   0           ['conv3_block2_add[0][0]']       \n",
            "                                512)                                                              \n",
            "                                                                                                  \n",
            " conv3_block3_1_conv (Conv2D)   (None, None, None,   65664       ['conv3_block2_out[0][0]']       \n",
            "                                128)                                                              \n",
            "                                                                                                  \n",
            " conv3_block3_1_bn (BatchNormal  (None, None, None,   512        ['conv3_block3_1_conv[0][0]']    \n",
            " ization)                       128)                                                              \n",
            "                                                                                                  \n",
            " conv3_block3_1_relu (Activatio  (None, None, None,   0          ['conv3_block3_1_bn[0][0]']      \n",
            " n)                             128)                                                              \n",
            "                                                                                                  \n",
            " conv3_block3_2_conv (Conv2D)   (None, None, None,   147584      ['conv3_block3_1_relu[0][0]']    \n",
            "                                128)                                                              \n",
            "                                                                                                  \n",
            " conv3_block3_2_bn (BatchNormal  (None, None, None,   512        ['conv3_block3_2_conv[0][0]']    \n",
            " ization)                       128)                                                              \n",
            "                                                                                                  \n",
            " conv3_block3_2_relu (Activatio  (None, None, None,   0          ['conv3_block3_2_bn[0][0]']      \n",
            " n)                             128)                                                              \n",
            "                                                                                                  \n",
            " conv3_block3_3_conv (Conv2D)   (None, None, None,   66048       ['conv3_block3_2_relu[0][0]']    \n",
            "                                512)                                                              \n",
            "                                                                                                  \n",
            " conv3_block3_3_bn (BatchNormal  (None, None, None,   2048       ['conv3_block3_3_conv[0][0]']    \n",
            " ization)                       512)                                                              \n",
            "                                                                                                  \n",
            " conv3_block3_add (Add)         (None, None, None,   0           ['conv3_block2_out[0][0]',       \n",
            "                                512)                              'conv3_block3_3_bn[0][0]']      \n",
            "                                                                                                  \n",
            " conv3_block3_out (Activation)  (None, None, None,   0           ['conv3_block3_add[0][0]']       \n",
            "                                512)                                                              \n",
            "                                                                                                  \n",
            " conv3_block4_1_conv (Conv2D)   (None, None, None,   65664       ['conv3_block3_out[0][0]']       \n",
            "                                128)                                                              \n",
            "                                                                                                  \n",
            " conv3_block4_1_bn (BatchNormal  (None, None, None,   512        ['conv3_block4_1_conv[0][0]']    \n",
            " ization)                       128)                                                              \n",
            "                                                                                                  \n",
            " conv3_block4_1_relu (Activatio  (None, None, None,   0          ['conv3_block4_1_bn[0][0]']      \n",
            " n)                             128)                                                              \n",
            "                                                                                                  \n",
            " conv3_block4_2_conv (Conv2D)   (None, None, None,   147584      ['conv3_block4_1_relu[0][0]']    \n",
            "                                128)                                                              \n",
            "                                                                                                  \n",
            " conv3_block4_2_bn (BatchNormal  (None, None, None,   512        ['conv3_block4_2_conv[0][0]']    \n",
            " ization)                       128)                                                              \n",
            "                                                                                                  \n",
            " conv3_block4_2_relu (Activatio  (None, None, None,   0          ['conv3_block4_2_bn[0][0]']      \n",
            " n)                             128)                                                              \n",
            "                                                                                                  \n",
            " conv3_block4_3_conv (Conv2D)   (None, None, None,   66048       ['conv3_block4_2_relu[0][0]']    \n",
            "                                512)                                                              \n",
            "                                                                                                  \n",
            " conv3_block4_3_bn (BatchNormal  (None, None, None,   2048       ['conv3_block4_3_conv[0][0]']    \n",
            " ization)                       512)                                                              \n",
            "                                                                                                  \n",
            " conv3_block4_add (Add)         (None, None, None,   0           ['conv3_block3_out[0][0]',       \n",
            "                                512)                              'conv3_block4_3_bn[0][0]']      \n",
            "                                                                                                  \n",
            " conv3_block4_out (Activation)  (None, None, None,   0           ['conv3_block4_add[0][0]']       \n",
            "                                512)                                                              \n",
            "                                                                                                  \n",
            " conv4_block1_1_conv (Conv2D)   (None, None, None,   131328      ['conv3_block4_out[0][0]']       \n",
            "                                256)                                                              \n",
            "                                                                                                  \n",
            " conv4_block1_1_bn (BatchNormal  (None, None, None,   1024       ['conv4_block1_1_conv[0][0]']    \n",
            " ization)                       256)                                                              \n",
            "                                                                                                  \n",
            " conv4_block1_1_relu (Activatio  (None, None, None,   0          ['conv4_block1_1_bn[0][0]']      \n",
            " n)                             256)                                                              \n",
            "                                                                                                  \n",
            " conv4_block1_2_conv (Conv2D)   (None, None, None,   590080      ['conv4_block1_1_relu[0][0]']    \n",
            "                                256)                                                              \n",
            "                                                                                                  \n",
            " conv4_block1_2_bn (BatchNormal  (None, None, None,   1024       ['conv4_block1_2_conv[0][0]']    \n",
            " ization)                       256)                                                              \n",
            "                                                                                                  \n",
            " conv4_block1_2_relu (Activatio  (None, None, None,   0          ['conv4_block1_2_bn[0][0]']      \n",
            " n)                             256)                                                              \n",
            "                                                                                                  \n",
            " conv4_block1_0_conv (Conv2D)   (None, None, None,   525312      ['conv3_block4_out[0][0]']       \n",
            "                                1024)                                                             \n",
            "                                                                                                  \n",
            " conv4_block1_3_conv (Conv2D)   (None, None, None,   263168      ['conv4_block1_2_relu[0][0]']    \n",
            "                                1024)                                                             \n",
            "                                                                                                  \n",
            " conv4_block1_0_bn (BatchNormal  (None, None, None,   4096       ['conv4_block1_0_conv[0][0]']    \n",
            " ization)                       1024)                                                             \n",
            "                                                                                                  \n",
            " conv4_block1_3_bn (BatchNormal  (None, None, None,   4096       ['conv4_block1_3_conv[0][0]']    \n",
            " ization)                       1024)                                                             \n",
            "                                                                                                  \n",
            " conv4_block1_add (Add)         (None, None, None,   0           ['conv4_block1_0_bn[0][0]',      \n",
            "                                1024)                             'conv4_block1_3_bn[0][0]']      \n",
            "                                                                                                  \n",
            " conv4_block1_out (Activation)  (None, None, None,   0           ['conv4_block1_add[0][0]']       \n",
            "                                1024)                                                             \n",
            "                                                                                                  \n",
            " conv4_block2_1_conv (Conv2D)   (None, None, None,   262400      ['conv4_block1_out[0][0]']       \n",
            "                                256)                                                              \n",
            "                                                                                                  \n",
            " conv4_block2_1_bn (BatchNormal  (None, None, None,   1024       ['conv4_block2_1_conv[0][0]']    \n",
            " ization)                       256)                                                              \n",
            "                                                                                                  \n",
            " conv4_block2_1_relu (Activatio  (None, None, None,   0          ['conv4_block2_1_bn[0][0]']      \n",
            " n)                             256)                                                              \n",
            "                                                                                                  \n",
            " conv4_block2_2_conv (Conv2D)   (None, None, None,   590080      ['conv4_block2_1_relu[0][0]']    \n",
            "                                256)                                                              \n",
            "                                                                                                  \n",
            " conv4_block2_2_bn (BatchNormal  (None, None, None,   1024       ['conv4_block2_2_conv[0][0]']    \n",
            " ization)                       256)                                                              \n",
            "                                                                                                  \n",
            " conv4_block2_2_relu (Activatio  (None, None, None,   0          ['conv4_block2_2_bn[0][0]']      \n",
            " n)                             256)                                                              \n",
            "                                                                                                  \n",
            " conv4_block2_3_conv (Conv2D)   (None, None, None,   263168      ['conv4_block2_2_relu[0][0]']    \n",
            "                                1024)                                                             \n",
            "                                                                                                  \n",
            " conv4_block2_3_bn (BatchNormal  (None, None, None,   4096       ['conv4_block2_3_conv[0][0]']    \n",
            " ization)                       1024)                                                             \n",
            "                                                                                                  \n",
            " conv4_block2_add (Add)         (None, None, None,   0           ['conv4_block1_out[0][0]',       \n",
            "                                1024)                             'conv4_block2_3_bn[0][0]']      \n",
            "                                                                                                  \n",
            " conv4_block2_out (Activation)  (None, None, None,   0           ['conv4_block2_add[0][0]']       \n",
            "                                1024)                                                             \n",
            "                                                                                                  \n",
            " conv4_block3_1_conv (Conv2D)   (None, None, None,   262400      ['conv4_block2_out[0][0]']       \n",
            "                                256)                                                              \n",
            "                                                                                                  \n",
            " conv4_block3_1_bn (BatchNormal  (None, None, None,   1024       ['conv4_block3_1_conv[0][0]']    \n",
            " ization)                       256)                                                              \n",
            "                                                                                                  \n",
            " conv4_block3_1_relu (Activatio  (None, None, None,   0          ['conv4_block3_1_bn[0][0]']      \n",
            " n)                             256)                                                              \n",
            "                                                                                                  \n",
            " conv4_block3_2_conv (Conv2D)   (None, None, None,   590080      ['conv4_block3_1_relu[0][0]']    \n",
            "                                256)                                                              \n",
            "                                                                                                  \n",
            " conv4_block3_2_bn (BatchNormal  (None, None, None,   1024       ['conv4_block3_2_conv[0][0]']    \n",
            " ization)                       256)                                                              \n",
            "                                                                                                  \n",
            " conv4_block3_2_relu (Activatio  (None, None, None,   0          ['conv4_block3_2_bn[0][0]']      \n",
            " n)                             256)                                                              \n",
            "                                                                                                  \n",
            " conv4_block3_3_conv (Conv2D)   (None, None, None,   263168      ['conv4_block3_2_relu[0][0]']    \n",
            "                                1024)                                                             \n",
            "                                                                                                  \n",
            " conv4_block3_3_bn (BatchNormal  (None, None, None,   4096       ['conv4_block3_3_conv[0][0]']    \n",
            " ization)                       1024)                                                             \n",
            "                                                                                                  \n",
            " conv4_block3_add (Add)         (None, None, None,   0           ['conv4_block2_out[0][0]',       \n",
            "                                1024)                             'conv4_block3_3_bn[0][0]']      \n",
            "                                                                                                  \n",
            " conv4_block3_out (Activation)  (None, None, None,   0           ['conv4_block3_add[0][0]']       \n",
            "                                1024)                                                             \n",
            "                                                                                                  \n",
            " conv4_block4_1_conv (Conv2D)   (None, None, None,   262400      ['conv4_block3_out[0][0]']       \n",
            "                                256)                                                              \n",
            "                                                                                                  \n",
            " conv4_block4_1_bn (BatchNormal  (None, None, None,   1024       ['conv4_block4_1_conv[0][0]']    \n",
            " ization)                       256)                                                              \n",
            "                                                                                                  \n",
            " conv4_block4_1_relu (Activatio  (None, None, None,   0          ['conv4_block4_1_bn[0][0]']      \n",
            " n)                             256)                                                              \n",
            "                                                                                                  \n",
            " conv4_block4_2_conv (Conv2D)   (None, None, None,   590080      ['conv4_block4_1_relu[0][0]']    \n",
            "                                256)                                                              \n",
            "                                                                                                  \n",
            " conv4_block4_2_bn (BatchNormal  (None, None, None,   1024       ['conv4_block4_2_conv[0][0]']    \n",
            " ization)                       256)                                                              \n",
            "                                                                                                  \n",
            " conv4_block4_2_relu (Activatio  (None, None, None,   0          ['conv4_block4_2_bn[0][0]']      \n",
            " n)                             256)                                                              \n",
            "                                                                                                  \n",
            " conv4_block4_3_conv (Conv2D)   (None, None, None,   263168      ['conv4_block4_2_relu[0][0]']    \n",
            "                                1024)                                                             \n",
            "                                                                                                  \n",
            " conv4_block4_3_bn (BatchNormal  (None, None, None,   4096       ['conv4_block4_3_conv[0][0]']    \n",
            " ization)                       1024)                                                             \n",
            "                                                                                                  \n",
            " conv4_block4_add (Add)         (None, None, None,   0           ['conv4_block3_out[0][0]',       \n",
            "                                1024)                             'conv4_block4_3_bn[0][0]']      \n",
            "                                                                                                  \n",
            " conv4_block4_out (Activation)  (None, None, None,   0           ['conv4_block4_add[0][0]']       \n",
            "                                1024)                                                             \n",
            "                                                                                                  \n",
            " conv4_block5_1_conv (Conv2D)   (None, None, None,   262400      ['conv4_block4_out[0][0]']       \n",
            "                                256)                                                              \n",
            "                                                                                                  \n",
            " conv4_block5_1_bn (BatchNormal  (None, None, None,   1024       ['conv4_block5_1_conv[0][0]']    \n",
            " ization)                       256)                                                              \n",
            "                                                                                                  \n",
            " conv4_block5_1_relu (Activatio  (None, None, None,   0          ['conv4_block5_1_bn[0][0]']      \n",
            " n)                             256)                                                              \n",
            "                                                                                                  \n",
            " conv4_block5_2_conv (Conv2D)   (None, None, None,   590080      ['conv4_block5_1_relu[0][0]']    \n",
            "                                256)                                                              \n",
            "                                                                                                  \n",
            " conv4_block5_2_bn (BatchNormal  (None, None, None,   1024       ['conv4_block5_2_conv[0][0]']    \n",
            " ization)                       256)                                                              \n",
            "                                                                                                  \n",
            " conv4_block5_2_relu (Activatio  (None, None, None,   0          ['conv4_block5_2_bn[0][0]']      \n",
            " n)                             256)                                                              \n",
            "                                                                                                  \n",
            " conv4_block5_3_conv (Conv2D)   (None, None, None,   263168      ['conv4_block5_2_relu[0][0]']    \n",
            "                                1024)                                                             \n",
            "                                                                                                  \n",
            " conv4_block5_3_bn (BatchNormal  (None, None, None,   4096       ['conv4_block5_3_conv[0][0]']    \n",
            " ization)                       1024)                                                             \n",
            "                                                                                                  \n",
            " conv4_block5_add (Add)         (None, None, None,   0           ['conv4_block4_out[0][0]',       \n",
            "                                1024)                             'conv4_block5_3_bn[0][0]']      \n",
            "                                                                                                  \n",
            " conv4_block5_out (Activation)  (None, None, None,   0           ['conv4_block5_add[0][0]']       \n",
            "                                1024)                                                             \n",
            "                                                                                                  \n",
            " conv4_block6_1_conv (Conv2D)   (None, None, None,   262400      ['conv4_block5_out[0][0]']       \n",
            "                                256)                                                              \n",
            "                                                                                                  \n",
            " conv4_block6_1_bn (BatchNormal  (None, None, None,   1024       ['conv4_block6_1_conv[0][0]']    \n",
            " ization)                       256)                                                              \n",
            "                                                                                                  \n",
            " conv4_block6_1_relu (Activatio  (None, None, None,   0          ['conv4_block6_1_bn[0][0]']      \n",
            " n)                             256)                                                              \n",
            "                                                                                                  \n",
            " conv4_block6_2_conv (Conv2D)   (None, None, None,   590080      ['conv4_block6_1_relu[0][0]']    \n",
            "                                256)                                                              \n",
            "                                                                                                  \n",
            " conv4_block6_2_bn (BatchNormal  (None, None, None,   1024       ['conv4_block6_2_conv[0][0]']    \n",
            " ization)                       256)                                                              \n",
            "                                                                                                  \n",
            " conv4_block6_2_relu (Activatio  (None, None, None,   0          ['conv4_block6_2_bn[0][0]']      \n",
            " n)                             256)                                                              \n",
            "                                                                                                  \n",
            " conv4_block6_3_conv (Conv2D)   (None, None, None,   263168      ['conv4_block6_2_relu[0][0]']    \n",
            "                                1024)                                                             \n",
            "                                                                                                  \n",
            " conv4_block6_3_bn (BatchNormal  (None, None, None,   4096       ['conv4_block6_3_conv[0][0]']    \n",
            " ization)                       1024)                                                             \n",
            "                                                                                                  \n",
            " conv4_block6_add (Add)         (None, None, None,   0           ['conv4_block5_out[0][0]',       \n",
            "                                1024)                             'conv4_block6_3_bn[0][0]']      \n",
            "                                                                                                  \n",
            " conv4_block6_out (Activation)  (None, None, None,   0           ['conv4_block6_add[0][0]']       \n",
            "                                1024)                                                             \n",
            "                                                                                                  \n",
            " conv5_block1_1_conv (Conv2D)   (None, None, None,   524800      ['conv4_block6_out[0][0]']       \n",
            "                                512)                                                              \n",
            "                                                                                                  \n",
            " conv5_block1_1_bn (BatchNormal  (None, None, None,   2048       ['conv5_block1_1_conv[0][0]']    \n",
            " ization)                       512)                                                              \n",
            "                                                                                                  \n",
            " conv5_block1_1_relu (Activatio  (None, None, None,   0          ['conv5_block1_1_bn[0][0]']      \n",
            " n)                             512)                                                              \n",
            "                                                                                                  \n",
            " conv5_block1_2_conv (Conv2D)   (None, None, None,   2359808     ['conv5_block1_1_relu[0][0]']    \n",
            "                                512)                                                              \n",
            "                                                                                                  \n",
            " conv5_block1_2_bn (BatchNormal  (None, None, None,   2048       ['conv5_block1_2_conv[0][0]']    \n",
            " ization)                       512)                                                              \n",
            "                                                                                                  \n",
            " conv5_block1_2_relu (Activatio  (None, None, None,   0          ['conv5_block1_2_bn[0][0]']      \n",
            " n)                             512)                                                              \n",
            "                                                                                                  \n",
            " conv5_block1_0_conv (Conv2D)   (None, None, None,   2099200     ['conv4_block6_out[0][0]']       \n",
            "                                2048)                                                             \n",
            "                                                                                                  \n",
            " conv5_block1_3_conv (Conv2D)   (None, None, None,   1050624     ['conv5_block1_2_relu[0][0]']    \n",
            "                                2048)                                                             \n",
            "                                                                                                  \n",
            " conv5_block1_0_bn (BatchNormal  (None, None, None,   8192       ['conv5_block1_0_conv[0][0]']    \n",
            " ization)                       2048)                                                             \n",
            "                                                                                                  \n",
            " conv5_block1_3_bn (BatchNormal  (None, None, None,   8192       ['conv5_block1_3_conv[0][0]']    \n",
            " ization)                       2048)                                                             \n",
            "                                                                                                  \n",
            " conv5_block1_add (Add)         (None, None, None,   0           ['conv5_block1_0_bn[0][0]',      \n",
            "                                2048)                             'conv5_block1_3_bn[0][0]']      \n",
            "                                                                                                  \n",
            " conv5_block1_out (Activation)  (None, None, None,   0           ['conv5_block1_add[0][0]']       \n",
            "                                2048)                                                             \n",
            "                                                                                                  \n",
            " conv5_block2_1_conv (Conv2D)   (None, None, None,   1049088     ['conv5_block1_out[0][0]']       \n",
            "                                512)                                                              \n",
            "                                                                                                  \n",
            " conv5_block2_1_bn (BatchNormal  (None, None, None,   2048       ['conv5_block2_1_conv[0][0]']    \n",
            " ization)                       512)                                                              \n",
            "                                                                                                  \n",
            " conv5_block2_1_relu (Activatio  (None, None, None,   0          ['conv5_block2_1_bn[0][0]']      \n",
            " n)                             512)                                                              \n",
            "                                                                                                  \n",
            " conv5_block2_2_conv (Conv2D)   (None, None, None,   2359808     ['conv5_block2_1_relu[0][0]']    \n",
            "                                512)                                                              \n",
            "                                                                                                  \n",
            " conv5_block2_2_bn (BatchNormal  (None, None, None,   2048       ['conv5_block2_2_conv[0][0]']    \n",
            " ization)                       512)                                                              \n",
            "                                                                                                  \n",
            " conv5_block2_2_relu (Activatio  (None, None, None,   0          ['conv5_block2_2_bn[0][0]']      \n",
            " n)                             512)                                                              \n",
            "                                                                                                  \n",
            " conv5_block2_3_conv (Conv2D)   (None, None, None,   1050624     ['conv5_block2_2_relu[0][0]']    \n",
            "                                2048)                                                             \n",
            "                                                                                                  \n",
            " conv5_block2_3_bn (BatchNormal  (None, None, None,   8192       ['conv5_block2_3_conv[0][0]']    \n",
            " ization)                       2048)                                                             \n",
            "                                                                                                  \n",
            " conv5_block2_add (Add)         (None, None, None,   0           ['conv5_block1_out[0][0]',       \n",
            "                                2048)                             'conv5_block2_3_bn[0][0]']      \n",
            "                                                                                                  \n",
            " conv5_block2_out (Activation)  (None, None, None,   0           ['conv5_block2_add[0][0]']       \n",
            "                                2048)                                                             \n",
            "                                                                                                  \n",
            " conv5_block3_1_conv (Conv2D)   (None, None, None,   1049088     ['conv5_block2_out[0][0]']       \n",
            "                                512)                                                              \n",
            "                                                                                                  \n",
            " conv5_block3_1_bn (BatchNormal  (None, None, None,   2048       ['conv5_block3_1_conv[0][0]']    \n",
            " ization)                       512)                                                              \n",
            "                                                                                                  \n",
            " conv5_block3_1_relu (Activatio  (None, None, None,   0          ['conv5_block3_1_bn[0][0]']      \n",
            " n)                             512)                                                              \n",
            "                                                                                                  \n",
            " conv5_block3_2_conv (Conv2D)   (None, None, None,   2359808     ['conv5_block3_1_relu[0][0]']    \n",
            "                                512)                                                              \n",
            "                                                                                                  \n",
            " conv5_block3_2_bn (BatchNormal  (None, None, None,   2048       ['conv5_block3_2_conv[0][0]']    \n",
            " ization)                       512)                                                              \n",
            "                                                                                                  \n",
            " conv5_block3_2_relu (Activatio  (None, None, None,   0          ['conv5_block3_2_bn[0][0]']      \n",
            " n)                             512)                                                              \n",
            "                                                                                                  \n",
            " conv5_block3_3_conv (Conv2D)   (None, None, None,   1050624     ['conv5_block3_2_relu[0][0]']    \n",
            "                                2048)                                                             \n",
            "                                                                                                  \n",
            " conv5_block3_3_bn (BatchNormal  (None, None, None,   8192       ['conv5_block3_3_conv[0][0]']    \n",
            " ization)                       2048)                                                             \n",
            "                                                                                                  \n",
            " conv5_block3_add (Add)         (None, None, None,   0           ['conv5_block2_out[0][0]',       \n",
            "                                2048)                             'conv5_block3_3_bn[0][0]']      \n",
            "                                                                                                  \n",
            " conv5_block3_out (Activation)  (None, None, None,   0           ['conv5_block3_add[0][0]']       \n",
            "                                2048)                                                             \n",
            "                                                                                                  \n",
            " global_average_pooling2d_2 (Gl  (None, 2048)        0           ['conv5_block3_out[0][0]']       \n",
            " obalAveragePooling2D)                                                                            \n",
            "                                                                                                  \n",
            " dense_2 (Dense)                (None, 100)          204900      ['global_average_pooling2d_2[0][0\n",
            "                                                                 ]']                              \n",
            "                                                                                                  \n",
            "==================================================================================================\n",
            "Total params: 23,792,612\n",
            "Trainable params: 23,739,492\n",
            "Non-trainable params: 53,120\n",
            "__________________________________________________________________________________________________\n"
          ]
        }
      ]
    },
    {
      "cell_type": "markdown",
      "metadata": {
        "id": "uz_VacxGUTD3"
      },
      "source": [
        "## Freezing the pretrained layers"
      ]
    },
    {
      "cell_type": "code",
      "metadata": {
        "id": "NEMUBOTmUXfu"
      },
      "source": [
        "# For each layer in the pretrained model\n",
        "for layer in pretrained_model.layers:\n",
        "    # Freeze the layer\n",
        "    layer.trainable = False"
      ],
      "execution_count": 85,
      "outputs": []
    },
    {
      "cell_type": "markdown",
      "metadata": {
        "id": "u9KTlbBT8EXs"
      },
      "source": [
        "## Setting Callbacks"
      ]
    },
    {
      "cell_type": "code",
      "metadata": {
        "id": "5_iUDJLP8K44"
      },
      "source": [
        "# ModelCheckpoint callback\n",
        "model_checkpoint_cb = keras.callbacks.ModelCheckpoint(filepath=abspath_curr + '/result/model/model.h5',\n",
        "                                                      save_best_only=True,\n",
        "                                                      save_weights_only=True)\n",
        "\n",
        "# EarlyStopping callback\n",
        "early_stopping_cb = keras.callbacks.EarlyStopping(patience=2,\n",
        "                                                  restore_best_weights=True)\n",
        "\n",
        "# ReduceLROnPlateau callback\n",
        "reduce_lr_on_plateau_cb = keras.callbacks.ReduceLROnPlateau(factor=0.1,\n",
        "                                                            patience=1)"
      ],
      "execution_count": 86,
      "outputs": []
    },
    {
      "cell_type": "markdown",
      "metadata": {
        "id": "DyXyvsiQVXph"
      },
      "source": [
        "## Compiling the model\n",
        "Here we use the learning rate schedule with a gradient descent optimizer."
      ]
    },
    {
      "cell_type": "code",
      "metadata": {
        "id": "u0zAElDAVK3H"
      },
      "source": [
        "# Compile the model\n",
        "#model.compile(optimizer=keras.optimizers.Adam(learning_rate=0.01),\n",
        "#              loss='sparse_categorical_crossentropy',    \n",
        "#              metrics=['accuracy'])"
      ],
      "execution_count": 87,
      "outputs": []
    },
    {
      "cell_type": "code",
      "metadata": {
        "id": "7kZ6E-gNXrLL"
      },
      "source": [
        "# Compile the model\n",
        "model.compile(optimizer=keras.optimizers.SGD(decay=1e-4),\n",
        "              loss='sparse_categorical_crossentropy',\n",
        "              metrics=['accuracy'])"
      ],
      "execution_count": 88,
      "outputs": []
    },
    {
      "cell_type": "markdown",
      "metadata": {
        "id": "gLdyw9n_VzUb"
      },
      "source": [
        "## Training the model"
      ]
    },
    {
      "cell_type": "code",
      "metadata": {
        "colab": {
          "base_uri": "https://localhost:8080/"
        },
        "id": "0lES5CBZV176",
        "outputId": "9ecae46e-3d80-41bb-8a51-064fbeeea14b"
      },
      "source": [
        "# Train, evaluate and save the best model\n",
        "history = model.fit(data_train,\n",
        "                    epochs=5,\n",
        "                    validation_data=data_valid,\n",
        "                    callbacks=[model_checkpoint_cb,\n",
        "                               early_stopping_cb,\n",
        "                               reduce_lr_on_plateau_cb])"
      ],
      "execution_count": 89,
      "outputs": [
        {
          "output_type": "stream",
          "name": "stdout",
          "text": [
            "Epoch 1/5\n",
            "2188/2188 [==============================] - 107s 47ms/step - loss: 1.7141 - accuracy: 0.5494 - val_loss: 1.2553 - val_accuracy: 0.6401 - lr: 0.0100\n",
            "Epoch 2/5\n",
            "2188/2188 [==============================] - 104s 47ms/step - loss: 1.0450 - accuracy: 0.7001 - val_loss: 1.0905 - val_accuracy: 0.6851 - lr: 0.0100\n",
            "Epoch 3/5\n",
            "2188/2188 [==============================] - 104s 47ms/step - loss: 0.8982 - accuracy: 0.7398 - val_loss: 1.0263 - val_accuracy: 0.6985 - lr: 0.0100\n",
            "Epoch 4/5\n",
            "2188/2188 [==============================] - 105s 47ms/step - loss: 0.8127 - accuracy: 0.7648 - val_loss: 0.9976 - val_accuracy: 0.7092 - lr: 0.0100\n",
            "Epoch 5/5\n",
            "2188/2188 [==============================] - 118s 54ms/step - loss: 0.7539 - accuracy: 0.7821 - val_loss: 0.9743 - val_accuracy: 0.7169 - lr: 0.0100\n"
          ]
        }
      ]
    },
    {
      "cell_type": "markdown",
      "metadata": {
        "id": "naOELFqc6pSB"
      },
      "source": [
        "## Plotting the learning curve"
      ]
    },
    {
      "cell_type": "markdown",
      "metadata": {
        "id": "-b-1nRnIgL0d"
      },
      "source": [
        "### Creating the directory for the figure"
      ]
    },
    {
      "cell_type": "code",
      "metadata": {
        "id": "crm5bRITgT8Y"
      },
      "source": [
        "# Make directory\n",
        "directory = os.path.dirname(abspath_curr + '/result/figure/')\n",
        "if not os.path.exists(directory):\n",
        "    os.makedirs(directory)"
      ],
      "execution_count": 90,
      "outputs": []
    },
    {
      "cell_type": "code",
      "metadata": {
        "id": "ZucB_4TQ4APW",
        "colab": {
          "base_uri": "https://localhost:8080/",
          "height": 348
        },
        "outputId": "639f94dc-354e-4980-fc77-b5ab037f0eda"
      },
      "source": [
        "import pandas as pd\n",
        "\n",
        "# Create a figure\n",
        "pd.DataFrame(history.history).plot(figsize=(8, 5))\n",
        "\n",
        "# Set grid\n",
        "plt.grid(True)\n",
        "\n",
        "# Save and show the figure\n",
        "plt.tight_layout()\n",
        "plt.savefig(abspath_curr + '/result/figure/learning_curve_before_unfreezing.pdf')\n",
        "plt.show()"
      ],
      "execution_count": 91,
      "outputs": [
        {
          "output_type": "display_data",
          "data": {
            "image/png": "[encoded data removed]",
            "text/plain": [
              "<Figure size 576x360 with 1 Axes>"
            ]
          },
          "metadata": {
            "needs_background": "light"
          }
        }
      ]
    },
    {
      "cell_type": "markdown",
      "metadata": {
        "id": "Ey_jrLDl0bn4"
      },
      "source": [
        "## Unfreezing the pretrained layers"
      ]
    },
    {
      "cell_type": "code",
      "metadata": {
        "id": "ZFgtwWQ50aky"
      },
      "source": [
        "# For each layer in the pretrained model\n",
        "for layer in pretrained_model.layers:\n",
        "    # Unfreeze the layer\n",
        "    layer.trainable = True"
      ],
      "execution_count": 92,
      "outputs": []
    },
    {
      "cell_type": "markdown",
      "metadata": {
        "id": "kaNpWBGD2em3"
      },
      "source": [
        "## Compiling the model\n",
        "Compiling the model by using learning rate schedule with a gradient descent optimizer."
      ]
    },
    {
      "cell_type": "code",
      "metadata": {
        "id": "siC5t-pcTJNA"
      },
      "source": [
        "# Compile the model\n",
        "model.compile(optimizer=keras.optimizers.SGD(decay=1e-4),\n",
        "              loss='sparse_categorical_crossentropy',\n",
        "              metrics=['accuracy'])"
      ],
      "execution_count": 94,
      "outputs": []
    },
    {
      "cell_type": "markdown",
      "metadata": {
        "id": "4jF7fb1_3ypR"
      },
      "source": [
        "## Training the model"
      ]
    },
    {
      "cell_type": "code",
      "metadata": {
        "id": "RV6dVNO532HU",
        "colab": {
          "base_uri": "https://localhost:8080/"
        },
        "outputId": "0bdbd2fd-1a1e-40b3-9509-eb4a696083f8"
      },
      "source": [
        "# Train, evaluate and save the best model\n",
        "history = model.fit(data_train,\n",
        "                    epochs=5,\n",
        "                    validation_data=data_valid,\n",
        "                    callbacks=[model_checkpoint_cb,\n",
        "                               early_stopping_cb,\n",
        "                               reduce_lr_on_plateau_cb])"
      ],
      "execution_count": 95,
      "outputs": [
        {
          "output_type": "stream",
          "name": "stdout",
          "text": [
            "Epoch 1/5\n",
            "2188/2188 [==============================] - 263s 118ms/step - loss: 0.9581 - accuracy: 0.7153 - val_loss: 0.8472 - val_accuracy: 0.7555 - lr: 0.0100\n",
            "Epoch 2/5\n",
            "2188/2188 [==============================] - 244s 111ms/step - loss: 0.3961 - accuracy: 0.8808 - val_loss: 0.6681 - val_accuracy: 0.8045 - lr: 0.0100\n",
            "Epoch 3/5\n",
            "2188/2188 [==============================] - 244s 111ms/step - loss: 0.1777 - accuracy: 0.9527 - val_loss: 0.6419 - val_accuracy: 0.8185 - lr: 0.0100\n",
            "Epoch 4/5\n",
            "2188/2188 [==============================] - 244s 111ms/step - loss: 0.0928 - accuracy: 0.9806 - val_loss: 0.6328 - val_accuracy: 0.8249 - lr: 0.0100\n",
            "Epoch 5/5\n",
            "2188/2188 [==============================] - 242s 110ms/step - loss: 0.0540 - accuracy: 0.9915 - val_loss: 0.6395 - val_accuracy: 0.8263 - lr: 0.0100\n"
          ]
        }
      ]
    },
    {
      "cell_type": "markdown",
      "metadata": {
        "id": "jooIV3Tr38rw"
      },
      "source": [
        "## Plotting the learning curve"
      ]
    },
    {
      "cell_type": "code",
      "metadata": {
        "id": "ZdftIsbI3_nV",
        "colab": {
          "base_uri": "https://localhost:8080/",
          "height": 348
        },
        "outputId": "f0cbe13c-9cb8-4cb8-eb04-53adc585ca39"
      },
      "source": [
        "# Create a figure\n",
        "pd.DataFrame(history.history).plot(figsize=(8, 5))\n",
        "\n",
        "# Set grid\n",
        "plt.grid(True)\n",
        "\n",
        "# Save and show the figure\n",
        "plt.tight_layout()\n",
        "plt.savefig(abspath_curr + '/result/figure/learning_curve_after_unfreezing.pdf')\n",
        "plt.show()"
      ],
      "execution_count": 96,
      "outputs": [
        {
          "output_type": "display_data",
          "data": {
            "image/png": "[encoded data removed]",
            "text/plain": [
              "<Figure size 576x360 with 1 Axes>"
            ]
          },
          "metadata": {
            "needs_background": "light"
          }
        }
      ]
    },
    {
      "cell_type": "markdown",
      "metadata": {
        "id": "RkGivY_MA6m1"
      },
      "source": [
        "# Testing"
      ]
    },
    {
      "cell_type": "markdown",
      "metadata": {
        "id": "YAfOtSI7wajL"
      },
      "source": [
        "## Evaluating the model"
      ]
    },
    {
      "cell_type": "markdown",
      "metadata": {
        "id": "21JTyg09S2nu"
      },
      "source": [
        "This model has accuracy of 0.8265"
      ]
    },
    {
      "cell_type": "code",
      "metadata": {
        "id": "aoJnAfYfYDjH",
        "scrolled": true,
        "colab": {
          "base_uri": "https://localhost:8080/"
        },
        "outputId": "97b84305-98e9-4714-980b-0878b411a8f6"
      },
      "source": [
        "loss, accuracy = model.evaluate(data_test)"
      ],
      "execution_count": 97,
      "outputs": [
        {
          "output_type": "stream",
          "name": "stdout",
          "text": [
            "625/625 [==============================] - 19s 31ms/step - loss: 0.6461 - accuracy: 0.8265\n"
          ]
        }
      ]
    },
    {
      "cell_type": "markdown",
      "metadata": {
        "id": "KeR3L0fsmq1G"
      },
      "source": [
        "# Reference\n",
        "- The code for building, compiling and training CNNs were largely inspired by the following work:\n",
        "    - Géron, A., 2019. *Hands-On Machine Learning with Scikit-Learn, Keras, and TensorFlow: Concepts, Tools, and Techniques to Build Intelligent Systems*. O'Reilly Media.\n",
        "\n",
        "- The deep utitilities and pipeline (including data preprocessing, building, compiling and training DNNs) implemented in [/p3 c2 s3 convolutional_neural_networks/case_study](https://github.com/yuxiaohuang/teaching/blob/master/gwu/machine_learning_I/fall_2021/code/p3_deep_learning/p3_c2_supervised_learning/p3_c2_s3_convolutional_neural_networks/case_study/case_study.ipynb)\n",
        "    - Huang, Yuxiao, 2021. \"Machine Learning I\". Fall 2021.\n",
        "\n",
        "- This tech report (Chapter 3) describes the dataset and the methodology followed when collecting it in much greater detail. \n",
        "    - Krizhevsky, A., 2009. Learning Multiple Layers of Features from Tiny Images."
      ]
    }
  ]
}